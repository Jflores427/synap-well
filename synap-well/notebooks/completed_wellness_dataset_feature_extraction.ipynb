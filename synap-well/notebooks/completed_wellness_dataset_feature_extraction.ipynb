{
  "cells": [
    {
      "cell_type": "code",
      "execution_count": null,
      "metadata": {
        "id": "v315aNpPzRMP"
      },
      "outputs": [
        {
          "name": "stdout",
          "output_type": "stream",
          "text": [
            "Note: you may need to restart the kernel to use updated packages.\n"
          ]
        },
        {
          "name": "stderr",
          "output_type": "stream",
          "text": [
            "WARNING: Ignoring invalid distribution ~ensorflow (C:\\Users\\Josue\\AppData\\Roaming\\Python\\Python312\\site-packages)\n",
            "WARNING: Ignoring invalid distribution ~ensorflow (C:\\Users\\Josue\\AppData\\Roaming\\Python\\Python312\\site-packages)\n",
            "WARNING: Ignoring invalid distribution ~ensorflow (C:\\Users\\Josue\\AppData\\Roaming\\Python\\Python312\\site-packages)\n",
            "\n",
            "[notice] A new release of pip is available: 25.0 -> 25.1\n",
            "[notice] To update, run: python.exe -m pip install --upgrade pip\n"
          ]
        }
      ],
      "source": [
        "# %pip install kaggle kagglehub openpyxl transformers --quiet"
      ]
    },
    {
      "cell_type": "code",
      "execution_count": 9,
      "metadata": {
        "id": "iVHpD3B8zoye"
      },
      "outputs": [],
      "source": [
        "import kagglehub\n",
        "import pandas as pd\n",
        "import numpy as np\n",
        "import os\n",
        "import re\n",
        "import requests\n",
        "import seaborn as sns\n",
        "import matplotlib.pyplot as plt\n",
        "from sklearn.cluster import KMeans\n",
        "from sklearn.preprocessing import StandardScaler, LabelEncoder\n",
        "from transformers import pipeline\n",
        "from sklearn.model_selection import train_test_split\n",
        "from sklearn.ensemble import RandomForestClassifier\n",
        "from sklearn.metrics import classification_report"
      ]
    },
    {
      "cell_type": "code",
      "execution_count": 10,
      "metadata": {
        "colab": {
          "base_uri": "https://localhost:8080/"
        },
        "id": "xbV8rxb30rQD",
        "outputId": "27b42b1e-79fa-4417-e4ea-034fce16cd95"
      },
      "outputs": [
        {
          "name": "stdout",
          "output_type": "stream",
          "text": [
            "Path to dataset files: C:\\Users\\Josue\\.cache\\kagglehub\\datasets\\fatmamtalaat\\wellness-dataset-dr-fatma-m-talaat\\versions\\1\n"
          ]
        }
      ],
      "source": [
        "path = kagglehub.dataset_download(\"fatmamtalaat/wellness-dataset-dr-fatma-m-talaat\")\n",
        "print(\"Path to dataset files:\", path)"
      ]
    },
    {
      "cell_type": "code",
      "execution_count": 11,
      "metadata": {
        "colab": {
          "base_uri": "https://localhost:8080/",
          "height": 591
        },
        "id": "-foIsfEa1A5j",
        "outputId": "321ff275-25f7-4a51-bcc5-40fd4411e275"
      },
      "outputs": [
        {
          "data": {
            "text/html": [
              "<div>\n",
              "<style scoped>\n",
              "    .dataframe tbody tr th:only-of-type {\n",
              "        vertical-align: middle;\n",
              "    }\n",
              "\n",
              "    .dataframe tbody tr th {\n",
              "        vertical-align: top;\n",
              "    }\n",
              "\n",
              "    .dataframe thead th {\n",
              "        text-align: right;\n",
              "    }\n",
              "</style>\n",
              "<table border=\"1\" class=\"dataframe\">\n",
              "  <thead>\n",
              "    <tr style=\"text-align: right;\">\n",
              "      <th></th>\n",
              "      <th>Duration of Sleep (hours)</th>\n",
              "      <th>Level of Physical Activity (minutes per day)</th>\n",
              "      <th>Level of Stress (scale: 1–10)</th>\n",
              "      <th>BMI Category</th>\n",
              "      <th>Heart Rate (bpm)</th>\n",
              "      <th>Systolic and Diastolic Blood Pressure</th>\n",
              "      <th>Nutrition Intake (calories, breakdown of nutrients, etc.)</th>\n",
              "      <th>Level of Workload (scale: 1–10)</th>\n",
              "      <th>Quality or frequency of social interactions</th>\n",
              "      <th>Activities for Mental Health (such as therapy sessions or meditation)</th>\n",
              "      <th>Environmental Aspects (such as weather and air quality)</th>\n",
              "      <th>Lifestyle Decisions (such as drinking and smoking)</th>\n",
              "      <th>Additional health indicators (e.g., water levels, steps)</th>\n",
              "      <th>Mood Output</th>\n",
              "    </tr>\n",
              "  </thead>\n",
              "  <tbody>\n",
              "    <tr>\n",
              "      <th>0</th>\n",
              "      <td>7.5</td>\n",
              "      <td>30</td>\n",
              "      <td>5</td>\n",
              "      <td>Normal</td>\n",
              "      <td>72</td>\n",
              "      <td>120/80</td>\n",
              "      <td>2000 calories (balanced diet)</td>\n",
              "      <td>6</td>\n",
              "      <td>Good, frequent</td>\n",
              "      <td>Meditation daily</td>\n",
              "      <td>Sunny, good air quality</td>\n",
              "      <td>No alcohol, no smoking</td>\n",
              "      <td>2 liters, 10,000 steps</td>\n",
              "      <td>Happy</td>\n",
              "    </tr>\n",
              "    <tr>\n",
              "      <th>1</th>\n",
              "      <td>6.8</td>\n",
              "      <td>45</td>\n",
              "      <td>3</td>\n",
              "      <td>Overweight</td>\n",
              "      <td>75</td>\n",
              "      <td>118/78</td>\n",
              "      <td>2500 calories (high in carbs)</td>\n",
              "      <td>7</td>\n",
              "      <td>Moderate, occasional</td>\n",
              "      <td>NaN</td>\n",
              "      <td>Rainy, poor air quality</td>\n",
              "      <td>Occasional alcohol, no smoking</td>\n",
              "      <td>1.5 liters, 8000 steps</td>\n",
              "      <td>Neutral</td>\n",
              "    </tr>\n",
              "    <tr>\n",
              "      <th>2</th>\n",
              "      <td>8.2</td>\n",
              "      <td>15</td>\n",
              "      <td>8</td>\n",
              "      <td>Underweight</td>\n",
              "      <td>68</td>\n",
              "      <td>115/75</td>\n",
              "      <td>1800 calories (low in protein)</td>\n",
              "      <td>9</td>\n",
              "      <td>Low, infrequent</td>\n",
              "      <td>Therapy sessions weekly</td>\n",
              "      <td>Sunny, good air quality</td>\n",
              "      <td>No alcohol, no smoking</td>\n",
              "      <td>2.5 liters, 5000 steps</td>\n",
              "      <td>Sad</td>\n",
              "    </tr>\n",
              "    <tr>\n",
              "      <th>3</th>\n",
              "      <td>7.0</td>\n",
              "      <td>60</td>\n",
              "      <td>4</td>\n",
              "      <td>Normal</td>\n",
              "      <td>70</td>\n",
              "      <td>122/82</td>\n",
              "      <td>2200 calories (healthy diet)</td>\n",
              "      <td>5</td>\n",
              "      <td>Very good, daily</td>\n",
              "      <td>Yoga twice a week</td>\n",
              "      <td>Cloudy, moderate air quality</td>\n",
              "      <td>No alcohol, no smoking</td>\n",
              "      <td>2 liters, 12000 steps</td>\n",
              "      <td>Happy</td>\n",
              "    </tr>\n",
              "    <tr>\n",
              "      <th>4</th>\n",
              "      <td>5.5</td>\n",
              "      <td>10</td>\n",
              "      <td>9</td>\n",
              "      <td>Obese</td>\n",
              "      <td>80</td>\n",
              "      <td>130/90</td>\n",
              "      <td>3000 calories (unhealthy)</td>\n",
              "      <td>10</td>\n",
              "      <td>Poor, infrequent</td>\n",
              "      <td>NaN</td>\n",
              "      <td>Sunny, good air quality</td>\n",
              "      <td>Daily alcohol, occasional smoking</td>\n",
              "      <td>1 liter, 3000 steps</td>\n",
              "      <td>Sad</td>\n",
              "    </tr>\n",
              "  </tbody>\n",
              "</table>\n",
              "</div>"
            ],
            "text/plain": [
              "   Duration of Sleep (hours)  Level of Physical Activity (minutes per day)  \\\n",
              "0                        7.5                                            30   \n",
              "1                        6.8                                            45   \n",
              "2                        8.2                                            15   \n",
              "3                        7.0                                            60   \n",
              "4                        5.5                                            10   \n",
              "\n",
              "   Level of Stress (scale: 1–10) BMI Category  Heart Rate (bpm)  \\\n",
              "0                              5       Normal                72   \n",
              "1                              3   Overweight                75   \n",
              "2                              8  Underweight                68   \n",
              "3                              4       Normal                70   \n",
              "4                              9        Obese                80   \n",
              "\n",
              "  Systolic and Diastolic Blood Pressure  \\\n",
              "0                                120/80   \n",
              "1                                118/78   \n",
              "2                                115/75   \n",
              "3                                122/82   \n",
              "4                                130/90   \n",
              "\n",
              "  Nutrition Intake (calories, breakdown of nutrients, etc.)  \\\n",
              "0                      2000 calories (balanced diet)          \n",
              "1                      2500 calories (high in carbs)          \n",
              "2                     1800 calories (low in protein)          \n",
              "3                       2200 calories (healthy diet)          \n",
              "4                          3000 calories (unhealthy)          \n",
              "\n",
              "   Level of Workload (scale: 1–10)  \\\n",
              "0                                6   \n",
              "1                                7   \n",
              "2                                9   \n",
              "3                                5   \n",
              "4                               10   \n",
              "\n",
              "  Quality or frequency of social interactions  \\\n",
              "0                              Good, frequent   \n",
              "1                        Moderate, occasional   \n",
              "2                             Low, infrequent   \n",
              "3                            Very good, daily   \n",
              "4                            Poor, infrequent   \n",
              "\n",
              "  Activities for Mental Health (such as therapy sessions or meditation)  \\\n",
              "0                                   Meditation daily                      \n",
              "1                                                NaN                      \n",
              "2                            Therapy sessions weekly                      \n",
              "3                                  Yoga twice a week                      \n",
              "4                                                NaN                      \n",
              "\n",
              "  Environmental Aspects (such as weather and air quality)  \\\n",
              "0                            Sunny, good air quality        \n",
              "1                            Rainy, poor air quality        \n",
              "2                            Sunny, good air quality        \n",
              "3                       Cloudy, moderate air quality        \n",
              "4                            Sunny, good air quality        \n",
              "\n",
              "  Lifestyle Decisions (such as drinking and smoking)  \\\n",
              "0                             No alcohol, no smoking   \n",
              "1                     Occasional alcohol, no smoking   \n",
              "2                             No alcohol, no smoking   \n",
              "3                             No alcohol, no smoking   \n",
              "4                  Daily alcohol, occasional smoking   \n",
              "\n",
              "  Additional health indicators (e.g., water levels, steps) Mood Output  \n",
              "0                             2 liters, 10,000 steps             Happy  \n",
              "1                             1.5 liters, 8000 steps           Neutral  \n",
              "2                             2.5 liters, 5000 steps               Sad  \n",
              "3                              2 liters, 12000 steps             Happy  \n",
              "4                                1 liter, 3000 steps               Sad  "
            ]
          },
          "execution_count": 11,
          "metadata": {},
          "output_type": "execute_result"
        }
      ],
      "source": [
        "excel_path = os.path.join(path, \"Wellness Dataset - Dr.Fatma M. Talaat.xlsx\")\n",
        "df = pd.read_excel(excel_path)\n",
        "df.head()"
      ]
    },
    {
      "cell_type": "code",
      "execution_count": 12,
      "metadata": {
        "colab": {
          "base_uri": "https://localhost:8080/"
        },
        "id": "8S_hZARn1TGj",
        "outputId": "873727ca-9bd0-4995-a4c1-0420a887d7ff"
      },
      "outputs": [
        {
          "name": "stdout",
          "output_type": "stream",
          "text": [
            "['Duration of Sleep (hours)', 'Level of Physical Activity (minutes per day)', 'Level of Stress (scale: 1–10)', 'BMI Category', 'Heart Rate (bpm)', 'Systolic and Diastolic Blood Pressure', 'Nutrition Intake (calories, breakdown of nutrients, etc.)', 'Level of Workload (scale: 1–10)', 'Quality or frequency of social interactions', 'Activities for Mental Health (such as therapy sessions or meditation)', 'Environmental Aspects (such as weather and air quality)', 'Lifestyle Decisions (such as drinking and smoking)', 'Additional health indicators (e.g., water levels, steps)', 'Mood Output']\n"
          ]
        }
      ],
      "source": [
        "print(df.columns.tolist())\n"
      ]
    },
    {
      "cell_type": "code",
      "execution_count": 13,
      "metadata": {
        "colab": {
          "base_uri": "https://localhost:8080/"
        },
        "id": "rCVQeAf6KKtd",
        "outputId": "4be09e84-5290-49c9-c16f-a3dca8e729fa"
      },
      "outputs": [
        {
          "name": "stdout",
          "output_type": "stream",
          "text": [
            "['duration_of_sleep_hours', 'level_of_physical_activity_minutes_per_day', 'level_of_stress_scale_110', 'bmi_category', 'heart_rate_bpm', 'systolic_and_diastolic_blood_pressure', 'nutrition_intake_calories_breakdown_of_nutrients_etc', 'level_of_workload_scale_110', 'quality_or_frequency_of_social_interactions', 'activities_for_mental_health_such_as_therapy_sessions_or_meditation', 'environmental_aspects_such_as_weather_and_air_quality', 'lifestyle_decisions_such_as_drinking_and_smoking', 'additional_health_indicators_eg_water_levels_steps', 'mood_output']\n"
          ]
        }
      ],
      "source": [
        "# Clean column names: lowercase, underscores, remove punctuation\n",
        "df.columns = (\n",
        "    df.columns\n",
        "    .str.strip()\n",
        "    .str.lower()\n",
        "    .str.replace(r\"[^\\w\\s]\", \"\", regex=True)\n",
        "    .str.replace(r\"\\s+\", \"_\", regex=True)\n",
        ")\n",
        "\n",
        "print(df.columns.tolist())\n"
      ]
    },
    {
      "cell_type": "code",
      "execution_count": 14,
      "metadata": {
        "id": "k5OIoj1yTv_Q"
      },
      "outputs": [],
      "source": [
        "def extract_steps(text):\n",
        "    indicator = text\n",
        "    try:\n",
        "        steps_text = indicator.split(',', 1)[-1].strip()  # Get last part like \"10,000 steps\"\n",
        "        steps_number = int(steps_text.split(\" \")[0].replace(',', ''))  # Remove comma and convert to int\n",
        "        return steps_number\n",
        "    except (IndexError, ValueError, AttributeError):\n",
        "        return 0\n",
        "\n",
        "df['extracted_steps'] = df['additional_health_indicators_eg_water_levels_steps'].apply(extract_steps)"
      ]
    },
    {
      "cell_type": "code",
      "execution_count": 15,
      "metadata": {
        "colab": {
          "base_uri": "https://localhost:8080/"
        },
        "id": "UP5Zp9g6rPmh",
        "outputId": "6dd3e823-5be8-4fd0-c7a0-c23d4a9fc510"
      },
      "outputs": [
        {
          "name": "stdout",
          "output_type": "stream",
          "text": [
            "mood_output_encoded                           1.000000\n",
            "level_of_workload_scale_110                   0.879303\n",
            "level_of_stress_scale_110                     0.836217\n",
            "heart_rate_bpm                                0.552565\n",
            "level_of_physical_activity_minutes_per_day   -0.278266\n",
            "duration_of_sleep_hours                      -0.529095\n",
            "extracted_steps                              -0.549012\n",
            "Name: mood_output_encoded, dtype: float64\n"
          ]
        }
      ],
      "source": [
        "# Correlation Matrix\n",
        "if 'mood_output' in df.columns:\n",
        "    if df['mood_output'].dtype == 'object':\n",
        "        le = LabelEncoder()\n",
        "        df['mood_output_encoded'] = le.fit_transform(df['mood_output'])\n",
        "        target_col = 'mood_output_encoded'\n",
        "    else:\n",
        "        target_col = 'mood_output'\n",
        "\n",
        "    numeric_df = df.select_dtypes(include='number')\n",
        "    corr_matrix = numeric_df.corr()[target_col].sort_values(ascending=False)\n",
        "    print(corr_matrix)\n",
        "else:\n",
        "    print(\"Column 'mood_output' not found.\")\n"
      ]
    },
    {
      "cell_type": "markdown",
      "metadata": {
        "id": "O-_XKzPN7ckC"
      },
      "source": [
        "## 1. Demographic Health Grouping"
      ]
    },
    {
      "cell_type": "code",
      "execution_count": 16,
      "metadata": {
        "colab": {
          "base_uri": "https://localhost:8080/"
        },
        "id": "3oxi3UKxyO8O",
        "outputId": "1c3fb9bb-09e4-4413-b56c-94b048dba7a0"
      },
      "outputs": [
        {
          "name": "stdout",
          "output_type": "stream",
          "text": [
            "demographic_health_grouping\n",
            "UNHEALTHY_CONSUMPTION    440\n",
            "HEALTHY_CONSUMPTION      261\n",
            "NEUTRAL_CONSUMPTION       36\n",
            "Name: count, dtype: int64\n"
          ]
        }
      ],
      "source": [
        "def calculate_bmi(weight_lbs, height_in):\n",
        "    # Helper function to calculate BMI\n",
        "    weight_kg = weight_lbs / 2.20462\n",
        "    height_m = height_in * 2.54 / 100\n",
        "    return weight_kg / (height_m ** 2)\n",
        "\n",
        "def get_recommended_calories(age, gender, activity_minutes):\n",
        "    # Helper function to get recommended daily calorie intake\n",
        "    if gender.lower() == 'male':\n",
        "        if age < 30:\n",
        "            base = 2500\n",
        "        elif age < 50:\n",
        "            base = 2400\n",
        "        else:\n",
        "            base = 2200\n",
        "    else:  # female\n",
        "        if age < 30:\n",
        "            base = 2000\n",
        "        elif age < 50:\n",
        "            base = 1900\n",
        "        else:\n",
        "            base = 1800\n",
        "\n",
        "    # Adjust based on activity level\n",
        "    if activity_minutes >= 60:\n",
        "        adjustment = 200  # active\n",
        "    elif activity_minutes >= 30:\n",
        "        adjustment = 100  # moderately active\n",
        "    else:\n",
        "        adjustment = 0  # sedentary\n",
        "\n",
        "    return base + adjustment\n",
        "\n",
        "# Function to classify demographic grouping based on minutes of activity/steps\n",
        "def classify_demographic_grouping(row, height_in=\"\", weight_lbs=\"\", age = 25, gender = 'female'):\n",
        "    activity_minutes = float(row.get('level_of_physical_activity_minutes_per_day', 20))\n",
        "\n",
        "    nutrition_intake = 0\n",
        "\n",
        "    try:\n",
        "        nutrition_text = row['nutrition_intake_calories_breakdown_of_nutrients_etc']\n",
        "        match = re.search(r\"(\\d+)\\s*[cC]alories\", nutrition_text)\n",
        "        if match:\n",
        "            calories = int(match.group(1))\n",
        "            # print(\"Calories:\", calories)\n",
        "            nutrition_intake = calories\n",
        "        else:\n",
        "            raise ValueError(\"Calories cannnot be read.\")\n",
        "        # nutrition_intake = float(row['nutrition_intake_calories_breakdown_of_nutrients_etc'])\n",
        "    except (ValueError, TypeError,AttributeError, IndexError):\n",
        "        return 'NEUTRAL_CONSUMPTION'\n",
        "\n",
        "    try:\n",
        "        if height_in and weight_lbs:\n",
        "            bmi = calculate_bmi(float(weight_lbs), float(height_in))\n",
        "        else:\n",
        "            category = str(row.get('bmi_category', 'normal')).lower()\n",
        "            bmi_values = {'underweight': 17, 'normal': 22, 'overweight': 27, 'obese': 32}\n",
        "            bmi = bmi_values.get(category, 22)\n",
        "    except (ValueError, TypeError):\n",
        "        bmi = 22\n",
        "\n",
        "    if bmi < 18.5:\n",
        "        bmi_category = 'underweight'\n",
        "    elif 25 <= bmi < 30:\n",
        "        bmi_category = 'overweight'\n",
        "    elif bmi >= 30:\n",
        "        bmi_category = 'obese'\n",
        "    else:\n",
        "        bmi_category = 'normal'\n",
        "\n",
        "    factor = {'underweight': 1.25, 'normal': 1.0, 'overweight': 0.7, 'obese': 0.7}[bmi_category]\n",
        "    recommended = get_recommended_calories(age, gender, activity_minutes)\n",
        "    target = recommended * factor\n",
        "\n",
        "    if abs(nutrition_intake - target) <= 200:\n",
        "        return 'HEALTHY_CONSUMPTION'\n",
        "    elif abs(nutrition_intake - target) <= 400:\n",
        "        return 'NEUTRAL_CONSUMPTION'\n",
        "    else:\n",
        "        return 'UNHEALTHY_CONSUMPTION'\n",
        "\n",
        "# Apply classification to the dataset\n",
        "df['demographic_health_grouping'] = df.apply(lambda row: classify_demographic_grouping(\n",
        "        row),\n",
        "    axis=1)\n",
        "\n",
        "print(df['demographic_health_grouping'].value_counts())\n"
      ]
    },
    {
      "cell_type": "markdown",
      "metadata": {
        "id": "vcfHDMU77ZIp"
      },
      "source": [
        "## 2. Lifestyle Grouping"
      ]
    },
    {
      "cell_type": "code",
      "execution_count": 17,
      "metadata": {
        "id": "icq31IJo16Q0"
      },
      "outputs": [],
      "source": [
        "def classify_lifestyle_grouping(row, age_group='adult'):\n",
        "    sleep_hours = row['duration_of_sleep_hours']\n",
        "    heart_rate = row['heart_rate_bpm']\n",
        "    blood_pressure = row['systolic_and_diastolic_blood_pressure']\n",
        "\n",
        "    # Define good sleep ranges by age group\n",
        "    sleep_ranges = {\n",
        "        'adult': (7, 9),\n",
        "        'young_adult': (7, 9),\n",
        "        'older_adult': (7, 8)\n",
        "    }\n",
        "    sleep_good_range = sleep_ranges.get(age_group, (7, 9))\n",
        "\n",
        "    # Parse BP safely\n",
        "    systolic, diastolic = 120, 80\n",
        "    if isinstance(blood_pressure, str) and '/' in blood_pressure:\n",
        "        try:\n",
        "            systolic, diastolic = map(int, blood_pressure.split('/'))\n",
        "        except ValueError:\n",
        "            pass  # fallback defaults\n",
        "\n",
        "    # Evaluate individual metrics\n",
        "    good_sleep = sleep_good_range[0] <= sleep_hours <= sleep_good_range[1]\n",
        "    good_heart = 60 <= heart_rate <= 100\n",
        "    good_bp = systolic < 130 and diastolic < 80\n",
        "\n",
        "    # Create descriptive labels\n",
        "    sleep_health = 'GOOD_SLEEP' if good_sleep else 'POOR_SLEEP'\n",
        "    heart_health = 'GOOD_HEART_RATE' if good_heart else 'POOR_HEART_RATE'\n",
        "    bp_health = 'GOOD_BLOOD_PRESSURE' if good_bp else 'POOR_BLOOD_PRESSURE'\n",
        "\n",
        "    # Overall lifestyle grouping\n",
        "    if good_sleep and good_heart and good_bp:\n",
        "        lifestyle = 'GOOD'\n",
        "    elif good_sleep or good_heart or good_bp:\n",
        "        lifestyle = 'NEUTRAL'\n",
        "    else:\n",
        "        lifestyle = 'POOR'\n",
        "\n",
        "    return pd.Series([sleep_health, heart_health, bp_health, lifestyle])\n",
        "\n",
        "# Apply to dataframe and assign new columns\n",
        "df[['sleep_health', 'heart_health', 'bp_health', 'lifestyle_grouping']] = df.apply(\n",
        "    lambda row: classify_lifestyle_grouping(row),\n",
        "    axis=1\n",
        ")\n"
      ]
    },
    {
      "cell_type": "code",
      "execution_count": 18,
      "metadata": {
        "colab": {
          "base_uri": "https://localhost:8080/"
        },
        "id": "YIyblbkPGeFi",
        "outputId": "833e3632-4938-43d5-f69d-7354ff0e0c52"
      },
      "outputs": [
        {
          "name": "stdout",
          "output_type": "stream",
          "text": [
            "Index(['duration_of_sleep_hours', 'level_of_physical_activity_minutes_per_day',\n",
            "       'level_of_stress_scale_110', 'bmi_category', 'heart_rate_bpm',\n",
            "       'systolic_and_diastolic_blood_pressure',\n",
            "       'nutrition_intake_calories_breakdown_of_nutrients_etc',\n",
            "       'level_of_workload_scale_110',\n",
            "       'quality_or_frequency_of_social_interactions',\n",
            "       'activities_for_mental_health_such_as_therapy_sessions_or_meditation',\n",
            "       'environmental_aspects_such_as_weather_and_air_quality',\n",
            "       'lifestyle_decisions_such_as_drinking_and_smoking',\n",
            "       'additional_health_indicators_eg_water_levels_steps', 'mood_output',\n",
            "       'extracted_steps', 'mood_output_encoded', 'demographic_health_grouping',\n",
            "       'sleep_health', 'heart_health', 'bp_health', 'lifestyle_grouping'],\n",
            "      dtype='object')\n"
          ]
        }
      ],
      "source": [
        "print(df.columns)"
      ]
    },
    {
      "cell_type": "code",
      "execution_count": 19,
      "metadata": {
        "colab": {
          "base_uri": "https://localhost:8080/",
          "height": 226
        },
        "id": "8v9q-lVJ-EhK",
        "outputId": "b8caf767-7b1f-4b9e-ba66-3a85a8b3ab27"
      },
      "outputs": [
        {
          "data": {
            "text/html": [
              "<div>\n",
              "<style scoped>\n",
              "    .dataframe tbody tr th:only-of-type {\n",
              "        vertical-align: middle;\n",
              "    }\n",
              "\n",
              "    .dataframe tbody tr th {\n",
              "        vertical-align: top;\n",
              "    }\n",
              "\n",
              "    .dataframe thead th {\n",
              "        text-align: right;\n",
              "    }\n",
              "</style>\n",
              "<table border=\"1\" class=\"dataframe\">\n",
              "  <thead>\n",
              "    <tr style=\"text-align: right;\">\n",
              "      <th></th>\n",
              "      <th>sleep_health</th>\n",
              "      <th>heart_health</th>\n",
              "      <th>bp_health</th>\n",
              "      <th>lifestyle_grouping</th>\n",
              "    </tr>\n",
              "  </thead>\n",
              "  <tbody>\n",
              "    <tr>\n",
              "      <th>0</th>\n",
              "      <td>GOOD_SLEEP</td>\n",
              "      <td>GOOD_HEART_RATE</td>\n",
              "      <td>POOR_BLOOD_PRESSURE</td>\n",
              "      <td>NEUTRAL</td>\n",
              "    </tr>\n",
              "    <tr>\n",
              "      <th>1</th>\n",
              "      <td>POOR_SLEEP</td>\n",
              "      <td>GOOD_HEART_RATE</td>\n",
              "      <td>GOOD_BLOOD_PRESSURE</td>\n",
              "      <td>NEUTRAL</td>\n",
              "    </tr>\n",
              "    <tr>\n",
              "      <th>2</th>\n",
              "      <td>GOOD_SLEEP</td>\n",
              "      <td>GOOD_HEART_RATE</td>\n",
              "      <td>GOOD_BLOOD_PRESSURE</td>\n",
              "      <td>GOOD</td>\n",
              "    </tr>\n",
              "    <tr>\n",
              "      <th>3</th>\n",
              "      <td>GOOD_SLEEP</td>\n",
              "      <td>GOOD_HEART_RATE</td>\n",
              "      <td>POOR_BLOOD_PRESSURE</td>\n",
              "      <td>NEUTRAL</td>\n",
              "    </tr>\n",
              "    <tr>\n",
              "      <th>4</th>\n",
              "      <td>POOR_SLEEP</td>\n",
              "      <td>GOOD_HEART_RATE</td>\n",
              "      <td>POOR_BLOOD_PRESSURE</td>\n",
              "      <td>NEUTRAL</td>\n",
              "    </tr>\n",
              "  </tbody>\n",
              "</table>\n",
              "</div>"
            ],
            "text/plain": [
              "  sleep_health     heart_health            bp_health lifestyle_grouping\n",
              "0   GOOD_SLEEP  GOOD_HEART_RATE  POOR_BLOOD_PRESSURE            NEUTRAL\n",
              "1   POOR_SLEEP  GOOD_HEART_RATE  GOOD_BLOOD_PRESSURE            NEUTRAL\n",
              "2   GOOD_SLEEP  GOOD_HEART_RATE  GOOD_BLOOD_PRESSURE               GOOD\n",
              "3   GOOD_SLEEP  GOOD_HEART_RATE  POOR_BLOOD_PRESSURE            NEUTRAL\n",
              "4   POOR_SLEEP  GOOD_HEART_RATE  POOR_BLOOD_PRESSURE            NEUTRAL"
            ]
          },
          "execution_count": 19,
          "metadata": {},
          "output_type": "execute_result"
        }
      ],
      "source": [
        "df[[\n",
        "    'sleep_health', 'heart_health', 'bp_health', 'lifestyle_grouping']].head()\n"
      ]
    },
    {
      "cell_type": "markdown",
      "metadata": {
        "id": "9mNCP-W97Vwg"
      },
      "source": [
        "## 3. Activity Level Grouping"
      ]
    },
    {
      "cell_type": "code",
      "execution_count": 20,
      "metadata": {
        "colab": {
          "base_uri": "https://localhost:8080/"
        },
        "id": "vumAHS6D2CIx",
        "outputId": "22924f4f-44bd-4cd8-df3e-2ca944922e27"
      },
      "outputs": [
        {
          "name": "stdout",
          "output_type": "stream",
          "text": [
            "     duration_of_sleep_hours  level_of_physical_activity_minutes_per_day  \\\n",
            "0                        7.5                                          30   \n",
            "1                        6.8                                          45   \n",
            "2                        8.2                                          15   \n",
            "3                        7.0                                          60   \n",
            "4                        5.5                                          10   \n",
            "..                       ...                                         ...   \n",
            "732                      6.6                                          45   \n",
            "733                      8.0                                          15   \n",
            "734                      7.4                                          60   \n",
            "735                      5.2                                          10   \n",
            "736                      7.6                                          30   \n",
            "\n",
            "     level_of_stress_scale_110 bmi_category  heart_rate_bpm  \\\n",
            "0                            5       Normal              72   \n",
            "1                            3   Overweight              75   \n",
            "2                            8  Underweight              68   \n",
            "3                            4       Normal              70   \n",
            "4                            9        Obese              80   \n",
            "..                         ...          ...             ...   \n",
            "732                          4   Overweight              76   \n",
            "733                          8  Underweight              65   \n",
            "734                          2       Normal              70   \n",
            "735                          9        Obese              82   \n",
            "736                          1       Normal              63   \n",
            "\n",
            "    systolic_and_diastolic_blood_pressure  \\\n",
            "0                                  120/80   \n",
            "1                                  118/78   \n",
            "2                                  115/75   \n",
            "3                                  122/82   \n",
            "4                                  130/90   \n",
            "..                                    ...   \n",
            "732                                120/80   \n",
            "733                                110/70   \n",
            "734                                124/84   \n",
            "735                                135/95   \n",
            "736                                108/68   \n",
            "\n",
            "    nutrition_intake_calories_breakdown_of_nutrients_etc  \\\n",
            "0                        2000 calories (balanced diet)     \n",
            "1                        2500 calories (high in carbs)     \n",
            "2                       1800 calories (low in protein)     \n",
            "3                         2200 calories (healthy diet)     \n",
            "4                            3000 calories (unhealthy)     \n",
            "..                                                 ...     \n",
            "732                      2600 calories (high in carbs)     \n",
            "733                     1850 calories (low in protein)     \n",
            "734                       2250 calories (healthy diet)     \n",
            "735                          3200 calories (unhealthy)     \n",
            "736                      2100 calories (balanced diet)     \n",
            "\n",
            "     level_of_workload_scale_110 quality_or_frequency_of_social_interactions  \\\n",
            "0                              6                              Good, frequent   \n",
            "1                              7                        Moderate, occasional   \n",
            "2                              9                             Low, infrequent   \n",
            "3                              5                            Very good, daily   \n",
            "4                             10                            Poor, infrequent   \n",
            "..                           ...                                         ...   \n",
            "732                            7                        Moderate, occasional   \n",
            "733                            9                             Low, infrequent   \n",
            "734                            4                            Very good, daily   \n",
            "735                           10                            Poor, infrequent   \n",
            "736                            3                              Good, frequent   \n",
            "\n",
            "    activities_for_mental_health_such_as_therapy_sessions_or_meditation  ...  \\\n",
            "0                                     Meditation daily                   ...   \n",
            "1                                                  NaN                   ...   \n",
            "2                              Therapy sessions weekly                   ...   \n",
            "3                                    Yoga twice a week                   ...   \n",
            "4                                                  NaN                   ...   \n",
            "..                                                 ...                   ...   \n",
            "732                                                NaN                   ...   \n",
            "733                            Therapy sessions weekly                   ...   \n",
            "734                                  Yoga twice a week                   ...   \n",
            "735                                                NaN                   ...   \n",
            "736                                   Meditation daily                   ...   \n",
            "\n",
            "    additional_health_indicators_eg_water_levels_steps mood_output  \\\n",
            "0                               2 liters, 10,000 steps       Happy   \n",
            "1                               1.5 liters, 8000 steps     Neutral   \n",
            "2                               2.5 liters, 5000 steps         Sad   \n",
            "3                                2 liters, 12000 steps       Happy   \n",
            "4                                  1 liter, 3000 steps         Sad   \n",
            "..                                                 ...         ...   \n",
            "732                             1.6 liters, 8500 steps     Neutral   \n",
            "733                             2.8 liters, 5500 steps         Sad   \n",
            "734                            2.4 liters, 12500 steps       Happy   \n",
            "735                             1.2 liters, 3500 steps         Sad   \n",
            "736                             2.6 liters, 9500 steps     Neutral   \n",
            "\n",
            "    extracted_steps mood_output_encoded  demographic_health_grouping  \\\n",
            "0             10000                   0          HEALTHY_CONSUMPTION   \n",
            "1              8000                   1        UNHEALTHY_CONSUMPTION   \n",
            "2              5000                   2        UNHEALTHY_CONSUMPTION   \n",
            "3             12000                   0          HEALTHY_CONSUMPTION   \n",
            "4              3000                   2        UNHEALTHY_CONSUMPTION   \n",
            "..              ...                 ...                          ...   \n",
            "732            8500                   1        UNHEALTHY_CONSUMPTION   \n",
            "733            5500                   2        UNHEALTHY_CONSUMPTION   \n",
            "734           12500                   0          HEALTHY_CONSUMPTION   \n",
            "735            3500                   2        UNHEALTHY_CONSUMPTION   \n",
            "736            9500                   1          HEALTHY_CONSUMPTION   \n",
            "\n",
            "     sleep_health     heart_health            bp_health lifestyle_grouping  \\\n",
            "0      GOOD_SLEEP  GOOD_HEART_RATE  POOR_BLOOD_PRESSURE            NEUTRAL   \n",
            "1      POOR_SLEEP  GOOD_HEART_RATE  GOOD_BLOOD_PRESSURE            NEUTRAL   \n",
            "2      GOOD_SLEEP  GOOD_HEART_RATE  GOOD_BLOOD_PRESSURE               GOOD   \n",
            "3      GOOD_SLEEP  GOOD_HEART_RATE  POOR_BLOOD_PRESSURE            NEUTRAL   \n",
            "4      POOR_SLEEP  GOOD_HEART_RATE  POOR_BLOOD_PRESSURE            NEUTRAL   \n",
            "..            ...              ...                  ...                ...   \n",
            "732    POOR_SLEEP  GOOD_HEART_RATE  POOR_BLOOD_PRESSURE            NEUTRAL   \n",
            "733    GOOD_SLEEP  GOOD_HEART_RATE  GOOD_BLOOD_PRESSURE               GOOD   \n",
            "734    GOOD_SLEEP  GOOD_HEART_RATE  POOR_BLOOD_PRESSURE            NEUTRAL   \n",
            "735    POOR_SLEEP  GOOD_HEART_RATE  POOR_BLOOD_PRESSURE            NEUTRAL   \n",
            "736    GOOD_SLEEP  GOOD_HEART_RATE  GOOD_BLOOD_PRESSURE               GOOD   \n",
            "\n",
            "    activity_level_grouping  \n",
            "0            LIGHTLY_ACTIVE  \n",
            "1           SOMEWHAT_ACTIVE  \n",
            "2            LIGHTLY_ACTIVE  \n",
            "3                    ACTIVE  \n",
            "4                 SEDENTARY  \n",
            "..                      ...  \n",
            "732         SOMEWHAT_ACTIVE  \n",
            "733          LIGHTLY_ACTIVE  \n",
            "734                  ACTIVE  \n",
            "735               SEDENTARY  \n",
            "736          LIGHTLY_ACTIVE  \n",
            "\n",
            "[737 rows x 22 columns]\n"
          ]
        }
      ],
      "source": [
        "# Function to classify activity level based on minutes of activity/steps\n",
        "def classify_activity_level(minutes, steps):\n",
        "    if pd.isna(steps) or pd.isna(minutes):\n",
        "        return 'UNKNOWN'\n",
        "    steps = float(steps)\n",
        "    minutes = float(minutes)\n",
        "\n",
        "    if steps < 5000 and minutes < 30:\n",
        "        return 'SEDENTARY'\n",
        "    elif (5000 <= steps < 7500) or (30 <= minutes < 45):\n",
        "        return 'LIGHTLY_ACTIVE'\n",
        "    elif (7500 <= steps < 10000) or (45 <= minutes < 60):\n",
        "        return 'SOMEWHAT_ACTIVE'\n",
        "    elif (10000 <= steps < 12500) or (60 <= minutes < 75):\n",
        "        return 'ACTIVE'\n",
        "    else:\n",
        "        return 'HIGHLY_ACTIVE'\n",
        "\n",
        "# Apply Activity Level Classification\n",
        "df['activity_level_grouping'] = df.apply(\n",
        "    lambda row: classify_activity_level(\n",
        "        row['level_of_physical_activity_minutes_per_day'],\n",
        "        row['extracted_steps']\n",
        "    ),\n",
        "    axis=1\n",
        ")\n",
        "\n",
        "print(df[df.columns])"
      ]
    },
    {
      "cell_type": "code",
      "execution_count": 21,
      "metadata": {
        "colab": {
          "base_uri": "https://localhost:8080/"
        },
        "id": "mwg8la5DOyeL",
        "outputId": "0df0577a-9675-4fcf-eef2-15941e17291d"
      },
      "outputs": [
        {
          "name": "stdout",
          "output_type": "stream",
          "text": [
            "activity_level_grouping\n",
            "LIGHTLY_ACTIVE     332\n",
            "ACTIVE             148\n",
            "SEDENTARY          146\n",
            "SOMEWHAT_ACTIVE    111\n",
            "Name: count, dtype: int64\n"
          ]
        }
      ],
      "source": [
        "print(df['activity_level_grouping'].value_counts())\n"
      ]
    },
    {
      "cell_type": "markdown",
      "metadata": {
        "id": "VcbOZJVO7TdH"
      },
      "source": [
        "## 4. Stress Profile Grouping"
      ]
    },
    {
      "cell_type": "code",
      "execution_count": 22,
      "metadata": {
        "colab": {
          "base_uri": "https://localhost:8080/"
        },
        "id": "MMMOXLiq5tYY",
        "outputId": "123f4448-ab87-417e-e054-5aea713586b0"
      },
      "outputs": [
        {
          "name": "stdout",
          "output_type": "stream",
          "text": [
            "   duration_of_sleep_hours  level_of_physical_activity_minutes_per_day  \\\n",
            "0                      7.5                                          30   \n",
            "1                      6.8                                          45   \n",
            "2                      8.2                                          15   \n",
            "3                      7.0                                          60   \n",
            "4                      5.5                                          10   \n",
            "\n",
            "   level_of_stress_scale_110 bmi_category  heart_rate_bpm  \\\n",
            "0                          5       Normal              72   \n",
            "1                          3   Overweight              75   \n",
            "2                          8  Underweight              68   \n",
            "3                          4       Normal              70   \n",
            "4                          9        Obese              80   \n",
            "\n",
            "  systolic_and_diastolic_blood_pressure  \\\n",
            "0                                120/80   \n",
            "1                                118/78   \n",
            "2                                115/75   \n",
            "3                                122/82   \n",
            "4                                130/90   \n",
            "\n",
            "  nutrition_intake_calories_breakdown_of_nutrients_etc  \\\n",
            "0                      2000 calories (balanced diet)     \n",
            "1                      2500 calories (high in carbs)     \n",
            "2                     1800 calories (low in protein)     \n",
            "3                       2200 calories (healthy diet)     \n",
            "4                          3000 calories (unhealthy)     \n",
            "\n",
            "   level_of_workload_scale_110 quality_or_frequency_of_social_interactions  \\\n",
            "0                            6                              Good, frequent   \n",
            "1                            7                        Moderate, occasional   \n",
            "2                            9                             Low, infrequent   \n",
            "3                            5                            Very good, daily   \n",
            "4                           10                            Poor, infrequent   \n",
            "\n",
            "  activities_for_mental_health_such_as_therapy_sessions_or_meditation  ...  \\\n",
            "0                                   Meditation daily                   ...   \n",
            "1                                                NaN                   ...   \n",
            "2                            Therapy sessions weekly                   ...   \n",
            "3                                  Yoga twice a week                   ...   \n",
            "4                                                NaN                   ...   \n",
            "\n",
            "  extracted_steps mood_output_encoded demographic_health_grouping  \\\n",
            "0           10000                   0         HEALTHY_CONSUMPTION   \n",
            "1            8000                   1       UNHEALTHY_CONSUMPTION   \n",
            "2            5000                   2       UNHEALTHY_CONSUMPTION   \n",
            "3           12000                   0         HEALTHY_CONSUMPTION   \n",
            "4            3000                   2       UNHEALTHY_CONSUMPTION   \n",
            "\n",
            "  sleep_health     heart_health            bp_health lifestyle_grouping  \\\n",
            "0   GOOD_SLEEP  GOOD_HEART_RATE  POOR_BLOOD_PRESSURE            NEUTRAL   \n",
            "1   POOR_SLEEP  GOOD_HEART_RATE  GOOD_BLOOD_PRESSURE            NEUTRAL   \n",
            "2   GOOD_SLEEP  GOOD_HEART_RATE  GOOD_BLOOD_PRESSURE               GOOD   \n",
            "3   GOOD_SLEEP  GOOD_HEART_RATE  POOR_BLOOD_PRESSURE            NEUTRAL   \n",
            "4   POOR_SLEEP  GOOD_HEART_RATE  POOR_BLOOD_PRESSURE            NEUTRAL   \n",
            "\n",
            "  activity_level_grouping stress_profile_grouping workload_profile_grouping  \n",
            "0          LIGHTLY_ACTIVE           MEDIUM_STRESS           MEDIUM_WORKLOAD  \n",
            "1         SOMEWHAT_ACTIVE              LOW_STRESS           MEDIUM_WORKLOAD  \n",
            "2          LIGHTLY_ACTIVE             HIGH_STRESS             HIGH_WORKLOAD  \n",
            "3                  ACTIVE              LOW_STRESS           MEDIUM_WORKLOAD  \n",
            "4               SEDENTARY             HIGH_STRESS             HIGH_WORKLOAD  \n",
            "\n",
            "[5 rows x 24 columns]\n"
          ]
        }
      ],
      "source": [
        "def classify_stress(stress):\n",
        "    if stress <= 4:\n",
        "        return 'LOW_STRESS'\n",
        "    elif 5 <= stress <= 7:\n",
        "        return 'MEDIUM_STRESS'\n",
        "    else:\n",
        "        return 'HIGH_STRESS'\n",
        "\n",
        "def classify_workload(workload):\n",
        "    if workload <= 4:\n",
        "        return 'LOW_WORKLOAD'\n",
        "    elif 5 <= workload <= 7:\n",
        "        return 'MEDIUM_WORKLOAD'\n",
        "    else:\n",
        "        return 'HIGH_WORKLOAD'\n",
        "\n",
        "# Apply to DataFrame\n",
        "df['stress_profile_grouping'] = df['level_of_stress_scale_110'].apply(classify_stress)\n",
        "df['workload_profile_grouping'] = df['level_of_workload_scale_110'].apply(classify_workload)\n",
        "\n",
        "# Preview\n",
        "print(df[df.columns].head())\n"
      ]
    },
    {
      "cell_type": "code",
      "execution_count": 23,
      "metadata": {
        "colab": {
          "base_uri": "https://localhost:8080/"
        },
        "id": "iAUeashJPCq8",
        "outputId": "5ab4ca0e-d8d0-4f40-f88e-610eb2aed653"
      },
      "outputs": [
        {
          "name": "stdout",
          "output_type": "stream",
          "text": [
            "stress_profile_grouping\n",
            "LOW_STRESS       334\n",
            "HIGH_STRESS      221\n",
            "MEDIUM_STRESS    182\n",
            "Name: count, dtype: int64\n"
          ]
        }
      ],
      "source": [
        "print(df['stress_profile_grouping'].value_counts())\n"
      ]
    },
    {
      "cell_type": "markdown",
      "metadata": {
        "id": "msQJMbqU7PC0"
      },
      "source": [
        "## 5. Social Wellness Grouping"
      ]
    },
    {
      "cell_type": "code",
      "execution_count": 24,
      "metadata": {
        "colab": {
          "base_uri": "https://localhost:8080/"
        },
        "id": "U_e32J-H6uNp",
        "outputId": "28916cc5-860c-473e-d3d8-dec6f6f4bc01"
      },
      "outputs": [
        {
          "name": "stdout",
          "output_type": "stream",
          "text": [
            "Index(['duration_of_sleep_hours', 'level_of_physical_activity_minutes_per_day',\n",
            "       'level_of_stress_scale_110', 'bmi_category', 'heart_rate_bpm',\n",
            "       'systolic_and_diastolic_blood_pressure',\n",
            "       'nutrition_intake_calories_breakdown_of_nutrients_etc',\n",
            "       'level_of_workload_scale_110',\n",
            "       'quality_or_frequency_of_social_interactions',\n",
            "       'activities_for_mental_health_such_as_therapy_sessions_or_meditation',\n",
            "       'environmental_aspects_such_as_weather_and_air_quality',\n",
            "       'lifestyle_decisions_such_as_drinking_and_smoking',\n",
            "       'additional_health_indicators_eg_water_levels_steps', 'mood_output',\n",
            "       'extracted_steps', 'mood_output_encoded', 'demographic_health_grouping',\n",
            "       'sleep_health', 'heart_health', 'bp_health', 'lifestyle_grouping',\n",
            "       'activity_level_grouping', 'stress_profile_grouping',\n",
            "       'workload_profile_grouping'],\n",
            "      dtype='object')\n"
          ]
        }
      ],
      "source": [
        "# Check the columns in your DataFrame\n",
        "print(df.columns)\n"
      ]
    },
    {
      "cell_type": "code",
      "execution_count": 25,
      "metadata": {
        "colab": {
          "base_uri": "https://localhost:8080/"
        },
        "id": "m0Karos65MvF",
        "outputId": "419f29c5-971e-4bc4-83d0-d622132bfe24"
      },
      "outputs": [
        {
          "data": {
            "application/vnd.jupyter.widget-view+json": {
              "model_id": "e3cede1fff7f42a09e9277a15c0990cb",
              "version_major": 2,
              "version_minor": 0
            },
            "text/plain": [
              "config.json:   0%|          | 0.00/1.15k [00:00<?, ?B/s]"
            ]
          },
          "metadata": {},
          "output_type": "display_data"
        },
        {
          "name": "stderr",
          "output_type": "stream",
          "text": [
            "C:\\Users\\Josue\\AppData\\Roaming\\Python\\Python312\\site-packages\\huggingface_hub\\file_download.py:144: UserWarning: `huggingface_hub` cache-system uses symlinks by default to efficiently store duplicated files but your machine does not support them in C:\\Users\\Josue\\.cache\\huggingface\\hub\\models--facebook--bart-large-mnli. Caching files will still work but in a degraded version that might require more space on your disk. This warning can be disabled by setting the `HF_HUB_DISABLE_SYMLINKS_WARNING` environment variable. For more details, see https://huggingface.co/docs/huggingface_hub/how-to-cache#limitations.\n",
            "To support symlinks on Windows, you either need to activate Developer Mode or to run Python as an administrator. In order to activate developer mode, see this article: https://docs.microsoft.com/en-us/windows/apps/get-started/enable-your-device-for-development\n",
            "  warnings.warn(message)\n"
          ]
        },
        {
          "name": "stdout",
          "output_type": "stream",
          "text": [
            "WARNING:tensorflow:From C:\\Users\\Josue\\AppData\\Roaming\\Python\\Python312\\site-packages\\tf_keras\\src\\losses.py:2976: The name tf.losses.sparse_softmax_cross_entropy is deprecated. Please use tf.compat.v1.losses.sparse_softmax_cross_entropy instead.\n",
            "\n"
          ]
        },
        {
          "name": "stderr",
          "output_type": "stream",
          "text": [
            "Xet Storage is enabled for this repo, but the 'hf_xet' package is not installed. Falling back to regular HTTP download. For better performance, install the package with: `pip install huggingface_hub[hf_xet]` or `pip install hf_xet`\n"
          ]
        },
        {
          "data": {
            "application/vnd.jupyter.widget-view+json": {
              "model_id": "30538830e50f49178bf9157202060f83",
              "version_major": 2,
              "version_minor": 0
            },
            "text/plain": [
              "model.safetensors:   0%|          | 0.00/1.63G [00:00<?, ?B/s]"
            ]
          },
          "metadata": {},
          "output_type": "display_data"
        },
        {
          "data": {
            "application/vnd.jupyter.widget-view+json": {
              "model_id": "0b4dbc232acc46a2bc71b4975c62228b",
              "version_major": 2,
              "version_minor": 0
            },
            "text/plain": [
              "tokenizer_config.json:   0%|          | 0.00/26.0 [00:00<?, ?B/s]"
            ]
          },
          "metadata": {},
          "output_type": "display_data"
        },
        {
          "data": {
            "application/vnd.jupyter.widget-view+json": {
              "model_id": "649d714f439e442cbf42a2fa5e003242",
              "version_major": 2,
              "version_minor": 0
            },
            "text/plain": [
              "vocab.json:   0%|          | 0.00/899k [00:00<?, ?B/s]"
            ]
          },
          "metadata": {},
          "output_type": "display_data"
        },
        {
          "data": {
            "application/vnd.jupyter.widget-view+json": {
              "model_id": "212923f4544f41168af6c2fe6a3d2490",
              "version_major": 2,
              "version_minor": 0
            },
            "text/plain": [
              "merges.txt:   0%|          | 0.00/456k [00:00<?, ?B/s]"
            ]
          },
          "metadata": {},
          "output_type": "display_data"
        },
        {
          "data": {
            "application/vnd.jupyter.widget-view+json": {
              "model_id": "f5f12e21448a4a519f9a7086b1eb3c59",
              "version_major": 2,
              "version_minor": 0
            },
            "text/plain": [
              "tokenizer.json:   0%|          | 0.00/1.36M [00:00<?, ?B/s]"
            ]
          },
          "metadata": {},
          "output_type": "display_data"
        },
        {
          "name": "stderr",
          "output_type": "stream",
          "text": [
            "Device set to use cuda:0\n"
          ]
        },
        {
          "name": "stdout",
          "output_type": "stream",
          "text": [
            "   duration_of_sleep_hours  level_of_physical_activity_minutes_per_day  \\\n",
            "0                      7.5                                          30   \n",
            "1                      6.8                                          45   \n",
            "2                      8.2                                          15   \n",
            "3                      7.0                                          60   \n",
            "4                      5.5                                          10   \n",
            "\n",
            "   level_of_stress_scale_110 bmi_category  heart_rate_bpm  \\\n",
            "0                          5       Normal              72   \n",
            "1                          3   Overweight              75   \n",
            "2                          8  Underweight              68   \n",
            "3                          4       Normal              70   \n",
            "4                          9        Obese              80   \n",
            "\n",
            "  systolic_and_diastolic_blood_pressure  \\\n",
            "0                                120/80   \n",
            "1                                118/78   \n",
            "2                                115/75   \n",
            "3                                122/82   \n",
            "4                                130/90   \n",
            "\n",
            "  nutrition_intake_calories_breakdown_of_nutrients_etc  \\\n",
            "0                      2000 calories (balanced diet)     \n",
            "1                      2500 calories (high in carbs)     \n",
            "2                     1800 calories (low in protein)     \n",
            "3                       2200 calories (healthy diet)     \n",
            "4                          3000 calories (unhealthy)     \n",
            "\n",
            "   level_of_workload_scale_110 quality_or_frequency_of_social_interactions  \\\n",
            "0                            6                              Good, frequent   \n",
            "1                            7                        Moderate, occasional   \n",
            "2                            9                             Low, infrequent   \n",
            "3                            5                            Very good, daily   \n",
            "4                           10                            Poor, infrequent   \n",
            "\n",
            "  activities_for_mental_health_such_as_therapy_sessions_or_meditation  ...  \\\n",
            "0                                   Meditation daily                   ...   \n",
            "1                                                NaN                   ...   \n",
            "2                            Therapy sessions weekly                   ...   \n",
            "3                                  Yoga twice a week                   ...   \n",
            "4                                                NaN                   ...   \n",
            "\n",
            "  mood_output_encoded demographic_health_grouping sleep_health  \\\n",
            "0                   0         HEALTHY_CONSUMPTION   GOOD_SLEEP   \n",
            "1                   1       UNHEALTHY_CONSUMPTION   POOR_SLEEP   \n",
            "2                   2       UNHEALTHY_CONSUMPTION   GOOD_SLEEP   \n",
            "3                   0         HEALTHY_CONSUMPTION   GOOD_SLEEP   \n",
            "4                   2       UNHEALTHY_CONSUMPTION   POOR_SLEEP   \n",
            "\n",
            "      heart_health            bp_health  lifestyle_grouping  \\\n",
            "0  GOOD_HEART_RATE  POOR_BLOOD_PRESSURE             NEUTRAL   \n",
            "1  GOOD_HEART_RATE  GOOD_BLOOD_PRESSURE             NEUTRAL   \n",
            "2  GOOD_HEART_RATE  GOOD_BLOOD_PRESSURE                GOOD   \n",
            "3  GOOD_HEART_RATE  POOR_BLOOD_PRESSURE             NEUTRAL   \n",
            "4  GOOD_HEART_RATE  POOR_BLOOD_PRESSURE             NEUTRAL   \n",
            "\n",
            "  activity_level_grouping stress_profile_grouping workload_profile_grouping  \\\n",
            "0          LIGHTLY_ACTIVE           MEDIUM_STRESS           MEDIUM_WORKLOAD   \n",
            "1         SOMEWHAT_ACTIVE              LOW_STRESS           MEDIUM_WORKLOAD   \n",
            "2          LIGHTLY_ACTIVE             HIGH_STRESS             HIGH_WORKLOAD   \n",
            "3                  ACTIVE              LOW_STRESS           MEDIUM_WORKLOAD   \n",
            "4               SEDENTARY             HIGH_STRESS             HIGH_WORKLOAD   \n",
            "\n",
            "  social_wellness_grouping  \n",
            "0              HIGH_SOCIAL  \n",
            "1          MODERATE_SOCIAL  \n",
            "2          MODERATE_SOCIAL  \n",
            "3              HIGH_SOCIAL  \n",
            "4               LOW_SOCIAL  \n",
            "\n",
            "[5 rows x 25 columns]\n"
          ]
        }
      ],
      "source": [
        "# Note:\n",
        "# - The facebook/bart-large-mnli model used here is a pre-trained model without fine-tuning on our specific data.\n",
        "# - It has ~406 million parameters and achieves:\n",
        "#   • ~84.6% accuracy on the MNLI matched set\n",
        "#   • ~83.4% accuracy on the MNLI mismatched set\n",
        "# - Citation for the model: Lewis et al., 2019 (\"BART: Denoising Sequence-to-Sequence Pre-training for Natural Language Generation, Translation, and Comprehension\")\n",
        "#   Paper: https://arxiv.org/abs/1910.13461\n",
        "# - Model card: https://huggingface.co/facebook/bart-large-mnli\n",
        "\n",
        "# Load the model once\n",
        "classifier = pipeline(\"zero-shot-classification\", model=\"facebook/bart-large-mnli\")\n",
        "\n",
        "# Define your candidate labels\n",
        "labels = ['HIGH_SOCIAL', 'MODERATE_SOCIAL', 'LOW_SOCIAL']\n",
        "\n",
        "# Handle missing column/key issue\n",
        "if 'quality_or_frequency_of_social_interactions' not in df.columns:\n",
        "    raise KeyError(\"Column 'Quality or frequency of social interactions' not found in DataFrame\")\n",
        "\n",
        "# Step 1: Extract unique values to avoid redundant computation\n",
        "unique_values = df['quality_or_frequency_of_social_interactions'].dropna().unique()\n",
        "\n",
        "# Step 2: Create a dictionary to store classification results\n",
        "classification_map = {}\n",
        "\n",
        "# Step 3: Classify each unique value\n",
        "for val in unique_values:\n",
        "    val_str = str(val).lower()\n",
        "    result = classifier(val_str, candidate_labels=labels)\n",
        "    classification_map[val] = result['labels'][0]\n",
        "\n",
        "# Step 4: Map results back to DataFrame\n",
        "df['social_wellness_grouping'] = df['quality_or_frequency_of_social_interactions'].map(classification_map)\n",
        "\n",
        "# Preview the result\n",
        "print(df[df.columns].head())\n",
        "\n"
      ]
    },
    {
      "cell_type": "markdown",
      "metadata": {
        "id": "kJErFlHj7IXN"
      },
      "source": [
        "## 6. Environmental Stress Grouping"
      ]
    },
    {
      "cell_type": "code",
      "execution_count": 26,
      "metadata": {
        "id": "J4MrDZ1H799E"
      },
      "outputs": [],
      "source": [
        "def fetch_weather_data(city_name, api_key):\n",
        "    \"\"\"\n",
        "    Fetch current weather description from WeatherAPI for a given city.\n",
        "    \"\"\"\n",
        "    url = f'http://api.weatherapi.com/v1/current.json?key={api_key}&q={city_name}'\n",
        "    try:\n",
        "        response = requests.get(url)\n",
        "        response.raise_for_status()\n",
        "        data = response.json()\n",
        "\n",
        "        if 'current' in data and 'condition' in data['current']:\n",
        "            return data['current']['condition']['text']\n",
        "        else:\n",
        "            print(\"Warning: Weather data structure is incomplete.\")\n",
        "            return None\n",
        "\n",
        "    except requests.exceptions.RequestException as e:\n",
        "        print(f\"Error fetching weather data: {e}\")\n",
        "        return None\n",
        "\n",
        "\n",
        "def classify_weather_situation(weather_description):\n",
        "    \"\"\"\n",
        "    Classify weather condition into one of: SUNNY, RAINY, CLOUDY, WINDY, or UNKNOWN.\n",
        "    \"\"\"\n",
        "    description = weather_description.lower()\n",
        "\n",
        "    if 'sunny' in description:\n",
        "        return 'SUNNY'\n",
        "    elif 'rain' in description or 'shower' in description:\n",
        "        return 'RAINY'\n",
        "    elif 'overcast' in description or 'cloud' in description:\n",
        "        return 'CLOUDY'\n",
        "    elif 'wind' in description:\n",
        "        return 'WINDY'\n",
        "    else:\n",
        "        return 'UNKNOWN'\n",
        "\n",
        "# Define the API key and city name\n",
        "city_name = 'Boston'\n",
        "\n",
        "# Fetch the weather description\n",
        "# weather_description = fetch_weather_data(city_name, api_key)\n",
        "\n",
        "# if weather_description:\n",
        "#     weather_situation = classify_weather_situation(weather_description)\n",
        "#     print(f\"City: {city_name}\")\n",
        "#     print(f\"Weather Description: {weather_description}\")\n",
        "#     print(f\"Classified Weather Situation: {weather_situation}\")\n",
        "# else:\n",
        "#     print(\"Unable to fetch or classify weather data.\")\n"
      ]
    },
    {
      "cell_type": "markdown",
      "metadata": {
        "id": "K8oVfKmW7A07"
      },
      "source": [
        "# View the processed DataFrame"
      ]
    },
    {
      "cell_type": "code",
      "execution_count": 27,
      "metadata": {
        "colab": {
          "base_uri": "https://localhost:8080/"
        },
        "id": "SSMAPngo9MdL",
        "outputId": "6a5b8a90-5863-4f5a-b061-c04b2daed160"
      },
      "outputs": [
        {
          "name": "stdout",
          "output_type": "stream",
          "text": [
            "Columns in the DataFrame:\n",
            " ['duration_of_sleep_hours', 'level_of_physical_activity_minutes_per_day', 'level_of_stress_scale_110', 'bmi_category', 'heart_rate_bpm', 'systolic_and_diastolic_blood_pressure', 'nutrition_intake_calories_breakdown_of_nutrients_etc', 'level_of_workload_scale_110', 'quality_or_frequency_of_social_interactions', 'activities_for_mental_health_such_as_therapy_sessions_or_meditation', 'environmental_aspects_such_as_weather_and_air_quality', 'lifestyle_decisions_such_as_drinking_and_smoking', 'additional_health_indicators_eg_water_levels_steps', 'mood_output', 'extracted_steps', 'mood_output_encoded', 'demographic_health_grouping', 'sleep_health', 'heart_health', 'bp_health', 'lifestyle_grouping', 'activity_level_grouping', 'stress_profile_grouping', 'workload_profile_grouping', 'social_wellness_grouping']\n"
          ]
        }
      ],
      "source": [
        "# Print all column names to confirm structure\n",
        "print(\"Columns in the DataFrame:\\n\", df.columns.tolist())"
      ]
    },
    {
      "cell_type": "code",
      "execution_count": 28,
      "metadata": {
        "colab": {
          "base_uri": "https://localhost:8080/"
        },
        "id": "3_HOp7D69V_a",
        "outputId": "68d032fd-d6aa-48ab-b211-2ae44b517dad"
      },
      "outputs": [
        {
          "name": "stdout",
          "output_type": "stream",
          "text": [
            "Columns in the DataFrame:\n",
            " ['duration_of_sleep_hours', 'level_of_physical_activity_minutes_per_day', 'level_of_stress_scale_110', 'bmi_category', 'heart_rate_bpm', 'systolic_and_diastolic_blood_pressure', 'nutrition_intake_calories_breakdown_of_nutrients_etc', 'level_of_workload_scale_110', 'quality_or_frequency_of_social_interactions', 'activities_for_mental_health_such_as_therapy_sessions_or_meditation', 'environmental_aspects_such_as_weather_and_air_quality', 'lifestyle_decisions_such_as_drinking_and_smoking', 'additional_health_indicators_eg_water_levels_steps', 'mood_output', 'extracted_steps', 'mood_output_encoded', 'demographic_health_grouping', 'sleep_health', 'heart_health', 'bp_health', 'lifestyle_grouping', 'activity_level_grouping', 'stress_profile_grouping', 'workload_profile_grouping', 'social_wellness_grouping']\n",
            "\n",
            "Column 'quality_or_frequency_of_social_interactions' exists. Here are the first few values:\n",
            "0          Good, frequent\n",
            "1    Moderate, occasional\n",
            "2         Low, infrequent\n",
            "3        Very good, daily\n",
            "4        Poor, infrequent\n",
            "Name: quality_or_frequency_of_social_interactions, dtype: object\n",
            "\n",
            "Column 'social_wellness_grouping' exists. Here are the first few values:\n",
            "0        HIGH_SOCIAL\n",
            "1    MODERATE_SOCIAL\n",
            "2    MODERATE_SOCIAL\n",
            "3        HIGH_SOCIAL\n",
            "4         LOW_SOCIAL\n",
            "Name: social_wellness_grouping, dtype: object\n"
          ]
        }
      ],
      "source": [
        "print(\"Columns in the DataFrame:\\n\", df.columns.tolist())\n",
        "\n",
        "columns_to_check = ['quality_or_frequency_of_social_interactions', 'social_wellness_grouping']\n",
        "for col in columns_to_check:\n",
        "    if col in df.columns:\n",
        "        print(f\"\\nColumn '{col}' exists. Here are the first few values:\")\n",
        "        print(df[col].head())\n",
        "    else:\n",
        "        print(f\"\\nColumn '{col}' is missing from the DataFrame.\")\n"
      ]
    },
    {
      "cell_type": "markdown",
      "metadata": {
        "id": "8tWuhY-P67Vg"
      },
      "source": [
        "# Check Specific Columns"
      ]
    },
    {
      "cell_type": "code",
      "execution_count": 29,
      "metadata": {
        "colab": {
          "base_uri": "https://localhost:8080/"
        },
        "id": "iGYbMzJB7HoO",
        "outputId": "6d861f0f-1790-4e58-ab72-170ed4d31d10"
      },
      "outputs": [
        {
          "name": "stdout",
          "output_type": "stream",
          "text": [
            "\n",
            "Column 'quality_or_frequency_of_social_interactions' exists. Here are the first few values:\n",
            "0          Good, frequent\n",
            "1    Moderate, occasional\n",
            "2         Low, infrequent\n",
            "3        Very good, daily\n",
            "4        Poor, infrequent\n",
            "Name: quality_or_frequency_of_social_interactions, dtype: object\n",
            "\n",
            "Column 'social_wellness_grouping' exists. Here are the first few values:\n",
            "0        HIGH_SOCIAL\n",
            "1    MODERATE_SOCIAL\n",
            "2    MODERATE_SOCIAL\n",
            "3        HIGH_SOCIAL\n",
            "4         LOW_SOCIAL\n",
            "Name: social_wellness_grouping, dtype: object\n"
          ]
        }
      ],
      "source": [
        "# --- Check Specific Columns ---\n",
        "# This step ensures the required columns are present before further processing\n",
        "\n",
        "# Check existence of specific columns\n",
        "columns_to_check = ['quality_or_frequency_of_social_interactions', 'social_wellness_grouping']\n",
        "for col in columns_to_check:\n",
        "    if col in df.columns:\n",
        "        print(f\"\\nColumn '{col}' exists. Here are the first few values:\")\n",
        "        print(df[col].head())\n",
        "    else:\n",
        "        print(f\"\\nColumn '{col}' is missing from the DataFrame.\")\n"
      ]
    },
    {
      "cell_type": "code",
      "execution_count": 30,
      "metadata": {
        "colab": {
          "base_uri": "https://localhost:8080/",
          "height": 206
        },
        "id": "6V2BD4Qt20x5",
        "outputId": "6acdb3fa-9eaf-44b9-a2ab-aead2bafa1f5"
      },
      "outputs": [
        {
          "data": {
            "text/html": [
              "<div>\n",
              "<style scoped>\n",
              "    .dataframe tbody tr th:only-of-type {\n",
              "        vertical-align: middle;\n",
              "    }\n",
              "\n",
              "    .dataframe tbody tr th {\n",
              "        vertical-align: top;\n",
              "    }\n",
              "\n",
              "    .dataframe thead th {\n",
              "        text-align: right;\n",
              "    }\n",
              "</style>\n",
              "<table border=\"1\" class=\"dataframe\">\n",
              "  <thead>\n",
              "    <tr style=\"text-align: right;\">\n",
              "      <th></th>\n",
              "      <th>activity_level_grouping</th>\n",
              "      <th>stress_profile_grouping</th>\n",
              "    </tr>\n",
              "  </thead>\n",
              "  <tbody>\n",
              "    <tr>\n",
              "      <th>0</th>\n",
              "      <td>LIGHTLY_ACTIVE</td>\n",
              "      <td>MEDIUM_STRESS</td>\n",
              "    </tr>\n",
              "    <tr>\n",
              "      <th>1</th>\n",
              "      <td>SOMEWHAT_ACTIVE</td>\n",
              "      <td>LOW_STRESS</td>\n",
              "    </tr>\n",
              "    <tr>\n",
              "      <th>2</th>\n",
              "      <td>LIGHTLY_ACTIVE</td>\n",
              "      <td>HIGH_STRESS</td>\n",
              "    </tr>\n",
              "    <tr>\n",
              "      <th>3</th>\n",
              "      <td>ACTIVE</td>\n",
              "      <td>LOW_STRESS</td>\n",
              "    </tr>\n",
              "    <tr>\n",
              "      <th>4</th>\n",
              "      <td>SEDENTARY</td>\n",
              "      <td>HIGH_STRESS</td>\n",
              "    </tr>\n",
              "  </tbody>\n",
              "</table>\n",
              "</div>"
            ],
            "text/plain": [
              "  activity_level_grouping stress_profile_grouping\n",
              "0          LIGHTLY_ACTIVE           MEDIUM_STRESS\n",
              "1         SOMEWHAT_ACTIVE              LOW_STRESS\n",
              "2          LIGHTLY_ACTIVE             HIGH_STRESS\n",
              "3                  ACTIVE              LOW_STRESS\n",
              "4               SEDENTARY             HIGH_STRESS"
            ]
          },
          "execution_count": 30,
          "metadata": {},
          "output_type": "execute_result"
        }
      ],
      "source": [
        "df[['activity_level_grouping', 'stress_profile_grouping']].head()"
      ]
    },
    {
      "cell_type": "markdown",
      "metadata": {
        "id": "MbPiRPci64zg"
      },
      "source": [
        "# Summary Statistics"
      ]
    },
    {
      "cell_type": "code",
      "execution_count": 31,
      "metadata": {
        "colab": {
          "base_uri": "https://localhost:8080/",
          "height": 0
        },
        "id": "mE2MjiJt25aH",
        "outputId": "91b4536f-ccff-4ac1-a00d-61fb72759477"
      },
      "outputs": [
        {
          "data": {
            "text/html": [
              "<div>\n",
              "<style scoped>\n",
              "    .dataframe tbody tr th:only-of-type {\n",
              "        vertical-align: middle;\n",
              "    }\n",
              "\n",
              "    .dataframe tbody tr th {\n",
              "        vertical-align: top;\n",
              "    }\n",
              "\n",
              "    .dataframe thead th {\n",
              "        text-align: right;\n",
              "    }\n",
              "</style>\n",
              "<table border=\"1\" class=\"dataframe\">\n",
              "  <thead>\n",
              "    <tr style=\"text-align: right;\">\n",
              "      <th></th>\n",
              "      <th>duration_of_sleep_hours</th>\n",
              "      <th>level_of_physical_activity_minutes_per_day</th>\n",
              "      <th>level_of_stress_scale_110</th>\n",
              "      <th>heart_rate_bpm</th>\n",
              "      <th>level_of_workload_scale_110</th>\n",
              "      <th>extracted_steps</th>\n",
              "      <th>mood_output_encoded</th>\n",
              "    </tr>\n",
              "  </thead>\n",
              "  <tbody>\n",
              "    <tr>\n",
              "      <th>count</th>\n",
              "      <td>737.000000</td>\n",
              "      <td>737.000000</td>\n",
              "      <td>737.000000</td>\n",
              "      <td>737.000000</td>\n",
              "      <td>737.000000</td>\n",
              "      <td>737.000000</td>\n",
              "      <td>737.000000</td>\n",
              "    </tr>\n",
              "    <tr>\n",
              "      <th>mean</th>\n",
              "      <td>6.878562</td>\n",
              "      <td>32.062415</td>\n",
              "      <td>5.340570</td>\n",
              "      <td>72.179104</td>\n",
              "      <td>6.797829</td>\n",
              "      <td>7569.877883</td>\n",
              "      <td>1.096336</td>\n",
              "    </tr>\n",
              "    <tr>\n",
              "      <th>std</th>\n",
              "      <td>0.955178</td>\n",
              "      <td>18.599582</td>\n",
              "      <td>2.968017</td>\n",
              "      <td>7.709251</td>\n",
              "      <td>2.686236</td>\n",
              "      <td>3176.029294</td>\n",
              "      <td>0.832558</td>\n",
              "    </tr>\n",
              "    <tr>\n",
              "      <th>min</th>\n",
              "      <td>5.200000</td>\n",
              "      <td>10.000000</td>\n",
              "      <td>1.000000</td>\n",
              "      <td>60.000000</td>\n",
              "      <td>2.000000</td>\n",
              "      <td>2000.000000</td>\n",
              "      <td>0.000000</td>\n",
              "    </tr>\n",
              "    <tr>\n",
              "      <th>25%</th>\n",
              "      <td>6.200000</td>\n",
              "      <td>15.000000</td>\n",
              "      <td>3.000000</td>\n",
              "      <td>66.000000</td>\n",
              "      <td>4.000000</td>\n",
              "      <td>5500.000000</td>\n",
              "      <td>0.000000</td>\n",
              "    </tr>\n",
              "    <tr>\n",
              "      <th>50%</th>\n",
              "      <td>7.000000</td>\n",
              "      <td>30.000000</td>\n",
              "      <td>5.000000</td>\n",
              "      <td>70.000000</td>\n",
              "      <td>7.000000</td>\n",
              "      <td>8000.000000</td>\n",
              "      <td>1.000000</td>\n",
              "    </tr>\n",
              "    <tr>\n",
              "      <th>75%</th>\n",
              "      <td>7.600000</td>\n",
              "      <td>45.000000</td>\n",
              "      <td>8.000000</td>\n",
              "      <td>78.000000</td>\n",
              "      <td>9.000000</td>\n",
              "      <td>10500.000000</td>\n",
              "      <td>2.000000</td>\n",
              "    </tr>\n",
              "    <tr>\n",
              "      <th>max</th>\n",
              "      <td>8.500000</td>\n",
              "      <td>60.000000</td>\n",
              "      <td>10.000000</td>\n",
              "      <td>88.000000</td>\n",
              "      <td>10.000000</td>\n",
              "      <td>12500.000000</td>\n",
              "      <td>2.000000</td>\n",
              "    </tr>\n",
              "  </tbody>\n",
              "</table>\n",
              "</div>"
            ],
            "text/plain": [
              "       duration_of_sleep_hours  level_of_physical_activity_minutes_per_day  \\\n",
              "count               737.000000                                  737.000000   \n",
              "mean                  6.878562                                   32.062415   \n",
              "std                   0.955178                                   18.599582   \n",
              "min                   5.200000                                   10.000000   \n",
              "25%                   6.200000                                   15.000000   \n",
              "50%                   7.000000                                   30.000000   \n",
              "75%                   7.600000                                   45.000000   \n",
              "max                   8.500000                                   60.000000   \n",
              "\n",
              "       level_of_stress_scale_110  heart_rate_bpm  level_of_workload_scale_110  \\\n",
              "count                 737.000000      737.000000                   737.000000   \n",
              "mean                    5.340570       72.179104                     6.797829   \n",
              "std                     2.968017        7.709251                     2.686236   \n",
              "min                     1.000000       60.000000                     2.000000   \n",
              "25%                     3.000000       66.000000                     4.000000   \n",
              "50%                     5.000000       70.000000                     7.000000   \n",
              "75%                     8.000000       78.000000                     9.000000   \n",
              "max                    10.000000       88.000000                    10.000000   \n",
              "\n",
              "       extracted_steps  mood_output_encoded  \n",
              "count       737.000000           737.000000  \n",
              "mean       7569.877883             1.096336  \n",
              "std        3176.029294             0.832558  \n",
              "min        2000.000000             0.000000  \n",
              "25%        5500.000000             0.000000  \n",
              "50%        8000.000000             1.000000  \n",
              "75%       10500.000000             2.000000  \n",
              "max       12500.000000             2.000000  "
            ]
          },
          "execution_count": 31,
          "metadata": {},
          "output_type": "execute_result"
        }
      ],
      "source": [
        "df.describe()"
      ]
    },
    {
      "cell_type": "code",
      "execution_count": 32,
      "metadata": {
        "id": "e607seq13J3I"
      },
      "outputs": [],
      "source": [
        "# Save the cleaned DataFrame to a CSV file\n",
        "df.to_csv('../data/processed/processed_wellness_data.csv', index=False)"
      ]
    },
    {
      "cell_type": "markdown",
      "metadata": {
        "id": "XgYlP6yr60Oz"
      },
      "source": [
        "# Check the Value Counts for Categorical Columns"
      ]
    },
    {
      "cell_type": "markdown",
      "metadata": {
        "id": "fn1Qr5vI6qm4"
      },
      "source": [
        "**Analyzing Relationships Between Groupings**"
      ]
    },
    {
      "cell_type": "code",
      "execution_count": 33,
      "metadata": {
        "colab": {
          "base_uri": "https://localhost:8080/"
        },
        "id": "_NSxTELT8b1v",
        "outputId": "8646cdcf-1a14-4075-c263-6dc15dcfa78b"
      },
      "outputs": [
        {
          "name": "stdout",
          "output_type": "stream",
          "text": [
            "Index(['duration_of_sleep_hours', 'level_of_physical_activity_minutes_per_day',\n",
            "       'level_of_stress_scale_110', 'bmi_category', 'heart_rate_bpm',\n",
            "       'systolic_and_diastolic_blood_pressure',\n",
            "       'nutrition_intake_calories_breakdown_of_nutrients_etc',\n",
            "       'level_of_workload_scale_110',\n",
            "       'quality_or_frequency_of_social_interactions',\n",
            "       'activities_for_mental_health_such_as_therapy_sessions_or_meditation',\n",
            "       'environmental_aspects_such_as_weather_and_air_quality',\n",
            "       'lifestyle_decisions_such_as_drinking_and_smoking',\n",
            "       'additional_health_indicators_eg_water_levels_steps', 'mood_output',\n",
            "       'extracted_steps', 'mood_output_encoded', 'demographic_health_grouping',\n",
            "       'sleep_health', 'heart_health', 'bp_health', 'lifestyle_grouping',\n",
            "       'activity_level_grouping', 'stress_profile_grouping',\n",
            "       'workload_profile_grouping', 'social_wellness_grouping'],\n",
            "      dtype='object')\n"
          ]
        }
      ],
      "source": [
        "print(df.columns)\n"
      ]
    },
    {
      "cell_type": "code",
      "execution_count": 34,
      "metadata": {
        "colab": {
          "base_uri": "https://localhost:8080/"
        },
        "id": "ozw93ttP3cyE",
        "outputId": "f1732f57-9a46-49ed-d3e6-cb78f6e1acc6"
      },
      "outputs": [
        {
          "name": "stdout",
          "output_type": "stream",
          "text": [
            "lifestyle_grouping\n",
            "GOOD       3.898305\n",
            "NEUTRAL    6.303167\n",
            "Name: level_of_stress_scale_110, dtype: float64\n"
          ]
        }
      ],
      "source": [
        "# Group by lifestyle grouping and check the average stress level\n",
        "lifestyle_stress = df.groupby('lifestyle_grouping')['level_of_stress_scale_110'].mean()\n",
        "\n",
        "# Display the result\n",
        "print(lifestyle_stress)\n"
      ]
    },
    {
      "cell_type": "markdown",
      "metadata": {
        "id": "6TqMnXG66hM0"
      },
      "source": [
        "**Visualizing the Relationship:**"
      ]
    },
    {
      "cell_type": "code",
      "execution_count": 35,
      "metadata": {
        "colab": {
          "base_uri": "https://localhost:8080/",
          "height": 472
        },
        "id": "UJviXCZl3lcO",
        "outputId": "71400456-1c54-4383-ef6c-ca714dad9bb5"
      },
      "outputs": [
        {
          "data": {
            "image/png": "[encoded data removed]",
            "text/plain": [
              "<Figure size 640x480 with 1 Axes>"
            ]
          },
          "metadata": {},
          "output_type": "display_data"
        }
      ],
      "source": [
        "# Plotting the average stress level for each lifestyle group\n",
        "sns.barplot(x=lifestyle_stress.index, y=lifestyle_stress.values)\n",
        "plt.xlabel('Lifestyle Group')\n",
        "plt.ylabel('Average Stress Level')\n",
        "plt.title('Average Stress Level by Lifestyle Group')\n",
        "plt.show()\n"
      ]
    },
    {
      "cell_type": "markdown",
      "metadata": {
        "id": "a8A2ByDD6QaO"
      },
      "source": [
        "**Clustering Analysis (Clustering Based on Groupings)**\n",
        "\n",
        "With the groupings and other features, you can use clustering algorithms like KMeans, Agglomerative, or even DBSCAN to cluster individuals with similar characteristics.\n",
        "\n",
        "KMeans Clustering:"
      ]
    },
    {
      "cell_type": "code",
      "execution_count": 36,
      "metadata": {
        "colab": {
          "base_uri": "https://localhost:8080/"
        },
        "id": "r9XECqjG3vGg",
        "outputId": "6b61d388-67c8-439a-a3f6-261e54108aa3"
      },
      "outputs": [
        {
          "name": "stdout",
          "output_type": "stream",
          "text": [
            "   level_of_physical_activity_minutes_per_day  duration_of_sleep_hours  \\\n",
            "0                                          30                      7.5   \n",
            "1                                          45                      6.8   \n",
            "2                                          15                      8.2   \n",
            "3                                          60                      7.0   \n",
            "4                                          10                      5.5   \n",
            "\n",
            "   level_of_stress_scale_110  heart_rate_bpm  cluster  \n",
            "0                          5              72        2  \n",
            "1                          3              75        1  \n",
            "2                          8              68        2  \n",
            "3                          4              70        1  \n",
            "4                          9              80        0  \n"
          ]
        }
      ],
      "source": [
        "# Select columns for clustering (e.g., physical activity, sleep, stress level, heart rate)\n",
        "features = df[['level_of_physical_activity_minutes_per_day', 'duration_of_sleep_hours', 'level_of_stress_scale_110', 'heart_rate_bpm']]\n",
        "features = features.dropna()  # Drop rows with missing values\n",
        "\n",
        "# Standardize the features\n",
        "scaler = StandardScaler()\n",
        "scaled_features = scaler.fit_transform(features)\n",
        "\n",
        "# Apply KMeans clustering (choose 3 clusters as an example)\n",
        "kmeans = KMeans(n_clusters=3, random_state=42)\n",
        "df['cluster'] = kmeans.fit_predict(scaled_features)\n",
        "\n",
        "# Show the cluster assignments\n",
        "print(df[['level_of_physical_activity_minutes_per_day', 'duration_of_sleep_hours', 'level_of_stress_scale_110', 'heart_rate_bpm', 'cluster']].head())\n"
      ]
    },
    {
      "cell_type": "markdown",
      "metadata": {
        "id": "mrBuEWqk6F_i"
      },
      "source": [
        "**Predictive Modeling (Classification or Regression)**\n",
        "\n",
        "You can build predictive models to predict specific outcomes, such as predicting the mood_output based on the features, or predicting stress levels based on other health factors.\n",
        "\n",
        "Example - mood_output Prediction (Classification):\n",
        "\n",
        "Let's say you want to predict the mood_output using features like stress level, sleep duration, and physical activity. You could apply a classification model (e.g., Random Forest, Logistic Regression)."
      ]
    },
    {
      "cell_type": "code",
      "execution_count": 37,
      "metadata": {
        "colab": {
          "base_uri": "https://localhost:8080/"
        },
        "id": "S56vDN8A316J",
        "outputId": "3c54ec17-3d80-499a-c727-25217e235c18"
      },
      "outputs": [
        {
          "name": "stdout",
          "output_type": "stream",
          "text": [
            "              precision    recall  f1-score   support\n",
            "\n",
            "       Happy       1.00      1.00      1.00        45\n",
            "     Neutral       1.00      1.00      1.00        43\n",
            "         Sad       1.00      1.00      1.00        60\n",
            "\n",
            "    accuracy                           1.00       148\n",
            "   macro avg       1.00      1.00      1.00       148\n",
            "weighted avg       1.00      1.00      1.00       148\n",
            "\n"
          ]
        }
      ],
      "source": [
        "# Prepare the data (assuming 'mood_output' is the target variable)\n",
        "X = df[['level_of_physical_activity_minutes_per_day', 'duration_of_sleep_hours', 'level_of_stress_scale_110', 'heart_rate_bpm']]\n",
        "y = df['mood_output']\n",
        "\n",
        "# Drop rows with missing values in target or features\n",
        "X = X.dropna()\n",
        "y = y.loc[X.index]\n",
        "\n",
        "# Split the data into training and testing sets\n",
        "X_train, X_test, y_train, y_test = train_test_split(X, y, test_size=0.2, random_state=42)\n",
        "\n",
        "# Initialize and train the classifier\n",
        "clf = RandomForestClassifier(random_state=42)\n",
        "clf.fit(X_train, y_train)\n",
        "\n",
        "# Predict and evaluate the model\n",
        "y_pred = clf.predict(X_test)\n",
        "print(classification_report(y_test, y_pred))\n"
      ]
    },
    {
      "cell_type": "markdown",
      "metadata": {
        "id": "KyHdVRmB58Dm"
      },
      "source": [
        "**Visualization of Groupings and Health Indicators**\n",
        "\n",
        "Visualizing the different groups and their health indicators can be insightful, especially to spot patterns and trends."
      ]
    },
    {
      "cell_type": "code",
      "execution_count": 38,
      "metadata": {
        "colab": {
          "base_uri": "https://localhost:8080/",
          "height": 645
        },
        "id": "jc-zkZKh355_",
        "outputId": "a38af9c0-156d-4083-aad1-fb97f4026e1c"
      },
      "outputs": [
        {
          "data": {
            "image/png": "[encoded data removed]",
            "text/plain": [
              "<Figure size 1000x1000 with 20 Axes>"
            ]
          },
          "metadata": {},
          "output_type": "display_data"
        }
      ],
      "source": [
        "# Pairplot to check the relationships between selected features (e.g., stress, sleep, activity)\n",
        "sns.pairplot(df[['level_of_physical_activity_minutes_per_day', 'duration_of_sleep_hours', 'level_of_stress_scale_110', 'heart_rate_bpm']])\n",
        "plt.show()"
      ]
    },
    {
      "cell_type": "markdown",
      "metadata": {
        "id": "iIDuEiIN52Yl"
      },
      "source": [
        "**Convert Mood to Numeric and Calculate Mean**"
      ]
    },
    {
      "cell_type": "code",
      "execution_count": 39,
      "metadata": {
        "colab": {
          "base_uri": "https://localhost:8080/"
        },
        "id": "dQaIi5EY5Jlv",
        "outputId": "4ab1f205-93ab-44e7-87eb-be81a1366427"
      },
      "outputs": [
        {
          "name": "stdout",
          "output_type": "stream",
          "text": [
            "lifestyle_grouping\n",
            "GOOD       0.244068\n",
            "NEUTRAL   -0.323529\n",
            "Name: mood_output_numeric, dtype: float64\n"
          ]
        }
      ],
      "source": [
        "# Map mood values to numeric\n",
        "mood_mapping = {'Happy': 1, 'Neutral': 0, 'Sad': -1}\n",
        "df['mood_output_numeric'] = df['mood_output'].map(mood_mapping)\n",
        "\n",
        "# Group by lifestyle and calculate the average mood (numeric)\n",
        "lifestyle_mood_avg = df.groupby('lifestyle_grouping')['mood_output_numeric'].mean()\n",
        "\n",
        "# Display the result\n",
        "print(lifestyle_mood_avg)\n"
      ]
    },
    {
      "cell_type": "markdown",
      "metadata": {
        "id": "XjvTwcMU5eXD"
      },
      "source": [
        "**Summary Stats for Categorical Columns**"
      ]
    },
    {
      "cell_type": "code",
      "execution_count": 40,
      "metadata": {
        "colab": {
          "base_uri": "https://localhost:8080/"
        },
        "id": "1RvIjVgo5Vhc",
        "outputId": "6f275313-3e97-4b9b-c4fd-b6a696df8810"
      },
      "outputs": [
        {
          "name": "stdout",
          "output_type": "stream",
          "text": [
            "lifestyle_grouping  mood_output\n",
            "GOOD                Happy          147\n",
            "                    Sad             75\n",
            "                    Neutral         73\n",
            "NEUTRAL             Sad            219\n",
            "                    Neutral        147\n",
            "                    Happy           76\n",
            "Name: count, dtype: int64\n"
          ]
        }
      ],
      "source": [
        "# Get value counts of mood_output by lifestyle group\n",
        "lifestyle_mood_counts = df.groupby('lifestyle_grouping')['mood_output'].value_counts()\n",
        "\n",
        "print(lifestyle_mood_counts)\n"
      ]
    },
    {
      "cell_type": "code",
      "execution_count": 41,
      "metadata": {
        "colab": {
          "base_uri": "https://localhost:8080/",
          "height": 256
        },
        "id": "5oJgB8JV8Bj8",
        "outputId": "0aa9b13f-56ac-4d2a-abd0-0599b52c492d"
      },
      "outputs": [
        {
          "ename": "FileNotFoundError",
          "evalue": "[Errno 2] No such file or directory: 'processed_wellness_data.csv'",
          "output_type": "error",
          "traceback": [
            "\u001b[1;31m---------------------------------------------------------------------------\u001b[0m",
            "\u001b[1;31mFileNotFoundError\u001b[0m                         Traceback (most recent call last)",
            "Cell \u001b[1;32mIn[41], line 2\u001b[0m\n\u001b[0;32m      1\u001b[0m \u001b[38;5;66;03m# Load the CSV file\u001b[39;00m\n\u001b[1;32m----> 2\u001b[0m df \u001b[38;5;241m=\u001b[39m \u001b[43mpd\u001b[49m\u001b[38;5;241;43m.\u001b[39;49m\u001b[43mread_csv\u001b[49m\u001b[43m(\u001b[49m\u001b[38;5;124;43m'\u001b[39;49m\u001b[38;5;124;43mprocessed_wellness_data.csv\u001b[39;49m\u001b[38;5;124;43m'\u001b[39;49m\u001b[43m)\u001b[49m\n\u001b[0;32m      4\u001b[0m \u001b[38;5;66;03m# Display the first few rows\u001b[39;00m\n\u001b[0;32m      5\u001b[0m df\u001b[38;5;241m.\u001b[39mhead()\n",
            "File \u001b[1;32m~\\AppData\\Roaming\\Python\\Python312\\site-packages\\pandas\\io\\parsers\\readers.py:1026\u001b[0m, in \u001b[0;36mread_csv\u001b[1;34m(filepath_or_buffer, sep, delimiter, header, names, index_col, usecols, dtype, engine, converters, true_values, false_values, skipinitialspace, skiprows, skipfooter, nrows, na_values, keep_default_na, na_filter, verbose, skip_blank_lines, parse_dates, infer_datetime_format, keep_date_col, date_parser, date_format, dayfirst, cache_dates, iterator, chunksize, compression, thousands, decimal, lineterminator, quotechar, quoting, doublequote, escapechar, comment, encoding, encoding_errors, dialect, on_bad_lines, delim_whitespace, low_memory, memory_map, float_precision, storage_options, dtype_backend)\u001b[0m\n\u001b[0;32m   1013\u001b[0m kwds_defaults \u001b[38;5;241m=\u001b[39m _refine_defaults_read(\n\u001b[0;32m   1014\u001b[0m     dialect,\n\u001b[0;32m   1015\u001b[0m     delimiter,\n\u001b[1;32m   (...)\u001b[0m\n\u001b[0;32m   1022\u001b[0m     dtype_backend\u001b[38;5;241m=\u001b[39mdtype_backend,\n\u001b[0;32m   1023\u001b[0m )\n\u001b[0;32m   1024\u001b[0m kwds\u001b[38;5;241m.\u001b[39mupdate(kwds_defaults)\n\u001b[1;32m-> 1026\u001b[0m \u001b[38;5;28;01mreturn\u001b[39;00m \u001b[43m_read\u001b[49m\u001b[43m(\u001b[49m\u001b[43mfilepath_or_buffer\u001b[49m\u001b[43m,\u001b[49m\u001b[43m \u001b[49m\u001b[43mkwds\u001b[49m\u001b[43m)\u001b[49m\n",
            "File \u001b[1;32m~\\AppData\\Roaming\\Python\\Python312\\site-packages\\pandas\\io\\parsers\\readers.py:620\u001b[0m, in \u001b[0;36m_read\u001b[1;34m(filepath_or_buffer, kwds)\u001b[0m\n\u001b[0;32m    617\u001b[0m _validate_names(kwds\u001b[38;5;241m.\u001b[39mget(\u001b[38;5;124m\"\u001b[39m\u001b[38;5;124mnames\u001b[39m\u001b[38;5;124m\"\u001b[39m, \u001b[38;5;28;01mNone\u001b[39;00m))\n\u001b[0;32m    619\u001b[0m \u001b[38;5;66;03m# Create the parser.\u001b[39;00m\n\u001b[1;32m--> 620\u001b[0m parser \u001b[38;5;241m=\u001b[39m \u001b[43mTextFileReader\u001b[49m\u001b[43m(\u001b[49m\u001b[43mfilepath_or_buffer\u001b[49m\u001b[43m,\u001b[49m\u001b[43m \u001b[49m\u001b[38;5;241;43m*\u001b[39;49m\u001b[38;5;241;43m*\u001b[39;49m\u001b[43mkwds\u001b[49m\u001b[43m)\u001b[49m\n\u001b[0;32m    622\u001b[0m \u001b[38;5;28;01mif\u001b[39;00m chunksize \u001b[38;5;129;01mor\u001b[39;00m iterator:\n\u001b[0;32m    623\u001b[0m     \u001b[38;5;28;01mreturn\u001b[39;00m parser\n",
            "File \u001b[1;32m~\\AppData\\Roaming\\Python\\Python312\\site-packages\\pandas\\io\\parsers\\readers.py:1620\u001b[0m, in \u001b[0;36mTextFileReader.__init__\u001b[1;34m(self, f, engine, **kwds)\u001b[0m\n\u001b[0;32m   1617\u001b[0m     \u001b[38;5;28mself\u001b[39m\u001b[38;5;241m.\u001b[39moptions[\u001b[38;5;124m\"\u001b[39m\u001b[38;5;124mhas_index_names\u001b[39m\u001b[38;5;124m\"\u001b[39m] \u001b[38;5;241m=\u001b[39m kwds[\u001b[38;5;124m\"\u001b[39m\u001b[38;5;124mhas_index_names\u001b[39m\u001b[38;5;124m\"\u001b[39m]\n\u001b[0;32m   1619\u001b[0m \u001b[38;5;28mself\u001b[39m\u001b[38;5;241m.\u001b[39mhandles: IOHandles \u001b[38;5;241m|\u001b[39m \u001b[38;5;28;01mNone\u001b[39;00m \u001b[38;5;241m=\u001b[39m \u001b[38;5;28;01mNone\u001b[39;00m\n\u001b[1;32m-> 1620\u001b[0m \u001b[38;5;28mself\u001b[39m\u001b[38;5;241m.\u001b[39m_engine \u001b[38;5;241m=\u001b[39m \u001b[38;5;28;43mself\u001b[39;49m\u001b[38;5;241;43m.\u001b[39;49m\u001b[43m_make_engine\u001b[49m\u001b[43m(\u001b[49m\u001b[43mf\u001b[49m\u001b[43m,\u001b[49m\u001b[43m \u001b[49m\u001b[38;5;28;43mself\u001b[39;49m\u001b[38;5;241;43m.\u001b[39;49m\u001b[43mengine\u001b[49m\u001b[43m)\u001b[49m\n",
            "File \u001b[1;32m~\\AppData\\Roaming\\Python\\Python312\\site-packages\\pandas\\io\\parsers\\readers.py:1880\u001b[0m, in \u001b[0;36mTextFileReader._make_engine\u001b[1;34m(self, f, engine)\u001b[0m\n\u001b[0;32m   1878\u001b[0m     \u001b[38;5;28;01mif\u001b[39;00m \u001b[38;5;124m\"\u001b[39m\u001b[38;5;124mb\u001b[39m\u001b[38;5;124m\"\u001b[39m \u001b[38;5;129;01mnot\u001b[39;00m \u001b[38;5;129;01min\u001b[39;00m mode:\n\u001b[0;32m   1879\u001b[0m         mode \u001b[38;5;241m+\u001b[39m\u001b[38;5;241m=\u001b[39m \u001b[38;5;124m\"\u001b[39m\u001b[38;5;124mb\u001b[39m\u001b[38;5;124m\"\u001b[39m\n\u001b[1;32m-> 1880\u001b[0m \u001b[38;5;28mself\u001b[39m\u001b[38;5;241m.\u001b[39mhandles \u001b[38;5;241m=\u001b[39m \u001b[43mget_handle\u001b[49m\u001b[43m(\u001b[49m\n\u001b[0;32m   1881\u001b[0m \u001b[43m    \u001b[49m\u001b[43mf\u001b[49m\u001b[43m,\u001b[49m\n\u001b[0;32m   1882\u001b[0m \u001b[43m    \u001b[49m\u001b[43mmode\u001b[49m\u001b[43m,\u001b[49m\n\u001b[0;32m   1883\u001b[0m \u001b[43m    \u001b[49m\u001b[43mencoding\u001b[49m\u001b[38;5;241;43m=\u001b[39;49m\u001b[38;5;28;43mself\u001b[39;49m\u001b[38;5;241;43m.\u001b[39;49m\u001b[43moptions\u001b[49m\u001b[38;5;241;43m.\u001b[39;49m\u001b[43mget\u001b[49m\u001b[43m(\u001b[49m\u001b[38;5;124;43m\"\u001b[39;49m\u001b[38;5;124;43mencoding\u001b[39;49m\u001b[38;5;124;43m\"\u001b[39;49m\u001b[43m,\u001b[49m\u001b[43m \u001b[49m\u001b[38;5;28;43;01mNone\u001b[39;49;00m\u001b[43m)\u001b[49m\u001b[43m,\u001b[49m\n\u001b[0;32m   1884\u001b[0m \u001b[43m    \u001b[49m\u001b[43mcompression\u001b[49m\u001b[38;5;241;43m=\u001b[39;49m\u001b[38;5;28;43mself\u001b[39;49m\u001b[38;5;241;43m.\u001b[39;49m\u001b[43moptions\u001b[49m\u001b[38;5;241;43m.\u001b[39;49m\u001b[43mget\u001b[49m\u001b[43m(\u001b[49m\u001b[38;5;124;43m\"\u001b[39;49m\u001b[38;5;124;43mcompression\u001b[39;49m\u001b[38;5;124;43m\"\u001b[39;49m\u001b[43m,\u001b[49m\u001b[43m \u001b[49m\u001b[38;5;28;43;01mNone\u001b[39;49;00m\u001b[43m)\u001b[49m\u001b[43m,\u001b[49m\n\u001b[0;32m   1885\u001b[0m \u001b[43m    \u001b[49m\u001b[43mmemory_map\u001b[49m\u001b[38;5;241;43m=\u001b[39;49m\u001b[38;5;28;43mself\u001b[39;49m\u001b[38;5;241;43m.\u001b[39;49m\u001b[43moptions\u001b[49m\u001b[38;5;241;43m.\u001b[39;49m\u001b[43mget\u001b[49m\u001b[43m(\u001b[49m\u001b[38;5;124;43m\"\u001b[39;49m\u001b[38;5;124;43mmemory_map\u001b[39;49m\u001b[38;5;124;43m\"\u001b[39;49m\u001b[43m,\u001b[49m\u001b[43m \u001b[49m\u001b[38;5;28;43;01mFalse\u001b[39;49;00m\u001b[43m)\u001b[49m\u001b[43m,\u001b[49m\n\u001b[0;32m   1886\u001b[0m \u001b[43m    \u001b[49m\u001b[43mis_text\u001b[49m\u001b[38;5;241;43m=\u001b[39;49m\u001b[43mis_text\u001b[49m\u001b[43m,\u001b[49m\n\u001b[0;32m   1887\u001b[0m \u001b[43m    \u001b[49m\u001b[43merrors\u001b[49m\u001b[38;5;241;43m=\u001b[39;49m\u001b[38;5;28;43mself\u001b[39;49m\u001b[38;5;241;43m.\u001b[39;49m\u001b[43moptions\u001b[49m\u001b[38;5;241;43m.\u001b[39;49m\u001b[43mget\u001b[49m\u001b[43m(\u001b[49m\u001b[38;5;124;43m\"\u001b[39;49m\u001b[38;5;124;43mencoding_errors\u001b[39;49m\u001b[38;5;124;43m\"\u001b[39;49m\u001b[43m,\u001b[49m\u001b[43m \u001b[49m\u001b[38;5;124;43m\"\u001b[39;49m\u001b[38;5;124;43mstrict\u001b[39;49m\u001b[38;5;124;43m\"\u001b[39;49m\u001b[43m)\u001b[49m\u001b[43m,\u001b[49m\n\u001b[0;32m   1888\u001b[0m \u001b[43m    \u001b[49m\u001b[43mstorage_options\u001b[49m\u001b[38;5;241;43m=\u001b[39;49m\u001b[38;5;28;43mself\u001b[39;49m\u001b[38;5;241;43m.\u001b[39;49m\u001b[43moptions\u001b[49m\u001b[38;5;241;43m.\u001b[39;49m\u001b[43mget\u001b[49m\u001b[43m(\u001b[49m\u001b[38;5;124;43m\"\u001b[39;49m\u001b[38;5;124;43mstorage_options\u001b[39;49m\u001b[38;5;124;43m\"\u001b[39;49m\u001b[43m,\u001b[49m\u001b[43m \u001b[49m\u001b[38;5;28;43;01mNone\u001b[39;49;00m\u001b[43m)\u001b[49m\u001b[43m,\u001b[49m\n\u001b[0;32m   1889\u001b[0m \u001b[43m\u001b[49m\u001b[43m)\u001b[49m\n\u001b[0;32m   1890\u001b[0m \u001b[38;5;28;01massert\u001b[39;00m \u001b[38;5;28mself\u001b[39m\u001b[38;5;241m.\u001b[39mhandles \u001b[38;5;129;01mis\u001b[39;00m \u001b[38;5;129;01mnot\u001b[39;00m \u001b[38;5;28;01mNone\u001b[39;00m\n\u001b[0;32m   1891\u001b[0m f \u001b[38;5;241m=\u001b[39m \u001b[38;5;28mself\u001b[39m\u001b[38;5;241m.\u001b[39mhandles\u001b[38;5;241m.\u001b[39mhandle\n",
            "File \u001b[1;32m~\\AppData\\Roaming\\Python\\Python312\\site-packages\\pandas\\io\\common.py:873\u001b[0m, in \u001b[0;36mget_handle\u001b[1;34m(path_or_buf, mode, encoding, compression, memory_map, is_text, errors, storage_options)\u001b[0m\n\u001b[0;32m    868\u001b[0m \u001b[38;5;28;01melif\u001b[39;00m \u001b[38;5;28misinstance\u001b[39m(handle, \u001b[38;5;28mstr\u001b[39m):\n\u001b[0;32m    869\u001b[0m     \u001b[38;5;66;03m# Check whether the filename is to be opened in binary mode.\u001b[39;00m\n\u001b[0;32m    870\u001b[0m     \u001b[38;5;66;03m# Binary mode does not support 'encoding' and 'newline'.\u001b[39;00m\n\u001b[0;32m    871\u001b[0m     \u001b[38;5;28;01mif\u001b[39;00m ioargs\u001b[38;5;241m.\u001b[39mencoding \u001b[38;5;129;01mand\u001b[39;00m \u001b[38;5;124m\"\u001b[39m\u001b[38;5;124mb\u001b[39m\u001b[38;5;124m\"\u001b[39m \u001b[38;5;129;01mnot\u001b[39;00m \u001b[38;5;129;01min\u001b[39;00m ioargs\u001b[38;5;241m.\u001b[39mmode:\n\u001b[0;32m    872\u001b[0m         \u001b[38;5;66;03m# Encoding\u001b[39;00m\n\u001b[1;32m--> 873\u001b[0m         handle \u001b[38;5;241m=\u001b[39m \u001b[38;5;28;43mopen\u001b[39;49m\u001b[43m(\u001b[49m\n\u001b[0;32m    874\u001b[0m \u001b[43m            \u001b[49m\u001b[43mhandle\u001b[49m\u001b[43m,\u001b[49m\n\u001b[0;32m    875\u001b[0m \u001b[43m            \u001b[49m\u001b[43mioargs\u001b[49m\u001b[38;5;241;43m.\u001b[39;49m\u001b[43mmode\u001b[49m\u001b[43m,\u001b[49m\n\u001b[0;32m    876\u001b[0m \u001b[43m            \u001b[49m\u001b[43mencoding\u001b[49m\u001b[38;5;241;43m=\u001b[39;49m\u001b[43mioargs\u001b[49m\u001b[38;5;241;43m.\u001b[39;49m\u001b[43mencoding\u001b[49m\u001b[43m,\u001b[49m\n\u001b[0;32m    877\u001b[0m \u001b[43m            \u001b[49m\u001b[43merrors\u001b[49m\u001b[38;5;241;43m=\u001b[39;49m\u001b[43merrors\u001b[49m\u001b[43m,\u001b[49m\n\u001b[0;32m    878\u001b[0m \u001b[43m            \u001b[49m\u001b[43mnewline\u001b[49m\u001b[38;5;241;43m=\u001b[39;49m\u001b[38;5;124;43m\"\u001b[39;49m\u001b[38;5;124;43m\"\u001b[39;49m\u001b[43m,\u001b[49m\n\u001b[0;32m    879\u001b[0m \u001b[43m        \u001b[49m\u001b[43m)\u001b[49m\n\u001b[0;32m    880\u001b[0m     \u001b[38;5;28;01melse\u001b[39;00m:\n\u001b[0;32m    881\u001b[0m         \u001b[38;5;66;03m# Binary mode\u001b[39;00m\n\u001b[0;32m    882\u001b[0m         handle \u001b[38;5;241m=\u001b[39m \u001b[38;5;28mopen\u001b[39m(handle, ioargs\u001b[38;5;241m.\u001b[39mmode)\n",
            "\u001b[1;31mFileNotFoundError\u001b[0m: [Errno 2] No such file or directory: 'processed_wellness_data.csv'"
          ]
        }
      ],
      "source": [
        "# Load the CSV file\n",
        "df = pd.read_csv('processed_wellness_data.csv')\n",
        "\n",
        "# Display the first few rows\n",
        "df.head()\n"
      ]
    },
    {
      "cell_type": "code",
      "execution_count": null,
      "metadata": {
        "colab": {
          "base_uri": "https://localhost:8080/",
          "height": 1000
        },
        "id": "OWtQEsReA2uB",
        "outputId": "9febe7cf-e81f-418a-9024-afce2ad84da8"
      },
      "outputs": [
        {
          "name": "stdout",
          "output_type": "stream",
          "text": [
            "Column Names:\n",
            " ['duration_of_sleep_hours', 'level_of_physical_activity_minutes_per_day', 'level_of_stress_scale_110', 'bmi_category', 'heart_rate_bpm', 'systolic_and_diastolic_blood_pressure', 'nutrition_intake_calories_breakdown_of_nutrients_etc', 'level_of_workload_scale_110', 'quality_or_frequency_of_social_interactions', 'activities_for_mental_health_such_as_therapy_sessions_or_meditation', 'environmental_aspects_such_as_weather_and_air_quality', 'lifestyle_decisions_such_as_drinking_and_smoking', 'additional_health_indicators_eg_water_levels_steps', 'mood_output', 'extracted_steps', 'mood_output_encoded', 'demographic_health_grouping', 'sleep_health', 'heart_health', 'bp_health', 'lifestyle_grouping', 'activity_level_grouping', 'stress_profile_grouping', 'workload_profile_grouping', 'social_wellness_grouping']\n",
            "\n",
            "Value Counts for Categorical Columns:\n",
            "\n",
            "bmi_category:\n",
            "bmi_category\n",
            "Normal         297\n",
            "Overweight     147\n",
            "Underweight    147\n",
            "Obese          146\n",
            "Name: count, dtype: int64\n",
            "\n",
            "systolic_and_diastolic_blood_pressure:\n",
            "systolic_and_diastolic_blood_pressure\n",
            "110/70     111\n",
            "108/68      73\n",
            "128/88      73\n",
            "120/80      38\n",
            "122/82      38\n",
            "115/75      38\n",
            "118/78      38\n",
            "140/95      37\n",
            "135/95      37\n",
            "124/84      37\n",
            "112/72      37\n",
            "130/90      36\n",
            "125/85      36\n",
            "105/65      36\n",
            "132/92      36\n",
            "145/100     36\n",
            "Name: count, dtype: int64\n",
            "\n",
            "nutrition_intake_calories_breakdown_of_nutrients_etc:\n",
            "nutrition_intake_calories_breakdown_of_nutrients_etc\n",
            "2100 calories (balanced diet)      73\n",
            "2000 calories (balanced diet)      39\n",
            "2500 calories (high in carbs)      38\n",
            "1800 calories (low in protein)     38\n",
            "2200 calories (healthy diet)       38\n",
            "3500 calories (unhealthy)          37\n",
            "2400 calories (healthy diet)       37\n",
            "2050 calories (balanced diet)      37\n",
            "2250 calories (healthy diet)       37\n",
            "1850 calories (low in protein)     37\n",
            "2600 calories (high in carbs)      37\n",
            "3200 calories (unhealthy)          37\n",
            "1700 calories (low in calories)    36\n",
            "3000 calories (unhealthy)          36\n",
            "2800 calories (high in fat)        36\n",
            "2850 calories (high in fat)        36\n",
            "1750 calories (low in calories)    36\n",
            "2450 calories (healthy diet)       36\n",
            "3700 calories (unhealthy)          36\n",
            "Name: count, dtype: int64\n",
            "\n",
            "quality_or_frequency_of_social_interactions:\n",
            "quality_or_frequency_of_social_interactions\n",
            "Good, frequent          149\n",
            "Low, infrequent         148\n",
            "Moderate, occasional    147\n",
            "Very good, daily        147\n",
            "Poor, infrequent        146\n",
            "Name: count, dtype: int64\n",
            "\n",
            "activities_for_mental_health_such_as_therapy_sessions_or_meditation:\n",
            "activities_for_mental_health_such_as_therapy_sessions_or_meditation\n",
            "Meditation daily           149\n",
            "Therapy sessions weekly    148\n",
            "Yoga twice a week          147\n",
            "Name: count, dtype: int64\n",
            "\n",
            "environmental_aspects_such_as_weather_and_air_quality:\n",
            "environmental_aspects_such_as_weather_and_air_quality\n",
            "Sunny, good air quality         369\n",
            "Rainy, poor air quality         221\n",
            "Cloudy, moderate air quality    147\n",
            "Name: count, dtype: int64\n",
            "\n",
            "lifestyle_decisions_such_as_drinking_and_smoking:\n",
            "lifestyle_decisions_such_as_drinking_and_smoking\n",
            "No alcohol, no smoking               371\n",
            "Occasional alcohol, no smoking       147\n",
            "Daily alcohol, occasional smoking     73\n",
            "Daily alcohol, no smoking             73\n",
            "Daily alcohol, heavy smoking          73\n",
            "Name: count, dtype: int64\n",
            "\n",
            "additional_health_indicators_eg_water_levels_steps:\n",
            "additional_health_indicators_eg_water_levels_steps\n",
            "1.5 liters, 8000 steps     38\n",
            "2.5 liters, 5000 steps     38\n",
            "2.0 liters, 10000 steps    38\n",
            "2 liters, 11000 steps      37\n",
            "0.5 liters, 2000 steps     37\n",
            "1.6 liters, 8500 steps     37\n",
            "2.0 liters, 12000 steps    37\n",
            "2.6 liters, 9500 steps     37\n",
            "1.2 liters, 3500 steps     37\n",
            "2.2 liters, 10500 steps    37\n",
            "2.8 liters, 5500 steps     37\n",
            "2.4 liters, 12500 steps    37\n",
            "1 liter, 3000 steps        36\n",
            "2.5 liters, 9000 steps     36\n",
            "3.0 liters, 6500 steps     36\n",
            "1.8 liters, 7500 steps     36\n",
            "3 liters, 6000 steps       36\n",
            "1.8 liters, 7000 steps     36\n",
            "0.8 liters, 2500 steps     36\n",
            "2.2 liters, 11500 steps    36\n",
            "2 liters, 12000 steps       1\n",
            "2 liters, 10,000 steps      1\n",
            "Name: count, dtype: int64\n",
            "\n",
            "mood_output:\n",
            "mood_output\n",
            "Sad        294\n",
            "Happy      223\n",
            "Neutral    220\n",
            "Name: count, dtype: int64\n",
            "\n",
            "demographic_health_grouping:\n",
            "demographic_health_grouping\n",
            "UNHEALTHY_CONSUMPTION    440\n",
            "HEALTHY_CONSUMPTION      261\n",
            "NEUTRAL_CONSUMPTION       36\n",
            "Name: count, dtype: int64\n",
            "\n",
            "sleep_health:\n",
            "sleep_health\n",
            "GOOD_SLEEP    371\n",
            "POOR_SLEEP    366\n",
            "Name: count, dtype: int64\n",
            "\n",
            "heart_health:\n",
            "heart_health\n",
            "GOOD_HEART_RATE    737\n",
            "Name: count, dtype: int64\n",
            "\n",
            "bp_health:\n",
            "bp_health\n",
            "POOR_BLOOD_PRESSURE    404\n",
            "GOOD_BLOOD_PRESSURE    333\n",
            "Name: count, dtype: int64\n",
            "\n",
            "lifestyle_grouping:\n",
            "lifestyle_grouping\n",
            "NEUTRAL    442\n",
            "GOOD       295\n",
            "Name: count, dtype: int64\n",
            "\n",
            "activity_level_grouping:\n",
            "activity_level_grouping\n",
            "LIGHTLY_ACTIVE     332\n",
            "ACTIVE             148\n",
            "SEDENTARY          146\n",
            "SOMEWHAT_ACTIVE    111\n",
            "Name: count, dtype: int64\n",
            "\n",
            "stress_profile_grouping:\n",
            "stress_profile_grouping\n",
            "LOW_STRESS       334\n",
            "HIGH_STRESS      221\n",
            "MEDIUM_STRESS    182\n",
            "Name: count, dtype: int64\n",
            "\n",
            "workload_profile_grouping:\n",
            "workload_profile_grouping\n",
            "HIGH_WORKLOAD      366\n",
            "LOW_WORKLOAD       219\n",
            "MEDIUM_WORKLOAD    152\n",
            "Name: count, dtype: int64\n",
            "\n",
            "social_wellness_grouping:\n",
            "social_wellness_grouping\n",
            "HIGH_SOCIAL        296\n",
            "MODERATE_SOCIAL    295\n",
            "LOW_SOCIAL         146\n",
            "Name: count, dtype: int64\n",
            "\n",
            "Summary Stats for Categorical Columns:\n",
            "       bmi_category systolic_and_diastolic_blood_pressure  \\\n",
            "count           737                                   737   \n",
            "unique            4                                    16   \n",
            "top          Normal                                110/70   \n",
            "freq            297                                   111   \n",
            "\n",
            "       nutrition_intake_calories_breakdown_of_nutrients_etc  \\\n",
            "count                                                 737     \n",
            "unique                                                 19     \n",
            "top                         2100 calories (balanced diet)     \n",
            "freq                                                   73     \n",
            "\n",
            "       quality_or_frequency_of_social_interactions  \\\n",
            "count                                          737   \n",
            "unique                                           5   \n",
            "top                                 Good, frequent   \n",
            "freq                                           149   \n",
            "\n",
            "       activities_for_mental_health_such_as_therapy_sessions_or_meditation  \\\n",
            "count                                                 444                    \n",
            "unique                                                  3                    \n",
            "top                                      Meditation daily                    \n",
            "freq                                                  149                    \n",
            "\n",
            "       environmental_aspects_such_as_weather_and_air_quality  \\\n",
            "count                                                 737      \n",
            "unique                                                  3      \n",
            "top                               Sunny, good air quality      \n",
            "freq                                                  369      \n",
            "\n",
            "       lifestyle_decisions_such_as_drinking_and_smoking  \\\n",
            "count                                               737   \n",
            "unique                                                5   \n",
            "top                              No alcohol, no smoking   \n",
            "freq                                                371   \n",
            "\n",
            "       additional_health_indicators_eg_water_levels_steps mood_output  \\\n",
            "count                                                 737         737   \n",
            "unique                                                 22           3   \n",
            "top                                1.5 liters, 8000 steps         Sad   \n",
            "freq                                                   38         294   \n",
            "\n",
            "       demographic_health_grouping sleep_health     heart_health  \\\n",
            "count                          737          737              737   \n",
            "unique                           3            2                1   \n",
            "top          UNHEALTHY_CONSUMPTION   GOOD_SLEEP  GOOD_HEART_RATE   \n",
            "freq                           440          371              737   \n",
            "\n",
            "                  bp_health lifestyle_grouping activity_level_grouping  \\\n",
            "count                   737                737                     737   \n",
            "unique                    2                  2                       4   \n",
            "top     POOR_BLOOD_PRESSURE            NEUTRAL          LIGHTLY_ACTIVE   \n",
            "freq                    404                442                     332   \n",
            "\n",
            "       stress_profile_grouping workload_profile_grouping  \\\n",
            "count                      737                       737   \n",
            "unique                       3                         3   \n",
            "top                 LOW_STRESS             HIGH_WORKLOAD   \n",
            "freq                       334                       366   \n",
            "\n",
            "       social_wellness_grouping  \n",
            "count                       737  \n",
            "unique                        3  \n",
            "top                 HIGH_SOCIAL  \n",
            "freq                        296  \n",
            "\n",
            "Group Sizes:\n",
            "\n",
            "Cluster Counts:\n",
            "Cluster\n",
            "1    335\n",
            "0    291\n",
            "2    111\n",
            "Name: count, dtype: int64\n"
          ]
        },
        {
          "data": {
            "image/png": "[encoded data removed]",
            "text/plain": [
              "<Figure size 800x600 with 1 Axes>"
            ]
          },
          "metadata": {},
          "output_type": "display_data"
        },
        {
          "name": "stdout",
          "output_type": "stream",
          "text": [
            "\n",
            "Classification Report for Mood Prediction:\n",
            "              precision    recall  f1-score   support\n",
            "\n",
            "           0       1.00      1.00      1.00        45\n",
            "           1       1.00      1.00      1.00        43\n",
            "           2       1.00      1.00      1.00        60\n",
            "\n",
            "    accuracy                           1.00       148\n",
            "   macro avg       1.00      1.00      1.00       148\n",
            "weighted avg       1.00      1.00      1.00       148\n",
            "\n"
          ]
        }
      ],
      "source": [
        "# Preview column names\n",
        "print(\"Column Names:\\n\", df.columns.tolist())\n",
        "\n",
        "# Clean column names\n",
        "df.columns = df.columns.str.strip()\n",
        "\n",
        "# Value Counts for Categorical Columns\n",
        "cat_cols = df.select_dtypes(include=['object']).columns\n",
        "print(\"\\nValue Counts for Categorical Columns:\")\n",
        "for col in cat_cols:\n",
        "    print(f\"\\n{col}:\\n{df[col].value_counts()}\")\n",
        "\n",
        "# Convert Mood to Numeric and Summary Stats for Categorical Columns\n",
        "if 'mood_output' in df.columns:\n",
        "    df['Mood_Numeric'] = LabelEncoder().fit_transform(df['mood_output'])\n",
        "\n",
        "print(\"\\nSummary Stats for Categorical Columns:\")\n",
        "print(df.describe(include='object'))\n",
        "\n",
        "# Mean Mood by Groupings\n",
        "group_cols = ['gender', 'age_group']\n",
        "group_cols = [col for col in group_cols if col in df.columns]  # ensure they exist\n",
        "\n",
        "if 'Mood_Numeric' in df.columns and group_cols:\n",
        "    print(\"\\nMean Mood by Groupings:\")\n",
        "    print(df.groupby(group_cols)['Mood_Numeric'].mean())\n",
        "\n",
        "# Analyze Relationships Between Groupings\n",
        "print(\"\\nGroup Sizes:\")\n",
        "if group_cols:\n",
        "    print(df.groupby(group_cols).size())\n",
        "\n",
        "# Clustering Analysis\n",
        "features_for_clustering = ['level_of_stress_scale_110', 'duration_of_sleep_hours', 'quality_of_sleep_110']\n",
        "features_for_clustering = [col for col in features_for_clustering if col in df.columns]\n",
        "\n",
        "if features_for_clustering:\n",
        "    X_scaled = StandardScaler().fit_transform(df[features_for_clustering].dropna())\n",
        "\n",
        "    kmeans = KMeans(n_clusters=3, random_state=42)\n",
        "    df['Cluster'] = kmeans.fit_predict(X_scaled)\n",
        "\n",
        "    print(\"\\nCluster Counts:\")\n",
        "    print(df['Cluster'].value_counts())\n",
        "\n",
        "    # Visualize clusters\n",
        "    plt.figure(figsize=(8, 6))\n",
        "    sns.scatterplot(x=df[features_for_clustering[0]], y=df[features_for_clustering[1]], hue=df['Cluster'], palette='Set2')\n",
        "    plt.title('Clusters based on Health Indicators')\n",
        "    plt.show()\n",
        "\n",
        "# Predictive Modeling: Mood Output Prediction\n",
        "model_features = ['level_of_stress_scale_110', 'duration_of_sleep_hours', 'quality_of_sleep_110']\n",
        "model_features = [col for col in model_features if col in df.columns]\n",
        "if 'Mood_Numeric' in df.columns and all(col in df.columns for col in model_features):\n",
        "    X = df[model_features]\n",
        "    y = df['Mood_Numeric']\n",
        "\n",
        "    X_train, X_test, y_train, y_test = train_test_split(X, y, test_size=0.2, random_state=42)\n",
        "\n",
        "    clf = RandomForestClassifier(n_estimators=100, random_state=42)\n",
        "    clf.fit(X_train, y_train)\n",
        "\n",
        "    y_pred = clf.predict(X_test)\n",
        "\n",
        "    print(\"\\nClassification Report for Mood Prediction:\")\n",
        "    print(classification_report(y_test, y_pred))\n"
      ]
    }
  ],
  "metadata": {
    "colab": {
      "collapsed_sections": [
        "MbPiRPci64zg"
      ],
      "provenance": []
    },
    "kernelspec": {
      "display_name": "Python 3",
      "name": "python3"
    },
    "language_info": {
      "codemirror_mode": {
        "name": "ipython",
        "version": 3
      },
      "file_extension": ".py",
      "mimetype": "text/x-python",
      "name": "python",
      "nbconvert_exporter": "python",
      "pygments_lexer": "ipython3",
      "version": "3.12.6"
    }
  },
  "nbformat": 4,
  "nbformat_minor": 0
}
