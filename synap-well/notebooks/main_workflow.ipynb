{
 "cells": [
  {
   "cell_type": "code",
   "execution_count": 1,
   "id": "fc67d497",
   "metadata": {},
   "outputs": [
    {
     "name": "stdout",
     "output_type": "stream",
     "text": [
      "Defaulting to user installation because normal site-packages is not writeable\n",
      "Requirement already satisfied: ipynb in c:\\users\\josue\\appdata\\roaming\\python\\python312\\site-packages (0.5.1)\n",
      "Note: you may need to restart the kernel to use updated packages.\n"
     ]
    },
    {
     "name": "stderr",
     "output_type": "stream",
     "text": [
      "WARNING: Ignoring invalid distribution ~ensorflow (C:\\Users\\Josue\\AppData\\Roaming\\Python\\Python312\\site-packages)\n",
      "WARNING: Ignoring invalid distribution ~ensorflow (C:\\Users\\Josue\\AppData\\Roaming\\Python\\Python312\\site-packages)\n",
      "WARNING: Ignoring invalid distribution ~ensorflow (C:\\Users\\Josue\\AppData\\Roaming\\Python\\Python312\\site-packages)\n",
      "\n",
      "[notice] A new release of pip is available: 25.0 -> 25.1\n",
      "[notice] To update, run: python.exe -m pip install --upgrade pip\n"
     ]
    },
    {
     "name": "stdout",
     "output_type": "stream",
     "text": [
      "Note: you may need to restart the kernel to use updated packages.\n"
     ]
    },
    {
     "name": "stderr",
     "output_type": "stream",
     "text": [
      "WARNING: Ignoring invalid distribution ~ensorflow (C:\\Users\\Josue\\AppData\\Roaming\\Python\\Python312\\site-packages)\n",
      "WARNING: Ignoring invalid distribution ~ensorflow (C:\\Users\\Josue\\AppData\\Roaming\\Python\\Python312\\site-packages)\n",
      "WARNING: Ignoring invalid distribution ~ensorflow (C:\\Users\\Josue\\AppData\\Roaming\\Python\\Python312\\site-packages)\n",
      "\n",
      "[notice] A new release of pip is available: 25.0 -> 25.1\n",
      "[notice] To update, run: python.exe -m pip install --upgrade pip\n"
     ]
    }
   ],
   "source": [
    "%pip install ipynb\n",
    "%pip install python-dotenv transformers accelerate bitsandbytes --quiet"
   ]
  },
  {
   "cell_type": "code",
   "execution_count": 2,
   "id": "cb8bcfe7",
   "metadata": {},
   "outputs": [
    {
     "name": "stderr",
     "output_type": "stream",
     "text": [
      "The `load_in_4bit` and `load_in_8bit` arguments are deprecated and will be removed in the future versions. Please, pass a `BitsAndBytesConfig` object in `quantization_config` argument instead.\n"
     ]
    },
    {
     "data": {
      "application/vnd.jupyter.widget-view+json": {
       "model_id": "9ed7f1398dc14264b4f7e4fb713a46da",
       "version_major": 2,
       "version_minor": 0
      },
      "text/plain": [
       "Loading checkpoint shards:   0%|          | 0/2 [00:00<?, ?it/s]"
      ]
     },
     "metadata": {},
     "output_type": "display_data"
    },
    {
     "name": "stderr",
     "output_type": "stream",
     "text": [
      "Device set to use cuda:0\n",
      "Setting `pad_token_id` to `eos_token_id`:2 for open-end generation.\n",
      "C:\\Users\\Josue\\AppData\\Roaming\\Python\\Python312\\site-packages\\bitsandbytes\\nn\\modules.py:451: UserWarning: Input type into Linear4bit is torch.float16, but bnb_4bit_compute_dtype=torch.float32 (default). This will lead to slow inference or training speed.\n",
      "  warnings.warn(\n"
     ]
    },
    {
     "name": "stdout",
     "output_type": "stream",
     "text": [
      " Based on your current state and preferences, here are three recommended activities:\n",
      "\n",
      "1. Go for a run: This will provide you with some exercise while enjoying the beautiful weather. Running has numerous benefits for both physical and mental health.\n",
      "2. Listen to nature sounds: If you prefer indoor activities, listen to some calming nature sounds like birds chirping or waves crashing. These sounds can help reduce stress and improve focus.\n",
      "3. Do yoga: Yoga combines mindfulness and relaxation techniques with low-impact exercises, making it perfect for someone like you who wants to stay active but also unwind after a busy day.\n"
     ]
    }
   ],
   "source": [
    "from ipynb.fs.full.recommendations import *"
   ]
  },
  {
   "cell_type": "code",
   "execution_count": 3,
   "id": "4c19a835",
   "metadata": {},
   "outputs": [
    {
     "name": "stdout",
     "output_type": "stream",
     "text": [
      "\n",
      "Is Cuda Available: True\n",
      "Cuda Version: 12.4\n"
     ]
    },
    {
     "data": {
      "application/vnd.jupyter.widget-view+json": {
       "model_id": "3cde27510cec4a648b0350f54f38ca23",
       "version_major": 2,
       "version_minor": 0
      },
      "text/plain": [
       "Generating train split: 0 examples [00:00, ? examples/s]"
      ]
     },
     "metadata": {},
     "output_type": "display_data"
    },
    {
     "name": "stdout",
     "output_type": "stream",
     "text": [
      "{0: 'admiration', 1: 'amusement', 2: 'anger', 3: 'annoyance', 4: 'approval', 5: 'caring', 6: 'confusion', 7: 'curiosity', 8: 'desire', 9: 'disappointment', 10: 'disapproval', 11: 'disgust', 12: 'embarrassment', 13: 'excitement', 14: 'fear', 15: 'gratitude', 16: 'grief', 17: 'joy', 18: 'love', 19: 'nervousness', 20: 'optimism', 21: 'pride', 22: 'realization', 23: 'relief', 24: 'remorse', 25: 'sadness', 26: 'surprise', 27: 'neutral'}\n",
      "{'admiration': 0, 'amusement': 1, 'disapproval': 10, 'disgust': 11, 'embarrassment': 12, 'excitement': 13, 'fear': 14, 'gratitude': 15, 'grief': 16, 'joy': 17, 'love': 18, 'nervousness': 19, 'anger': 2, 'pride': 21, 'realization': 22, 'relief': 23, 'remorse': 24, 'sadness': 25, 'surprise': 26, 'neutral': 27, 'annoyance': 3, 'approval': 4, 'caring': 5, 'confusion': 6, 'curiosity': 7, 'desire': 8, 'disappointment': 9, 'optimism': 20}\n"
     ]
    },
    {
     "data": {
      "application/vnd.jupyter.widget-view+json": {
       "model_id": "ed6edbb3c48a481eaa780659a6fcf527",
       "version_major": 2,
       "version_minor": 0
      },
      "text/plain": [
       "Map:   0%|          | 0/4485 [00:00<?, ? examples/s]"
      ]
     },
     "metadata": {},
     "output_type": "display_data"
    },
    {
     "data": {
      "application/vnd.jupyter.widget-view+json": {
       "model_id": "9f5a18e76ae34459ae3f945bd5d5f563",
       "version_major": 2,
       "version_minor": 0
      },
      "text/plain": [
       "Map:   0%|          | 0/1122 [00:00<?, ? examples/s]"
      ]
     },
     "metadata": {},
     "output_type": "display_data"
    },
    {
     "data": {
      "application/vnd.jupyter.widget-view+json": {
       "model_id": "493eaa121c0044b9ae428004e9f6013e",
       "version_major": 2,
       "version_minor": 0
      },
      "text/plain": [
       "Map:   0%|          | 0/4485 [00:00<?, ? examples/s]"
      ]
     },
     "metadata": {},
     "output_type": "display_data"
    },
    {
     "data": {
      "application/vnd.jupyter.widget-view+json": {
       "model_id": "21e15a84bdd540ad9fac8a6fef6bd38e",
       "version_major": 2,
       "version_minor": 0
      },
      "text/plain": [
       "Map:   0%|          | 0/1122 [00:00<?, ? examples/s]"
      ]
     },
     "metadata": {},
     "output_type": "display_data"
    },
    {
     "name": "stdout",
     "output_type": "stream",
     "text": [
      "Counter({19: 1783, 25: 963, 27: 874, 6: 865})\n",
      "WARNING:tensorflow:From C:\\Users\\Josue\\AppData\\Roaming\\Python\\Python312\\site-packages\\tf_keras\\src\\losses.py:2976: The name tf.losses.sparse_softmax_cross_entropy is deprecated. Please use tf.compat.v1.losses.sparse_softmax_cross_entropy instead.\n",
      "\n"
     ]
    },
    {
     "name": "stderr",
     "output_type": "stream",
     "text": [
      "c:\\Users\\Josue\\CS-GY-6923 Machine Learning\\synap-well\\synap-well\\notebooks\\emotion_classification_model.ipynb:144: FutureWarning: `tokenizer` is deprecated and will be removed in version 5.0.0 for `Trainer.__init__`. Use `processing_class` instead.\n",
      "  \"\\n\",\n"
     ]
    },
    {
     "name": "stdout",
     "output_type": "stream",
     "text": [
      "tensor([[-8.2014, -5.4721, -5.4850, -5.9139, -5.3802, -5.4057, -5.6049, -3.0468,\n",
      "         -0.2606, -2.0675, -5.4187, -3.8337, -3.2218, -3.4117, -1.4994, -6.9996,\n",
      "         -3.9410, -5.2227, -7.5257, -0.8615, -4.1418, -4.9742, -3.8780, -3.9929,\n",
      "         -5.9717, -3.7598, -3.7755, -4.5145]], device='cuda:0',\n",
      "       grad_fn=<AddmmBackward0>)\n",
      "8\n",
      "Predicted Emotion: desire\n",
      "tensor([[2.5253e-03, 4.5607e-04, 5.9474e-04, 7.8180e-04, 1.1512e-02, 9.5014e-03,\n",
      "         5.5871e-04, 6.6844e-04, 5.8952e-04, 3.0818e-02, 2.9249e-04, 9.6733e-03,\n",
      "         6.3770e-03, 2.1248e-03, 1.9716e-02, 3.7302e-04, 4.9179e-02, 3.7416e-03,\n",
      "         3.3376e-04, 1.4382e-01, 3.7564e-04, 9.6262e-03, 4.5922e-03, 3.6339e-02,\n",
      "         1.5353e-03, 6.4790e-01, 1.1208e-03, 4.8769e-03]], device='cuda:0',\n",
      "       grad_fn=<SoftmaxBackward0>)\n",
      "25\n",
      "Predicted emotion: sadness\n",
      "Predicted emotion: Negative\n",
      "Emotion Classification Result:\n",
      "  Superclass: Negative\n",
      "  Sub-emotion: disappointment (0.326)\n",
      "  Top 5 Emotions:\n",
      "    - disappointment: 0.3259\n",
      "    - annoyance: 0.1370\n",
      "    - disgust: 0.0727\n",
      "    - sadness: 0.0634\n",
      "    - relief: 0.0476\n"
     ]
    }
   ],
   "source": [
    "from ipynb.fs.full.emotion_classification_model import *"
   ]
  },
  {
   "cell_type": "code",
   "execution_count": null,
   "id": "f8451374",
   "metadata": {},
   "outputs": [],
   "source": []
  },
  {
   "cell_type": "code",
   "execution_count": null,
   "id": "065a03cc",
   "metadata": {},
   "outputs": [],
   "source": []
  },
  {
   "cell_type": "code",
   "execution_count": 14,
   "id": "6f20c3c9",
   "metadata": {},
   "outputs": [
    {
     "name": "stdout",
     "output_type": "stream",
     "text": [
      "                                    tags_per_row_str\n",
      "0  UNKNOWN, UNHEALTHY_CONSUMPTION, GOOD_SLEEP, GO...\n",
      "1  UNKNOWN, UNHEALTHY_CONSUMPTION, POOR_SLEEP, GO...\n",
      "2  UNKNOWN, UNHEALTHY_CONSUMPTION, GOOD_SLEEP, GO...\n",
      "3  UNKNOWN, UNHEALTHY_CONSUMPTION, GOOD_SLEEP, GO...\n",
      "4  UNKNOWN, UNHEALTHY_CONSUMPTION, POOR_SLEEP, GO...\n",
      "UNKNOWN, UNHEALTHY_CONSUMPTION, GOOD_SLEEP, GOOD_HEART_RATE, POOR_BLOOD_PRESSURE,  HIGH_STRESS , HIGH_SOCIAL\n"
     ]
    }
   ],
   "source": [
    "import pandas as pd\n",
    "\n",
    "# Load your dataset\n",
    "wellness_df = pd.read_csv(\"../data/processed/processed_wellness_data.csv\")\n",
    "\n",
    "# Columns that represent the tags\n",
    "tag_columns = [\n",
    "    'activity_level_grouping',\n",
    "    'demographic_health_grouping',\n",
    "    'sleep_health',\n",
    "    'heart_health',\n",
    "    'bp_health',\n",
    "    'stress_profile_grouping',\n",
    "    'social_wellness_grouping'\n",
    "]\n",
    "\n",
    "# Bundle the tags per row\n",
    "# Removes any NaN/null values\n",
    "wellness_df['tags_per_row'] = wellness_df[tag_columns].apply(\n",
    "    lambda row: [tag for tag in row if pd.notna(tag)],\n",
    "    axis=1\n",
    ")\n",
    "\n",
    "# Convert each list of tags into a comma-separated string\n",
    "wellness_df['tags_per_row_str'] = wellness_df['tags_per_row'].apply(lambda tags: ', '.join(tags))\n",
    "\n",
    "# View the result\n",
    "print(wellness_df[['tags_per_row_str']].head())\n",
    "\n",
    "## STATE VALUE for recommendation workflow\n",
    "first_tags_str = wellness_df.loc[wellness_df.index[0], 'tags_per_row_str']\n",
    "print(first_tags_str)"
   ]
  },
  {
   "cell_type": "code",
   "execution_count": 5,
   "id": "1100c9d1",
   "metadata": {},
   "outputs": [],
   "source": [
    "from dotenv import load_dotenv\n",
    "import os\n",
    "import requests\n",
    "\n",
    "# Load Environment Variables\n",
    "load_dotenv()\n",
    "\n",
    "# Hugging Face Token\n",
    "HUGGING_FACE_TOKEN = os.getenv(\"HUGGING_FACE_TOKEN\")\n",
    "\n",
    "#Weather API Token\n",
    "WEATHER_API_KEY = os.getenv(\"WEATHER_API_KEY\")"
   ]
  },
  {
   "cell_type": "code",
   "execution_count": 7,
   "id": "99b6df85",
   "metadata": {},
   "outputs": [
    {
     "name": "stdout",
     "output_type": "stream",
     "text": [
      "Male\n",
      "25\n",
      "5'9\"\n",
      "Watching Movies, Gaming, Sleeping\n",
      "Moderate, Daily\n",
      "Brooklyn, NY\n"
     ]
    }
   ],
   "source": [
    "# Read the Initial Questions csv file into a DataFrame\n",
    "initial_df = pd.read_csv('../data/raw/CS-GY-6923 Log Tracker  - Initial Questions.csv')\n",
    "\n",
    "# Extract the last row of the DataFrame\n",
    "last_updated_entry = initial_df.iloc[-1]\n",
    "\n",
    "# De-structure relevant information from features into variables\n",
    "gender = last_updated_entry['Gender']\n",
    "age = last_updated_entry['Age']\n",
    "height = last_updated_entry['Height']\n",
    "activities = last_updated_entry['Activities for Mental Health (such as therapy sessions or meditation) [Comma separated]']\n",
    "quality_social_interactions = last_updated_entry['Quality or frequency of social interactions']\n",
    "location = last_updated_entry['Location']\n",
    "\n",
    "print(gender)\n",
    "print(age)\n",
    "print(height)\n",
    "print(activities)\n",
    "print(quality_social_interactions)\n",
    "print(location)"
   ]
  },
  {
   "cell_type": "code",
   "execution_count": 9,
   "id": "aa914941",
   "metadata": {},
   "outputs": [
    {
     "name": "stdout",
     "output_type": "stream",
     "text": [
      "Barely had any sleep, I am feeling terrible\n"
     ]
    }
   ],
   "source": [
    "# Read the Daily Questions csv file into a DataFrame\n",
    "daily_df = pd.read_csv('../data/raw/CS-GY-6923 Log Tracker  - Daily Questions.csv')\n",
    "\n",
    "# # Read the Processed Daily Questions csv file into a DataFrame\n",
    "# daily_df = pd.read_csv('../data/processed/CS-GY-6923 Log Tracker  - Daily Questions.csv')\n",
    "\n",
    "# # Columns that represent the tags\n",
    "# tag_columns = [\n",
    "#     'activity_level_grouping',\n",
    "#     'demographic_health_grouping',\n",
    "#     'sleep_health',\n",
    "#     'heart_health',\n",
    "#     'bp_health',\n",
    "#     'stress_profile_grouping',\n",
    "#     'social_wellness_grouping'\n",
    "# ]\n",
    "\n",
    "# # Bundle the tags per row\n",
    "# # Removes any NaN/null values\n",
    "# daily_df['tags_per_row'] = daily_df[tag_columns].apply(\n",
    "#     lambda row: [tag for tag in row if pd.notna(tag)],\n",
    "#     axis=1\n",
    "# )\n",
    "\n",
    "# # Convert each list of tags into a comma-separated string\n",
    "# daily_df['tags_per_row_str'] = daily_df['tags_per_row'].apply(lambda tags: ', '.join(tags))\n",
    "\n",
    "# # View the result\n",
    "# print(daily_df[['tags_per_row_str']].head())\n",
    "\n",
    "# Extract the first row of the DataFrame\n",
    "first_daily_entry = daily_df.iloc[0]\n",
    "\n",
    "# De-structure relevant information from features into variables\n",
    "notes = first_daily_entry['Notes']\n",
    "# age = first_daily_entry['Age']\n",
    "# height = first_daily_entry['Height']\n",
    "# activities = first_daily_entry['Activities for Mental Health (such as therapy sessions or meditation) [Comma separated]']\n",
    "# quality_social_interactions = first_daily_entry['Quality or frequency of social interactions']\n",
    "# location = first_daily_entry['Location']\n",
    "\n",
    "print(notes)\n",
    "# print(age)\n",
    "# print(height)\n",
    "# print(activities)\n",
    "# print(quality_social_interactions)\n",
    "# print(location)"
   ]
  },
  {
   "cell_type": "code",
   "execution_count": 10,
   "id": "ff4df5a0",
   "metadata": {},
   "outputs": [],
   "source": [
    "# Weather Prompt\n",
    "from datetime import datetime\n",
    "\n",
    "def fetch_weather_data(city_name, api_key):\n",
    "    \"\"\"\n",
    "    Fetch current weather description from WeatherAPI for a given city.\n",
    "    \"\"\"\n",
    "    url = f'http://api.weatherapi.com/v1/current.json?key={api_key}&q={city_name}'\n",
    "    try:\n",
    "        response = requests.get(url)\n",
    "        response.raise_for_status()\n",
    "        data = response.json()\n",
    "\n",
    "        if 'current' in data and 'condition' in data['current']:\n",
    "            return data['current']['condition']['text']\n",
    "        else:\n",
    "            print(\"Warning: Weather data structure is incomplete.\")\n",
    "            return None\n",
    "\n",
    "    except requests.exceptions.RequestException as e:\n",
    "        print(f\"Error fetching weather data: {e}\")\n",
    "        return None\n",
    "    \n",
    "def fetch_past_weather_data(city_name, date, api_key):\n",
    "    \"\"\"\n",
    "    Fetch current weather description from WeatherAPI for a given city.\n",
    "    \"\"\"   \n",
    "\n",
    "    raw_date = date  # MM/DD/YYYY format\n",
    "    date_obj = datetime.strptime(raw_date, '%m/%d/%Y')\n",
    "    formatted_date = date_obj.strftime('%Y-%m-%d')\n",
    "    \n",
    "    url = f'http://api.weatherapi.com/v1/history.json?key={api_key}&q={city_name}&dt={formatted_date}'\n",
    "    try:\n",
    "        response = requests.get(url)\n",
    "        response.raise_for_status()\n",
    "        data = response.json()\n",
    "\n",
    "        print(data)\n",
    "\n",
    "        if 'forecast' in data and 'forecastday' in data['forecast'] and len(data['forecast']['forecastday']) > 0 and 'day' in data['forecast']['forecastday'][0] and 'condition' in data['forecast']['forecastday'][0]['day']:\n",
    "            return data['forecast']['forecastday'][0]['day']['condition']['text']\n",
    "        else:\n",
    "            print(\"Warning: Weather data structure is incomplete.\")\n",
    "            return None\n",
    "\n",
    "    except requests.exceptions.RequestException as e:\n",
    "        print(f\"Error fetching weather data: {e}\")\n",
    "        return None\n",
    "\n",
    "\n",
    "def classify_weather_situation(weather_description):\n",
    "    \"\"\"\n",
    "    Classify weather condition into one of: SUNNY, RAINY, CLOUDY, WINDY, or UNKNOWN.\n",
    "    \"\"\"\n",
    "    description = weather_description.lower()\n",
    "\n",
    "    if 'sunny' in description:\n",
    "        return 'SUNNY'\n",
    "    elif 'rain' in description or 'shower' in description:\n",
    "        return 'RAINY'\n",
    "    elif 'overcast' in description or 'cloud' in description:\n",
    "        return 'CLOUDY'\n",
    "    elif 'wind' in description:\n",
    "        return 'WINDY'\n",
    "    else:\n",
    "        return 'UNKNOWN'\n",
    "\n",
    "api_key = WEATHER_API_KEY\n",
    "\n",
    "city_name = location\n",
    "\n",
    "# weather_description = fetch_weather_data(city_name, api_key) #Commented this out to save API calls (Limited to 30,000 Per Month I believe)\n",
    "# weather_description = fetch_past_weather_data(city_name, \"04/26/2025\", api_key) #Commented this out to save API calls (Limited to 30,000 Per Month I believe)\n",
    "\n",
    "\n",
    "# if weather_description:\n",
    "#     weather_situation = classify_weather_situation(weather_description)\n",
    "#     print(f\"City: {city_name}\")\n",
    "#     print(f\"Weather Description: {weather_description}\")\n",
    "#     print(f\"Classified Weather Situation: {weather_situation}\")\n",
    "# else:\n",
    "#     print(\"Unable to fetch or classify weather data.\")\n",
    "\n"
   ]
  },
  {
   "cell_type": "code",
   "execution_count": 11,
   "id": "61f0f54d",
   "metadata": {},
   "outputs": [],
   "source": [
    "# Preferences Prompt\n",
    "\n",
    "preferences = activities"
   ]
  },
  {
   "cell_type": "code",
   "execution_count": 20,
   "id": "09b9d4ed",
   "metadata": {},
   "outputs": [
    {
     "name": "stdout",
     "output_type": "stream",
     "text": [
      "UNKNOWN, UNHEALTHY_CONSUMPTION, GOOD_SLEEP, GOOD_HEART_RATE, POOR_BLOOD_PRESSURE,  HIGH_STRESS , HIGH_SOCIAL\n",
      "Emotion Classification Result:\n",
      "  Barely had any sleep, I am feeling terrible\n",
      "  Superclass: Negative\n",
      "  Sub-emotion: nervousness (0.284)\n"
     ]
    },
    {
     "name": "stderr",
     "output_type": "stream",
     "text": [
      "Setting `pad_token_id` to `eos_token_id`:2 for open-end generation.\n"
     ]
    },
    {
     "name": "stdout",
     "output_type": "stream",
     "text": [
      "{'location': {'name': 'Brooklyn', 'region': 'New York', 'country': 'United States of America', 'lat': 40.65, 'lon': -73.95, 'tz_id': 'America/New_York', 'localtime_epoch': 1745730111, 'localtime': '2025-04-27 01:01'}, 'forecast': {'forecastday': [{'date': '2025-03-14', 'date_epoch': 1741910400, 'day': {'maxtemp_c': 9.6, 'maxtemp_f': 49.3, 'mintemp_c': 2.8, 'mintemp_f': 37.0, 'avgtemp_c': 6.0, 'avgtemp_f': 42.8, 'maxwind_mph': 9.2, 'maxwind_kph': 14.8, 'totalprecip_mm': 0.0, 'totalprecip_in': 0.0, 'totalsnow_cm': 0.0, 'avgvis_km': 10.0, 'avgvis_miles': 6.0, 'avghumidity': 83, 'daily_will_it_rain': 0, 'daily_chance_of_rain': 0, 'daily_will_it_snow': 0, 'daily_chance_of_snow': 0, 'condition': {'text': 'Overcast', 'icon': '//cdn.weatherapi.com/weather/64x64/day/122.png', 'code': 1009}, 'uv': 2.0}, 'astro': {'sunrise': '07:09 AM', 'sunset': '07:02 PM', 'moonrise': '07:38 PM', 'moonset': '07:18 AM', 'moon_phase': 'Full Moon', 'moon_illumination': 100}, 'hour': [{'time_epoch': 1741924800, 'time': '2025-03-14 00:00', 'temp_c': 5.0, 'temp_f': 41.0, 'is_day': 0, 'condition': {'text': 'Overcast', 'icon': '//cdn.weatherapi.com/weather/64x64/night/122.png', 'code': 1009}, 'wind_mph': 8.1, 'wind_kph': 13.0, 'wind_degree': 45, 'wind_dir': 'NE', 'pressure_mb': 1021.0, 'pressure_in': 30.14, 'precip_mm': 0.0, 'precip_in': 0.0, 'snow_cm': 0.0, 'humidity': 82, 'cloud': 100, 'feelslike_c': 2.1, 'feelslike_f': 35.7, 'windchill_c': 2.1, 'windchill_f': 35.7, 'heatindex_c': 5.0, 'heatindex_f': 41.0, 'dewpoint_c': 2.1, 'dewpoint_f': 35.7, 'will_it_rain': 0, 'chance_of_rain': 0, 'will_it_snow': 0, 'chance_of_snow': 0, 'vis_km': 10.0, 'vis_miles': 6.0, 'gust_mph': 11.1, 'gust_kph': 17.8, 'uv': 0.0}, {'time_epoch': 1741928400, 'time': '2025-03-14 01:00', 'temp_c': 4.7, 'temp_f': 40.5, 'is_day': 0, 'condition': {'text': 'Overcast', 'icon': '//cdn.weatherapi.com/weather/64x64/night/122.png', 'code': 1009}, 'wind_mph': 8.3, 'wind_kph': 13.3, 'wind_degree': 36, 'wind_dir': 'NE', 'pressure_mb': 1021.0, 'pressure_in': 30.14, 'precip_mm': 0.0, 'precip_in': 0.0, 'snow_cm': 0.0, 'humidity': 83, 'cloud': 100, 'feelslike_c': 1.7, 'feelslike_f': 35.1, 'windchill_c': 1.7, 'windchill_f': 35.1, 'heatindex_c': 4.7, 'heatindex_f': 40.5, 'dewpoint_c': 2.1, 'dewpoint_f': 35.8, 'will_it_rain': 0, 'chance_of_rain': 0, 'will_it_snow': 0, 'chance_of_snow': 0, 'vis_km': 10.0, 'vis_miles': 6.0, 'gust_mph': 11.3, 'gust_kph': 18.3, 'uv': 0.0}, {'time_epoch': 1741932000, 'time': '2025-03-14 02:00', 'temp_c': 4.5, 'temp_f': 40.1, 'is_day': 0, 'condition': {'text': 'Overcast', 'icon': '//cdn.weatherapi.com/weather/64x64/night/122.png', 'code': 1009}, 'wind_mph': 7.6, 'wind_kph': 12.2, 'wind_degree': 35, 'wind_dir': 'NE', 'pressure_mb': 1020.0, 'pressure_in': 30.13, 'precip_mm': 0.0, 'precip_in': 0.0, 'snow_cm': 0.0, 'humidity': 85, 'cloud': 100, 'feelslike_c': 1.6, 'feelslike_f': 34.9, 'windchill_c': 1.6, 'windchill_f': 34.9, 'heatindex_c': 4.5, 'heatindex_f': 40.1, 'dewpoint_c': 2.2, 'dewpoint_f': 35.9, 'will_it_rain': 0, 'chance_of_rain': 0, 'will_it_snow': 0, 'chance_of_snow': 0, 'vis_km': 10.0, 'vis_miles': 6.0, 'gust_mph': 10.4, 'gust_kph': 16.7, 'uv': 0.0}, {'time_epoch': 1741935600, 'time': '2025-03-14 03:00', 'temp_c': 4.4, 'temp_f': 39.8, 'is_day': 0, 'condition': {'text': 'Overcast', 'icon': '//cdn.weatherapi.com/weather/64x64/night/122.png', 'code': 1009}, 'wind_mph': 7.8, 'wind_kph': 12.6, 'wind_degree': 33, 'wind_dir': 'NNE', 'pressure_mb': 1021.0, 'pressure_in': 30.14, 'precip_mm': 0.0, 'precip_in': 0.0, 'snow_cm': 0.0, 'humidity': 87, 'cloud': 100, 'feelslike_c': 1.4, 'feelslike_f': 34.5, 'windchill_c': 1.4, 'windchill_f': 34.5, 'heatindex_c': 4.4, 'heatindex_f': 39.8, 'dewpoint_c': 2.3, 'dewpoint_f': 36.1, 'will_it_rain': 0, 'chance_of_rain': 0, 'will_it_snow': 0, 'chance_of_snow': 0, 'vis_km': 10.0, 'vis_miles': 6.0, 'gust_mph': 10.8, 'gust_kph': 17.5, 'uv': 0.0}, {'time_epoch': 1741939200, 'time': '2025-03-14 04:00', 'temp_c': 4.2, 'temp_f': 39.6, 'is_day': 0, 'condition': {'text': 'Overcast', 'icon': '//cdn.weatherapi.com/weather/64x64/night/122.png', 'code': 1009}, 'wind_mph': 8.3, 'wind_kph': 13.3, 'wind_degree': 34, 'wind_dir': 'NE', 'pressure_mb': 1021.0, 'pressure_in': 30.14, 'precip_mm': 0.0, 'precip_in': 0.0, 'snow_cm': 0.0, 'humidity': 87, 'cloud': 100, 'feelslike_c': 1.1, 'feelslike_f': 33.9, 'windchill_c': 1.1, 'windchill_f': 33.9, 'heatindex_c': 4.2, 'heatindex_f': 39.6, 'dewpoint_c': 2.3, 'dewpoint_f': 36.2, 'will_it_rain': 0, 'chance_of_rain': 0, 'will_it_snow': 0, 'chance_of_snow': 0, 'vis_km': 10.0, 'vis_miles': 6.0, 'gust_mph': 11.5, 'gust_kph': 18.5, 'uv': 0.0}, {'time_epoch': 1741942800, 'time': '2025-03-14 05:00', 'temp_c': 3.1, 'temp_f': 37.6, 'is_day': 0, 'condition': {'text': 'Overcast', 'icon': '//cdn.weatherapi.com/weather/64x64/night/122.png', 'code': 1009}, 'wind_mph': 8.3, 'wind_kph': 13.3, 'wind_degree': 41, 'wind_dir': 'NE', 'pressure_mb': 1021.0, 'pressure_in': 30.14, 'precip_mm': 0.0, 'precip_in': 0.0, 'snow_cm': 0.0, 'humidity': 88, 'cloud': 100, 'feelslike_c': -0.3, 'feelslike_f': 31.5, 'windchill_c': -0.3, 'windchill_f': 31.5, 'heatindex_c': 3.1, 'heatindex_f': 37.6, 'dewpoint_c': 2.4, 'dewpoint_f': 36.2, 'will_it_rain': 0, 'chance_of_rain': 0, 'will_it_snow': 0, 'chance_of_snow': 0, 'vis_km': 10.0, 'vis_miles': 6.0, 'gust_mph': 11.6, 'gust_kph': 18.6, 'uv': 0.0}, {'time_epoch': 1741946400, 'time': '2025-03-14 06:00', 'temp_c': 3.0, 'temp_f': 37.3, 'is_day': 0, 'condition': {'text': 'Overcast', 'icon': '//cdn.weatherapi.com/weather/64x64/night/122.png', 'code': 1009}, 'wind_mph': 8.1, 'wind_kph': 13.0, 'wind_degree': 44, 'wind_dir': 'NE', 'pressure_mb': 1021.0, 'pressure_in': 30.16, 'precip_mm': 0.0, 'precip_in': 0.0, 'snow_cm': 0.0, 'humidity': 88, 'cloud': 99, 'feelslike_c': -0.4, 'feelslike_f': 31.3, 'windchill_c': -0.4, 'windchill_f': 31.3, 'heatindex_c': 3.0, 'heatindex_f': 37.3, 'dewpoint_c': 2.3, 'dewpoint_f': 36.1, 'will_it_rain': 0, 'chance_of_rain': 0, 'will_it_snow': 0, 'chance_of_snow': 0, 'vis_km': 10.0, 'vis_miles': 6.0, 'gust_mph': 11.4, 'gust_kph': 18.3, 'uv': 0.0}, {'time_epoch': 1741950000, 'time': '2025-03-14 07:00', 'temp_c': 2.8, 'temp_f': 37.0, 'is_day': 0, 'condition': {'text': 'Overcast', 'icon': '//cdn.weatherapi.com/weather/64x64/night/122.png', 'code': 1009}, 'wind_mph': 7.6, 'wind_kph': 12.2, 'wind_degree': 47, 'wind_dir': 'NE', 'pressure_mb': 1021.0, 'pressure_in': 30.16, 'precip_mm': 0.0, 'precip_in': 0.0, 'snow_cm': 0.0, 'humidity': 87, 'cloud': 99, 'feelslike_c': -0.5, 'feelslike_f': 31.1, 'windchill_c': -0.5, 'windchill_f': 31.1, 'heatindex_c': 2.8, 'heatindex_f': 37.0, 'dewpoint_c': 2.2, 'dewpoint_f': 36.0, 'will_it_rain': 0, 'chance_of_rain': 0, 'will_it_snow': 0, 'chance_of_snow': 0, 'vis_km': 10.0, 'vis_miles': 6.0, 'gust_mph': 10.9, 'gust_kph': 17.6, 'uv': 0.0}, {'time_epoch': 1741953600, 'time': '2025-03-14 08:00', 'temp_c': 3.1, 'temp_f': 37.6, 'is_day': 1, 'condition': {'text': 'Overcast', 'icon': '//cdn.weatherapi.com/weather/64x64/day/122.png', 'code': 1009}, 'wind_mph': 7.2, 'wind_kph': 11.5, 'wind_degree': 48, 'wind_dir': 'NE', 'pressure_mb': 1022.0, 'pressure_in': 30.17, 'precip_mm': 0.0, 'precip_in': 0.0, 'snow_cm': 0.0, 'humidity': 87, 'cloud': 98, 'feelslike_c': 0.1, 'feelslike_f': 32.1, 'windchill_c': 0.1, 'windchill_f': 32.1, 'heatindex_c': 3.1, 'heatindex_f': 37.6, 'dewpoint_c': 2.1, 'dewpoint_f': 35.9, 'will_it_rain': 0, 'chance_of_rain': 0, 'will_it_snow': 0, 'chance_of_snow': 0, 'vis_km': 10.0, 'vis_miles': 6.0, 'gust_mph': 10.2, 'gust_kph': 16.3, 'uv': 1.0}, {'time_epoch': 1741957200, 'time': '2025-03-14 09:00', 'temp_c': 4.9, 'temp_f': 40.8, 'is_day': 1, 'condition': {'text': 'Overcast', 'icon': '//cdn.weatherapi.com/weather/64x64/day/122.png', 'code': 1009}, 'wind_mph': 7.6, 'wind_kph': 12.2, 'wind_degree': 50, 'wind_dir': 'NE', 'pressure_mb': 1022.0, 'pressure_in': 30.18, 'precip_mm': 0.0, 'precip_in': 0.0, 'snow_cm': 0.0, 'humidity': 84, 'cloud': 98, 'feelslike_c': 2.1, 'feelslike_f': 35.8, 'windchill_c': 2.1, 'windchill_f': 35.8, 'heatindex_c': 4.9, 'heatindex_f': 40.8, 'dewpoint_c': 2.4, 'dewpoint_f': 36.2, 'will_it_rain': 0, 'chance_of_rain': 0, 'will_it_snow': 0, 'chance_of_snow': 0, 'vis_km': 10.0, 'vis_miles': 6.0, 'gust_mph': 10.2, 'gust_kph': 16.5, 'uv': 1.0}, {'time_epoch': 1741960800, 'time': '2025-03-14 10:00', 'temp_c': 5.3, 'temp_f': 41.5, 'is_day': 1, 'condition': {'text': 'Overcast', 'icon': '//cdn.weatherapi.com/weather/64x64/day/122.png', 'code': 1009}, 'wind_mph': 7.2, 'wind_kph': 11.5, 'wind_degree': 53, 'wind_dir': 'NE', 'pressure_mb': 1022.0, 'pressure_in': 30.19, 'precip_mm': 0.0, 'precip_in': 0.0, 'snow_cm': 0.0, 'humidity': 82, 'cloud': 98, 'feelslike_c': 2.7, 'feelslike_f': 36.9, 'windchill_c': 2.7, 'windchill_f': 36.9, 'heatindex_c': 5.3, 'heatindex_f': 41.5, 'dewpoint_c': 2.5, 'dewpoint_f': 36.4, 'will_it_rain': 0, 'chance_of_rain': 0, 'will_it_snow': 0, 'chance_of_snow': 0, 'vis_km': 10.0, 'vis_miles': 6.0, 'gust_mph': 9.3, 'gust_kph': 14.9, 'uv': 2.0}, {'time_epoch': 1741964400, 'time': '2025-03-14 11:00', 'temp_c': 7.2, 'temp_f': 45.0, 'is_day': 1, 'condition': {'text': 'Overcast', 'icon': '//cdn.weatherapi.com/weather/64x64/day/122.png', 'code': 1009}, 'wind_mph': 5.8, 'wind_kph': 9.4, 'wind_degree': 67, 'wind_dir': 'ENE', 'pressure_mb': 1022.0, 'pressure_in': 30.19, 'precip_mm': 0.0, 'precip_in': 0.0, 'snow_cm': 0.0, 'humidity': 80, 'cloud': 98, 'feelslike_c': 5.5, 'feelslike_f': 41.8, 'windchill_c': 5.5, 'windchill_f': 41.8, 'heatindex_c': 7.2, 'heatindex_f': 45.0, 'dewpoint_c': 2.6, 'dewpoint_f': 36.8, 'will_it_rain': 0, 'chance_of_rain': 0, 'will_it_snow': 0, 'chance_of_snow': 0, 'vis_km': 10.0, 'vis_miles': 6.0, 'gust_mph': 7.4, 'gust_kph': 12.0, 'uv': 2.0}, {'time_epoch': 1741968000, 'time': '2025-03-14 12:00', 'temp_c': 8.5, 'temp_f': 47.2, 'is_day': 1, 'condition': {'text': 'Overcast', 'icon': '//cdn.weatherapi.com/weather/64x64/day/122.png', 'code': 1009}, 'wind_mph': 5.1, 'wind_kph': 8.3, 'wind_degree': 92, 'wind_dir': 'E', 'pressure_mb': 1022.0, 'pressure_in': 30.19, 'precip_mm': 0.0, 'precip_in': 0.0, 'snow_cm': 0.0, 'humidity': 78, 'cloud': 98, 'feelslike_c': 7.1, 'feelslike_f': 44.8, 'windchill_c': 7.1, 'windchill_f': 44.8, 'heatindex_c': 8.5, 'heatindex_f': 47.2, 'dewpoint_c': 3.8, 'dewpoint_f': 38.8, 'will_it_rain': 0, 'chance_of_rain': 0, 'will_it_snow': 0, 'chance_of_snow': 0, 'vis_km': 10.0, 'vis_miles': 6.0, 'gust_mph': 6.5, 'gust_kph': 10.5, 'uv': 2.0}, {'time_epoch': 1741971600, 'time': '2025-03-14 13:00', 'temp_c': 9.3, 'temp_f': 48.7, 'is_day': 1, 'condition': {'text': 'Overcast', 'icon': '//cdn.weatherapi.com/weather/64x64/day/122.png', 'code': 1009}, 'wind_mph': 5.8, 'wind_kph': 9.4, 'wind_degree': 119, 'wind_dir': 'ESE', 'pressure_mb': 1022.0, 'pressure_in': 30.18, 'precip_mm': 0.0, 'precip_in': 0.0, 'snow_cm': 0.0, 'humidity': 76, 'cloud': 98, 'feelslike_c': 7.9, 'feelslike_f': 46.2, 'windchill_c': 7.9, 'windchill_f': 46.2, 'heatindex_c': 9.3, 'heatindex_f': 48.7, 'dewpoint_c': 4.4, 'dewpoint_f': 39.9, 'will_it_rain': 0, 'chance_of_rain': 0, 'will_it_snow': 0, 'chance_of_snow': 0, 'vis_km': 10.0, 'vis_miles': 6.0, 'gust_mph': 7.2, 'gust_kph': 11.7, 'uv': 2.0}, {'time_epoch': 1741975200, 'time': '2025-03-14 14:00', 'temp_c': 9.6, 'temp_f': 49.3, 'is_day': 1, 'condition': {'text': 'Overcast', 'icon': '//cdn.weatherapi.com/weather/64x64/day/122.png', 'code': 1009}, 'wind_mph': 7.2, 'wind_kph': 11.5, 'wind_degree': 136, 'wind_dir': 'SE', 'pressure_mb': 1022.0, 'pressure_in': 30.18, 'precip_mm': 0.0, 'precip_in': 0.0, 'snow_cm': 0.0, 'humidity': 75, 'cloud': 97, 'feelslike_c': 7.9, 'feelslike_f': 46.2, 'windchill_c': 7.9, 'windchill_f': 46.2, 'heatindex_c': 9.6, 'heatindex_f': 49.3, 'dewpoint_c': 4.7, 'dewpoint_f': 40.4, 'will_it_rain': 0, 'chance_of_rain': 0, 'will_it_snow': 0, 'chance_of_snow': 0, 'vis_km': 10.0, 'vis_miles': 6.0, 'gust_mph': 11.3, 'gust_kph': 18.1, 'uv': 2.0}, {'time_epoch': 1741978800, 'time': '2025-03-14 15:00', 'temp_c': 9.6, 'temp_f': 49.3, 'is_day': 1, 'condition': {'text': 'Overcast', 'icon': '//cdn.weatherapi.com/weather/64x64/day/122.png', 'code': 1009}, 'wind_mph': 8.7, 'wind_kph': 14.0, 'wind_degree': 144, 'wind_dir': 'SE', 'pressure_mb': 1022.0, 'pressure_in': 30.17, 'precip_mm': 0.0, 'precip_in': 0.0, 'snow_cm': 0.0, 'humidity': 77, 'cloud': 88, 'feelslike_c': 7.5, 'feelslike_f': 45.6, 'windchill_c': 7.5, 'windchill_f': 45.6, 'heatindex_c': 9.6, 'heatindex_f': 49.3, 'dewpoint_c': 4.8, 'dewpoint_f': 40.7, 'will_it_rain': 0, 'chance_of_rain': 0, 'will_it_snow': 0, 'chance_of_snow': 0, 'vis_km': 10.0, 'vis_miles': 6.0, 'gust_mph': 10.8, 'gust_kph': 17.4, 'uv': 2.0}, {'time_epoch': 1741982400, 'time': '2025-03-14 16:00', 'temp_c': 8.3, 'temp_f': 46.9, 'is_day': 1, 'condition': {'text': 'Cloudy', 'icon': '//cdn.weatherapi.com/weather/64x64/day/119.png', 'code': 1006}, 'wind_mph': 8.9, 'wind_kph': 14.4, 'wind_degree': 146, 'wind_dir': 'SSE', 'pressure_mb': 1021.0, 'pressure_in': 30.16, 'precip_mm': 0.0, 'precip_in': 0.0, 'snow_cm': 0.0, 'humidity': 78, 'cloud': 83, 'feelslike_c': 5.9, 'feelslike_f': 42.6, 'windchill_c': 5.9, 'windchill_f': 42.6, 'heatindex_c': 8.3, 'heatindex_f': 46.9, 'dewpoint_c': 4.8, 'dewpoint_f': 40.6, 'will_it_rain': 0, 'chance_of_rain': 0, 'will_it_snow': 0, 'chance_of_snow': 0, 'vis_km': 10.0, 'vis_miles': 6.0, 'gust_mph': 14.0, 'gust_kph': 22.6, 'uv': 2.0}, {'time_epoch': 1741986000, 'time': '2025-03-14 17:00', 'temp_c': 7.9, 'temp_f': 46.2, 'is_day': 1, 'condition': {'text': 'Cloudy', 'icon': '//cdn.weatherapi.com/weather/64x64/day/119.png', 'code': 1006}, 'wind_mph': 8.7, 'wind_kph': 14.0, 'wind_degree': 147, 'wind_dir': 'SSE', 'pressure_mb': 1021.0, 'pressure_in': 30.15, 'precip_mm': 0.0, 'precip_in': 0.0, 'snow_cm': 0.0, 'humidity': 79, 'cloud': 79, 'feelslike_c': 5.4, 'feelslike_f': 41.8, 'windchill_c': 5.4, 'windchill_f': 41.8, 'heatindex_c': 7.9, 'heatindex_f': 46.2, 'dewpoint_c': 5.0, 'dewpoint_f': 41.0, 'will_it_rain': 0, 'chance_of_rain': 0, 'will_it_snow': 0, 'chance_of_snow': 0, 'vis_km': 10.0, 'vis_miles': 6.0, 'gust_mph': 14.2, 'gust_kph': 22.9, 'uv': 2.0}, {'time_epoch': 1741989600, 'time': '2025-03-14 18:00', 'temp_c': 7.4, 'temp_f': 45.4, 'is_day': 1, 'condition': {'text': 'Overcast', 'icon': '//cdn.weatherapi.com/weather/64x64/day/122.png', 'code': 1009}, 'wind_mph': 8.5, 'wind_kph': 13.7, 'wind_degree': 146, 'wind_dir': 'SSE', 'pressure_mb': 1021.0, 'pressure_in': 30.15, 'precip_mm': 0.0, 'precip_in': 0.0, 'snow_cm': 0.0, 'humidity': 84, 'cloud': 86, 'feelslike_c': 4.9, 'feelslike_f': 40.9, 'windchill_c': 4.9, 'windchill_f': 40.9, 'heatindex_c': 7.4, 'heatindex_f': 45.4, 'dewpoint_c': 4.9, 'dewpoint_f': 40.8, 'will_it_rain': 0, 'chance_of_rain': 0, 'will_it_snow': 0, 'chance_of_snow': 0, 'vis_km': 10.0, 'vis_miles': 6.0, 'gust_mph': 13.6, 'gust_kph': 21.9, 'uv': 2.0}, {'time_epoch': 1741993200, 'time': '2025-03-14 19:00', 'temp_c': 7.0, 'temp_f': 44.5, 'is_day': 1, 'condition': {'text': 'Overcast', 'icon': '//cdn.weatherapi.com/weather/64x64/day/122.png', 'code': 1009}, 'wind_mph': 8.3, 'wind_kph': 13.3, 'wind_degree': 145, 'wind_dir': 'SE', 'pressure_mb': 1021.0, 'pressure_in': 30.15, 'precip_mm': 0.0, 'precip_in': 0.0, 'snow_cm': 0.0, 'humidity': 86, 'cloud': 90, 'feelslike_c': 4.4, 'feelslike_f': 40.0, 'windchill_c': 4.4, 'windchill_f': 40.0, 'heatindex_c': 7.0, 'heatindex_f': 44.5, 'dewpoint_c': 4.8, 'dewpoint_f': 40.6, 'will_it_rain': 0, 'chance_of_rain': 0, 'will_it_snow': 0, 'chance_of_snow': 0, 'vis_km': 10.0, 'vis_miles': 6.0, 'gust_mph': 11.1, 'gust_kph': 17.8, 'uv': 2.0}, {'time_epoch': 1741996800, 'time': '2025-03-14 20:00', 'temp_c': 6.6, 'temp_f': 43.8, 'is_day': 0, 'condition': {'text': 'Overcast', 'icon': '//cdn.weatherapi.com/weather/64x64/night/122.png', 'code': 1009}, 'wind_mph': 6.5, 'wind_kph': 10.4, 'wind_degree': 145, 'wind_dir': 'SE', 'pressure_mb': 1021.0, 'pressure_in': 30.15, 'precip_mm': 0.0, 'precip_in': 0.0, 'snow_cm': 0.0, 'humidity': 88, 'cloud': 93, 'feelslike_c': 4.5, 'feelslike_f': 40.0, 'windchill_c': 4.5, 'windchill_f': 40.0, 'heatindex_c': 6.6, 'heatindex_f': 43.8, 'dewpoint_c': 4.7, 'dewpoint_f': 40.5, 'will_it_rain': 0, 'chance_of_rain': 0, 'will_it_snow': 0, 'chance_of_snow': 0, 'vis_km': 10.0, 'vis_miles': 6.0, 'gust_mph': 12.0, 'gust_kph': 19.4, 'uv': 0.0}, {'time_epoch': 1742000400, 'time': '2025-03-14 21:00', 'temp_c': 6.3, 'temp_f': 43.4, 'is_day': 0, 'condition': {'text': 'Overcast', 'icon': '//cdn.weatherapi.com/weather/64x64/night/122.png', 'code': 1009}, 'wind_mph': 7.1, 'wind_kph': 11.5, 'wind_degree': 141, 'wind_dir': 'SE', 'pressure_mb': 1021.0, 'pressure_in': 30.15, 'precip_mm': 0.0, 'precip_in': 0.0, 'snow_cm': 0.0, 'humidity': 90, 'cloud': 96, 'feelslike_c': 4.0, 'feelslike_f': 39.1, 'windchill_c': 4.0, 'windchill_f': 39.1, 'heatindex_c': 6.3, 'heatindex_f': 43.4, 'dewpoint_c': 4.7, 'dewpoint_f': 40.5, 'will_it_rain': 0, 'chance_of_rain': 0, 'will_it_snow': 0, 'chance_of_snow': 0, 'vis_km': 10.0, 'vis_miles': 6.0, 'gust_mph': 12.7, 'gust_kph': 20.4, 'uv': 0.0}, {'time_epoch': 1742004000, 'time': '2025-03-14 22:00', 'temp_c': 5.8, 'temp_f': 42.4, 'is_day': 0, 'condition': {'text': 'Overcast', 'icon': '//cdn.weatherapi.com/weather/64x64/night/122.png', 'code': 1009}, 'wind_mph': 7.3, 'wind_kph': 11.8, 'wind_degree': 145, 'wind_dir': 'SE', 'pressure_mb': 1021.0, 'pressure_in': 30.14, 'precip_mm': 0.0, 'precip_in': 0.0, 'snow_cm': 0.0, 'humidity': 91, 'cloud': 97, 'feelslike_c': 3.2, 'feelslike_f': 37.8, 'windchill_c': 3.2, 'windchill_f': 37.8, 'heatindex_c': 5.8, 'heatindex_f': 42.4, 'dewpoint_c': 4.7, 'dewpoint_f': 40.4, 'will_it_rain': 0, 'chance_of_rain': 0, 'will_it_snow': 0, 'chance_of_snow': 0, 'vis_km': 10.0, 'vis_miles': 6.0, 'gust_mph': 13.0, 'gust_kph': 21.0, 'uv': 0.0}, {'time_epoch': 1742007600, 'time': '2025-03-14 23:00', 'temp_c': 5.7, 'temp_f': 42.2, 'is_day': 0, 'condition': {'text': 'Overcast', 'icon': '//cdn.weatherapi.com/weather/64x64/night/122.png', 'code': 1009}, 'wind_mph': 9.2, 'wind_kph': 14.8, 'wind_degree': 146, 'wind_dir': 'SSE', 'pressure_mb': 1021.0, 'pressure_in': 30.15, 'precip_mm': 0.0, 'precip_in': 0.0, 'snow_cm': 0.0, 'humidity': 80, 'cloud': 100, 'feelslike_c': 2.6, 'feelslike_f': 36.7, 'windchill_c': 2.6, 'windchill_f': 36.7, 'heatindex_c': 5.7, 'heatindex_f': 42.2, 'dewpoint_c': 2.0, 'dewpoint_f': 35.5, 'will_it_rain': 0, 'chance_of_rain': 0, 'will_it_snow': 0, 'chance_of_snow': 0, 'vis_km': 10.0, 'vis_miles': 6.0, 'gust_mph': 12.6, 'gust_kph': 20.2, 'uv': 0.0}]}]}}\n",
      "Overcast\n",
      "CLOUDY\n",
      "UNKNOWN, UNHEALTHY_CONSUMPTION, GOOD_SLEEP, GOOD_HEART_RATE, POOR_BLOOD_PRESSURE,  HIGH_STRESS , HIGH_SOCIAL\n",
      "Emotion Classification Result:\n",
      "  Regular day\n",
      "  Superclass: Neutral\n",
      "  Sub-emotion: neutral (0.716)\n"
     ]
    },
    {
     "name": "stderr",
     "output_type": "stream",
     "text": [
      "Setting `pad_token_id` to `eos_token_id`:2 for open-end generation.\n"
     ]
    },
    {
     "name": "stdout",
     "output_type": "stream",
     "text": [
      "{'location': {'name': 'Brooklyn', 'region': 'New York', 'country': 'United States of America', 'lat': 40.65, 'lon': -73.95, 'tz_id': 'America/New_York', 'localtime_epoch': 1745730168, 'localtime': '2025-04-27 01:02'}, 'forecast': {'forecastday': [{'date': '2025-03-15', 'date_epoch': 1741996800, 'day': {'maxtemp_c': 7.2, 'maxtemp_f': 44.9, 'mintemp_c': 5.1, 'mintemp_f': 41.2, 'avgtemp_c': 6.2, 'avgtemp_f': 43.1, 'maxwind_mph': 10.7, 'maxwind_kph': 17.3, 'totalprecip_mm': 0.6, 'totalprecip_in': 0.02, 'totalsnow_cm': 0.0, 'avgvis_km': 10.0, 'avgvis_miles': 6.0, 'avghumidity': 93, 'daily_will_it_rain': 1, 'daily_chance_of_rain': 100, 'daily_will_it_snow': 0, 'daily_chance_of_snow': 0, 'condition': {'text': 'Patchy rain possible', 'icon': '//cdn.weatherapi.com/weather/64x64/day/176.png', 'code': 1063}, 'uv': 2.0}, 'astro': {'sunrise': '07:07 AM', 'sunset': '07:03 PM', 'moonrise': '08:38 PM', 'moonset': '07:36 AM', 'moon_phase': 'Waning Gibbous', 'moon_illumination': 99}, 'hour': [{'time_epoch': 1742011200, 'time': '2025-03-15 00:00', 'temp_c': 5.6, 'temp_f': 42.1, 'is_day': 0, 'condition': {'text': 'Overcast', 'icon': '//cdn.weatherapi.com/weather/64x64/night/122.png', 'code': 1009}, 'wind_mph': 7.2, 'wind_kph': 11.5, 'wind_degree': 155, 'wind_dir': 'SSE', 'pressure_mb': 1020.0, 'pressure_in': 30.12, 'precip_mm': 0.0, 'precip_in': 0.0, 'snow_cm': 0.0, 'humidity': 88, 'cloud': 100, 'feelslike_c': 3.1, 'feelslike_f': 37.6, 'windchill_c': 3.1, 'windchill_f': 37.6, 'heatindex_c': 5.6, 'heatindex_f': 42.1, 'dewpoint_c': 3.7, 'dewpoint_f': 38.7, 'will_it_rain': 0, 'chance_of_rain': 0, 'will_it_snow': 0, 'chance_of_snow': 0, 'vis_km': 10.0, 'vis_miles': 6.0, 'gust_mph': 10.3, 'gust_kph': 16.5, 'uv': 0.0}, {'time_epoch': 1742014800, 'time': '2025-03-15 01:00', 'temp_c': 5.4, 'temp_f': 41.7, 'is_day': 0, 'condition': {'text': 'Overcast', 'icon': '//cdn.weatherapi.com/weather/64x64/night/122.png', 'code': 1009}, 'wind_mph': 7.2, 'wind_kph': 11.5, 'wind_degree': 152, 'wind_dir': 'SSE', 'pressure_mb': 1020.0, 'pressure_in': 30.11, 'precip_mm': 0.0, 'precip_in': 0.0, 'snow_cm': 0.0, 'humidity': 90, 'cloud': 100, 'feelslike_c': 2.8, 'feelslike_f': 37.1, 'windchill_c': 2.8, 'windchill_f': 37.1, 'heatindex_c': 5.4, 'heatindex_f': 41.7, 'dewpoint_c': 3.8, 'dewpoint_f': 38.9, 'will_it_rain': 0, 'chance_of_rain': 0, 'will_it_snow': 0, 'chance_of_snow': 0, 'vis_km': 10.0, 'vis_miles': 6.0, 'gust_mph': 10.1, 'gust_kph': 16.3, 'uv': 0.0}, {'time_epoch': 1742018400, 'time': '2025-03-15 02:00', 'temp_c': 5.3, 'temp_f': 41.5, 'is_day': 0, 'condition': {'text': 'Overcast', 'icon': '//cdn.weatherapi.com/weather/64x64/night/122.png', 'code': 1009}, 'wind_mph': 7.2, 'wind_kph': 11.5, 'wind_degree': 174, 'wind_dir': 'S', 'pressure_mb': 1019.0, 'pressure_in': 30.1, 'precip_mm': 0.0, 'precip_in': 0.0, 'snow_cm': 0.0, 'humidity': 91, 'cloud': 100, 'feelslike_c': 2.7, 'feelslike_f': 36.9, 'windchill_c': 2.7, 'windchill_f': 36.9, 'heatindex_c': 5.3, 'heatindex_f': 41.5, 'dewpoint_c': 3.9, 'dewpoint_f': 39.0, 'will_it_rain': 0, 'chance_of_rain': 0, 'will_it_snow': 0, 'chance_of_snow': 0, 'vis_km': 10.0, 'vis_miles': 6.0, 'gust_mph': 10.0, 'gust_kph': 16.1, 'uv': 0.0}, {'time_epoch': 1742022000, 'time': '2025-03-15 03:00', 'temp_c': 5.3, 'temp_f': 41.5, 'is_day': 0, 'condition': {'text': 'Overcast', 'icon': '//cdn.weatherapi.com/weather/64x64/night/122.png', 'code': 1009}, 'wind_mph': 7.2, 'wind_kph': 11.5, 'wind_degree': 172, 'wind_dir': 'S', 'pressure_mb': 1019.0, 'pressure_in': 30.09, 'precip_mm': 0.0, 'precip_in': 0.0, 'snow_cm': 0.0, 'humidity': 94, 'cloud': 100, 'feelslike_c': 2.7, 'feelslike_f': 36.8, 'windchill_c': 2.7, 'windchill_f': 36.8, 'heatindex_c': 5.3, 'heatindex_f': 41.5, 'dewpoint_c': 4.3, 'dewpoint_f': 39.7, 'will_it_rain': 0, 'chance_of_rain': 0, 'will_it_snow': 0, 'chance_of_snow': 0, 'vis_km': 10.0, 'vis_miles': 6.0, 'gust_mph': 10.0, 'gust_kph': 16.1, 'uv': 0.0}, {'time_epoch': 1742025600, 'time': '2025-03-15 04:00', 'temp_c': 5.2, 'temp_f': 41.4, 'is_day': 0, 'condition': {'text': 'Overcast', 'icon': '//cdn.weatherapi.com/weather/64x64/night/122.png', 'code': 1009}, 'wind_mph': 7.4, 'wind_kph': 11.9, 'wind_degree': 173, 'wind_dir': 'S', 'pressure_mb': 1019.0, 'pressure_in': 30.09, 'precip_mm': 0.0, 'precip_in': 0.0, 'snow_cm': 0.0, 'humidity': 95, 'cloud': 100, 'feelslike_c': 2.6, 'feelslike_f': 36.6, 'windchill_c': 2.6, 'windchill_f': 36.6, 'heatindex_c': 5.2, 'heatindex_f': 41.4, 'dewpoint_c': 4.4, 'dewpoint_f': 40.0, 'will_it_rain': 0, 'chance_of_rain': 0, 'will_it_snow': 0, 'chance_of_snow': 0, 'vis_km': 10.0, 'vis_miles': 6.0, 'gust_mph': 10.2, 'gust_kph': 16.4, 'uv': 0.0}, {'time_epoch': 1742029200, 'time': '2025-03-15 05:00', 'temp_c': 5.2, 'temp_f': 41.3, 'is_day': 0, 'condition': {'text': 'Overcast', 'icon': '//cdn.weatherapi.com/weather/64x64/night/122.png', 'code': 1009}, 'wind_mph': 7.4, 'wind_kph': 11.9, 'wind_degree': 164, 'wind_dir': 'SSE', 'pressure_mb': 1019.0, 'pressure_in': 30.08, 'precip_mm': 0.0, 'precip_in': 0.0, 'snow_cm': 0.0, 'humidity': 96, 'cloud': 100, 'feelslike_c': 2.5, 'feelslike_f': 36.5, 'windchill_c': 2.5, 'windchill_f': 36.5, 'heatindex_c': 5.2, 'heatindex_f': 41.3, 'dewpoint_c': 4.6, 'dewpoint_f': 40.3, 'will_it_rain': 0, 'chance_of_rain': 0, 'will_it_snow': 0, 'chance_of_snow': 0, 'vis_km': 10.0, 'vis_miles': 6.0, 'gust_mph': 10.1, 'gust_kph': 16.3, 'uv': 0.0}, {'time_epoch': 1742032800, 'time': '2025-03-15 06:00', 'temp_c': 5.2, 'temp_f': 41.3, 'is_day': 0, 'condition': {'text': 'Overcast', 'icon': '//cdn.weatherapi.com/weather/64x64/night/122.png', 'code': 1009}, 'wind_mph': 7.4, 'wind_kph': 11.9, 'wind_degree': 169, 'wind_dir': 'S', 'pressure_mb': 1019.0, 'pressure_in': 30.09, 'precip_mm': 0.0, 'precip_in': 0.0, 'snow_cm': 0.0, 'humidity': 96, 'cloud': 100, 'feelslike_c': 2.5, 'feelslike_f': 36.4, 'windchill_c': 2.5, 'windchill_f': 36.4, 'heatindex_c': 5.2, 'heatindex_f': 41.3, 'dewpoint_c': 4.5, 'dewpoint_f': 40.2, 'will_it_rain': 0, 'chance_of_rain': 0, 'will_it_snow': 0, 'chance_of_snow': 0, 'vis_km': 10.0, 'vis_miles': 6.0, 'gust_mph': 10.2, 'gust_kph': 16.4, 'uv': 0.0}, {'time_epoch': 1742036400, 'time': '2025-03-15 07:00', 'temp_c': 5.1, 'temp_f': 41.2, 'is_day': 0, 'condition': {'text': 'Overcast', 'icon': '//cdn.weatherapi.com/weather/64x64/night/122.png', 'code': 1009}, 'wind_mph': 8.1, 'wind_kph': 13.0, 'wind_degree': 176, 'wind_dir': 'S', 'pressure_mb': 1019.0, 'pressure_in': 30.09, 'precip_mm': 0.0, 'precip_in': 0.0, 'snow_cm': 0.0, 'humidity': 96, 'cloud': 100, 'feelslike_c': 2.2, 'feelslike_f': 36.0, 'windchill_c': 2.2, 'windchill_f': 36.0, 'heatindex_c': 5.1, 'heatindex_f': 41.2, 'dewpoint_c': 4.5, 'dewpoint_f': 40.1, 'will_it_rain': 0, 'chance_of_rain': 0, 'will_it_snow': 0, 'chance_of_snow': 0, 'vis_km': 10.0, 'vis_miles': 6.0, 'gust_mph': 11.2, 'gust_kph': 18.0, 'uv': 0.0}, {'time_epoch': 1742040000, 'time': '2025-03-15 08:00', 'temp_c': 5.3, 'temp_f': 41.6, 'is_day': 1, 'condition': {'text': 'Overcast', 'icon': '//cdn.weatherapi.com/weather/64x64/day/122.png', 'code': 1009}, 'wind_mph': 8.3, 'wind_kph': 13.3, 'wind_degree': 174, 'wind_dir': 'S', 'pressure_mb': 1019.0, 'pressure_in': 30.09, 'precip_mm': 0.0, 'precip_in': 0.0, 'snow_cm': 0.0, 'humidity': 95, 'cloud': 100, 'feelslike_c': 2.4, 'feelslike_f': 36.4, 'windchill_c': 2.4, 'windchill_f': 36.4, 'heatindex_c': 5.3, 'heatindex_f': 41.6, 'dewpoint_c': 4.4, 'dewpoint_f': 40.0, 'will_it_rain': 0, 'chance_of_rain': 0, 'will_it_snow': 0, 'chance_of_snow': 0, 'vis_km': 10.0, 'vis_miles': 6.0, 'gust_mph': 11.3, 'gust_kph': 18.3, 'uv': 2.0}, {'time_epoch': 1742043600, 'time': '2025-03-15 09:00', 'temp_c': 5.6, 'temp_f': 42.0, 'is_day': 1, 'condition': {'text': 'Overcast', 'icon': '//cdn.weatherapi.com/weather/64x64/day/122.png', 'code': 1009}, 'wind_mph': 8.9, 'wind_kph': 14.4, 'wind_degree': 170, 'wind_dir': 'S', 'pressure_mb': 1020.0, 'pressure_in': 30.13, 'precip_mm': 0.0, 'precip_in': 0.0, 'snow_cm': 0.0, 'humidity': 94, 'cloud': 100, 'feelslike_c': 2.5, 'feelslike_f': 36.6, 'windchill_c': 2.5, 'windchill_f': 36.6, 'heatindex_c': 5.6, 'heatindex_f': 42.0, 'dewpoint_c': 4.6, 'dewpoint_f': 40.3, 'will_it_rain': 0, 'chance_of_rain': 0, 'will_it_snow': 0, 'chance_of_snow': 0, 'vis_km': 10.0, 'vis_miles': 6.0, 'gust_mph': 15.4, 'gust_kph': 24.8, 'uv': 2.0}, {'time_epoch': 1742047200, 'time': '2025-03-15 10:00', 'temp_c': 5.8, 'temp_f': 42.4, 'is_day': 1, 'condition': {'text': 'Overcast', 'icon': '//cdn.weatherapi.com/weather/64x64/day/122.png', 'code': 1009}, 'wind_mph': 10.1, 'wind_kph': 16.2, 'wind_degree': 170, 'wind_dir': 'S', 'pressure_mb': 1020.0, 'pressure_in': 30.13, 'precip_mm': 0.0, 'precip_in': 0.0, 'snow_cm': 0.0, 'humidity': 93, 'cloud': 100, 'feelslike_c': 2.5, 'feelslike_f': 36.6, 'windchill_c': 2.5, 'windchill_f': 36.6, 'heatindex_c': 5.8, 'heatindex_f': 42.4, 'dewpoint_c': 4.7, 'dewpoint_f': 40.4, 'will_it_rain': 0, 'chance_of_rain': 0, 'will_it_snow': 0, 'chance_of_snow': 0, 'vis_km': 10.0, 'vis_miles': 6.0, 'gust_mph': 16.3, 'gust_kph': 26.2, 'uv': 2.0}, {'time_epoch': 1742050800, 'time': '2025-03-15 11:00', 'temp_c': 6.2, 'temp_f': 43.1, 'is_day': 1, 'condition': {'text': 'Overcast', 'icon': '//cdn.weatherapi.com/weather/64x64/day/122.png', 'code': 1009}, 'wind_mph': 8.7, 'wind_kph': 14.0, 'wind_degree': 172, 'wind_dir': 'S', 'pressure_mb': 1020.0, 'pressure_in': 30.11, 'precip_mm': 0.0, 'precip_in': 0.0, 'snow_cm': 0.0, 'humidity': 92, 'cloud': 100, 'feelslike_c': 3.4, 'feelslike_f': 38.0, 'windchill_c': 3.4, 'windchill_f': 38.0, 'heatindex_c': 6.2, 'heatindex_f': 43.1, 'dewpoint_c': 4.8, 'dewpoint_f': 40.6, 'will_it_rain': 0, 'chance_of_rain': 0, 'will_it_snow': 0, 'chance_of_snow': 0, 'vis_km': 10.0, 'vis_miles': 6.0, 'gust_mph': 15.8, 'gust_kph': 25.4, 'uv': 2.0}, {'time_epoch': 1742054400, 'time': '2025-03-15 12:00', 'temp_c': 6.5, 'temp_f': 43.8, 'is_day': 1, 'condition': {'text': 'Patchy rain possible', 'icon': '//cdn.weatherapi.com/weather/64x64/day/176.png', 'code': 1063}, 'wind_mph': 8.5, 'wind_kph': 13.7, 'wind_degree': 159, 'wind_dir': 'SSE', 'pressure_mb': 1019.0, 'pressure_in': 30.1, 'precip_mm': 0.1, 'precip_in': 0.0, 'snow_cm': 0.0, 'humidity': 91, 'cloud': 100, 'feelslike_c': 3.9, 'feelslike_f': 38.9, 'windchill_c': 3.9, 'windchill_f': 38.9, 'heatindex_c': 6.5, 'heatindex_f': 43.8, 'dewpoint_c': 5.3, 'dewpoint_f': 41.5, 'will_it_rain': 1, 'chance_of_rain': 100, 'will_it_snow': 0, 'chance_of_snow': 0, 'vis_km': 10.0, 'vis_miles': 6.0, 'gust_mph': 15.5, 'gust_kph': 25.0, 'uv': 2.0}, {'time_epoch': 1742058000, 'time': '2025-03-15 13:00', 'temp_c': 6.9, 'temp_f': 44.4, 'is_day': 1, 'condition': {'text': 'Patchy rain possible', 'icon': '//cdn.weatherapi.com/weather/64x64/day/176.png', 'code': 1063}, 'wind_mph': 8.9, 'wind_kph': 14.4, 'wind_degree': 156, 'wind_dir': 'SSE', 'pressure_mb': 1020.0, 'pressure_in': 30.12, 'precip_mm': 0.1, 'precip_in': 0.0, 'snow_cm': 0.0, 'humidity': 91, 'cloud': 100, 'feelslike_c': 4.1, 'feelslike_f': 39.5, 'windchill_c': 4.1, 'windchill_f': 39.5, 'heatindex_c': 6.9, 'heatindex_f': 44.4, 'dewpoint_c': 5.5, 'dewpoint_f': 41.9, 'will_it_rain': 1, 'chance_of_rain': 100, 'will_it_snow': 0, 'chance_of_snow': 0, 'vis_km': 10.0, 'vis_miles': 6.0, 'gust_mph': 15.2, 'gust_kph': 24.4, 'uv': 2.0}, {'time_epoch': 1742061600, 'time': '2025-03-15 14:00', 'temp_c': 7.0, 'temp_f': 44.7, 'is_day': 1, 'condition': {'text': 'Overcast', 'icon': '//cdn.weatherapi.com/weather/64x64/day/122.png', 'code': 1009}, 'wind_mph': 9.8, 'wind_kph': 15.8, 'wind_degree': 148, 'wind_dir': 'SSE', 'pressure_mb': 1019.0, 'pressure_in': 30.09, 'precip_mm': 0.0, 'precip_in': 0.0, 'snow_cm': 0.0, 'humidity': 91, 'cloud': 100, 'feelslike_c': 4.1, 'feelslike_f': 39.5, 'windchill_c': 4.1, 'windchill_f': 39.5, 'heatindex_c': 7.0, 'heatindex_f': 44.7, 'dewpoint_c': 5.8, 'dewpoint_f': 42.4, 'will_it_rain': 0, 'chance_of_rain': 0, 'will_it_snow': 0, 'chance_of_snow': 0, 'vis_km': 10.0, 'vis_miles': 6.0, 'gust_mph': 16.5, 'gust_kph': 26.6, 'uv': 2.0}, {'time_epoch': 1742065200, 'time': '2025-03-15 15:00', 'temp_c': 7.1, 'temp_f': 44.8, 'is_day': 1, 'condition': {'text': 'Overcast', 'icon': '//cdn.weatherapi.com/weather/64x64/day/122.png', 'code': 1009}, 'wind_mph': 10.5, 'wind_kph': 16.9, 'wind_degree': 145, 'wind_dir': 'SE', 'pressure_mb': 1018.0, 'pressure_in': 30.07, 'precip_mm': 0.0, 'precip_in': 0.0, 'snow_cm': 0.0, 'humidity': 93, 'cloud': 100, 'feelslike_c': 4.1, 'feelslike_f': 39.4, 'windchill_c': 4.1, 'windchill_f': 39.4, 'heatindex_c': 7.1, 'heatindex_f': 44.8, 'dewpoint_c': 6.1, 'dewpoint_f': 43.0, 'will_it_rain': 0, 'chance_of_rain': 0, 'will_it_snow': 0, 'chance_of_snow': 0, 'vis_km': 10.0, 'vis_miles': 6.0, 'gust_mph': 15.0, 'gust_kph': 24.2, 'uv': 2.0}, {'time_epoch': 1742068800, 'time': '2025-03-15 16:00', 'temp_c': 7.2, 'temp_f': 44.9, 'is_day': 1, 'condition': {'text': 'Patchy rain possible', 'icon': '//cdn.weatherapi.com/weather/64x64/day/176.png', 'code': 1063}, 'wind_mph': 9.6, 'wind_kph': 15.4, 'wind_degree': 141, 'wind_dir': 'SE', 'pressure_mb': 1018.0, 'pressure_in': 30.05, 'precip_mm': 0.1, 'precip_in': 0.0, 'snow_cm': 0.0, 'humidity': 94, 'cloud': 100, 'feelslike_c': 4.4, 'feelslike_f': 39.8, 'windchill_c': 4.4, 'windchill_f': 39.8, 'heatindex_c': 7.2, 'heatindex_f': 44.9, 'dewpoint_c': 6.2, 'dewpoint_f': 43.2, 'will_it_rain': 1, 'chance_of_rain': 100, 'will_it_snow': 0, 'chance_of_snow': 0, 'vis_km': 10.0, 'vis_miles': 6.0, 'gust_mph': 17.9, 'gust_kph': 28.8, 'uv': 2.0}, {'time_epoch': 1742072400, 'time': '2025-03-15 17:00', 'temp_c': 7.1, 'temp_f': 44.7, 'is_day': 1, 'condition': {'text': 'Patchy rain possible', 'icon': '//cdn.weatherapi.com/weather/64x64/day/176.png', 'code': 1063}, 'wind_mph': 9.7, 'wind_kph': 15.6, 'wind_degree': 143, 'wind_dir': 'SE', 'pressure_mb': 1017.0, 'pressure_in': 30.04, 'precip_mm': 0.1, 'precip_in': 0.0, 'snow_cm': 0.0, 'humidity': 95, 'cloud': 100, 'feelslike_c': 4.2, 'feelslike_f': 39.5, 'windchill_c': 4.2, 'windchill_f': 39.5, 'heatindex_c': 7.1, 'heatindex_f': 44.7, 'dewpoint_c': 6.4, 'dewpoint_f': 43.5, 'will_it_rain': 1, 'chance_of_rain': 100, 'will_it_snow': 0, 'chance_of_snow': 0, 'vis_km': 10.0, 'vis_miles': 6.0, 'gust_mph': 19.7, 'gust_kph': 31.8, 'uv': 2.0}, {'time_epoch': 1742076000, 'time': '2025-03-15 18:00', 'temp_c': 6.9, 'temp_f': 44.5, 'is_day': 1, 'condition': {'text': 'Overcast', 'icon': '//cdn.weatherapi.com/weather/64x64/day/122.png', 'code': 1009}, 'wind_mph': 10.2, 'wind_kph': 16.4, 'wind_degree': 144, 'wind_dir': 'SE', 'pressure_mb': 1017.0, 'pressure_in': 30.05, 'precip_mm': 0.0, 'precip_in': 0.0, 'snow_cm': 0.0, 'humidity': 96, 'cloud': 100, 'feelslike_c': 4.0, 'feelslike_f': 39.1, 'windchill_c': 4.0, 'windchill_f': 39.1, 'heatindex_c': 6.9, 'heatindex_f': 44.5, 'dewpoint_c': 6.4, 'dewpoint_f': 43.4, 'will_it_rain': 0, 'chance_of_rain': 0, 'will_it_snow': 0, 'chance_of_snow': 0, 'vis_km': 10.0, 'vis_miles': 6.0, 'gust_mph': 20.0, 'gust_kph': 32.1, 'uv': 2.0}, {'time_epoch': 1742079600, 'time': '2025-03-15 19:00', 'temp_c': 6.8, 'temp_f': 44.3, 'is_day': 1, 'condition': {'text': 'Overcast', 'icon': '//cdn.weatherapi.com/weather/64x64/day/122.png', 'code': 1009}, 'wind_mph': 9.4, 'wind_kph': 15.2, 'wind_degree': 146, 'wind_dir': 'SSE', 'pressure_mb': 1018.0, 'pressure_in': 30.05, 'precip_mm': 0.0, 'precip_in': 0.0, 'snow_cm': 0.0, 'humidity': 97, 'cloud': 100, 'feelslike_c': 4.0, 'feelslike_f': 39.1, 'windchill_c': 4.0, 'windchill_f': 39.1, 'heatindex_c': 6.8, 'heatindex_f': 44.3, 'dewpoint_c': 6.3, 'dewpoint_f': 43.4, 'will_it_rain': 0, 'chance_of_rain': 0, 'will_it_snow': 0, 'chance_of_snow': 0, 'vis_km': 10.0, 'vis_miles': 6.0, 'gust_mph': 20.2, 'gust_kph': 32.6, 'uv': 2.0}, {'time_epoch': 1742083200, 'time': '2025-03-15 20:00', 'temp_c': 6.9, 'temp_f': 44.3, 'is_day': 0, 'condition': {'text': 'Patchy rain possible', 'icon': '//cdn.weatherapi.com/weather/64x64/night/176.png', 'code': 1063}, 'wind_mph': 9.1, 'wind_kph': 14.6, 'wind_degree': 151, 'wind_dir': 'SSE', 'pressure_mb': 1018.0, 'pressure_in': 30.05, 'precip_mm': 0.1, 'precip_in': 0.0, 'snow_cm': 0.0, 'humidity': 97, 'cloud': 100, 'feelslike_c': 4.1, 'feelslike_f': 39.4, 'windchill_c': 4.1, 'windchill_f': 39.4, 'heatindex_c': 6.9, 'heatindex_f': 44.3, 'dewpoint_c': 6.3, 'dewpoint_f': 43.4, 'will_it_rain': 1, 'chance_of_rain': 100, 'will_it_snow': 0, 'chance_of_snow': 0, 'vis_km': 10.0, 'vis_miles': 6.0, 'gust_mph': 15.5, 'gust_kph': 24.9, 'uv': 0.0}, {'time_epoch': 1742086800, 'time': '2025-03-15 21:00', 'temp_c': 6.9, 'temp_f': 44.5, 'is_day': 0, 'condition': {'text': 'Patchy rain possible', 'icon': '//cdn.weatherapi.com/weather/64x64/night/176.png', 'code': 1063}, 'wind_mph': 8.7, 'wind_kph': 14.0, 'wind_degree': 150, 'wind_dir': 'SSE', 'pressure_mb': 1017.0, 'pressure_in': 30.05, 'precip_mm': 0.1, 'precip_in': 0.0, 'snow_cm': 0.0, 'humidity': 98, 'cloud': 100, 'feelslike_c': 4.3, 'feelslike_f': 39.7, 'windchill_c': 4.3, 'windchill_f': 39.7, 'heatindex_c': 6.9, 'heatindex_f': 44.5, 'dewpoint_c': 6.5, 'dewpoint_f': 43.8, 'will_it_rain': 1, 'chance_of_rain': 100, 'will_it_snow': 0, 'chance_of_snow': 0, 'vis_km': 10.0, 'vis_miles': 6.0, 'gust_mph': 17.9, 'gust_kph': 28.9, 'uv': 0.0}, {'time_epoch': 1742090400, 'time': '2025-03-15 22:00', 'temp_c': 6.4, 'temp_f': 43.5, 'is_day': 0, 'condition': {'text': 'Overcast', 'icon': '//cdn.weatherapi.com/weather/64x64/night/122.png', 'code': 1009}, 'wind_mph': 10.7, 'wind_kph': 17.3, 'wind_degree': 154, 'wind_dir': 'SSE', 'pressure_mb': 1017.0, 'pressure_in': 30.04, 'precip_mm': 0.0, 'precip_in': 0.0, 'snow_cm': 0.0, 'humidity': 98, 'cloud': 100, 'feelslike_c': 3.1, 'feelslike_f': 37.6, 'windchill_c': 3.1, 'windchill_f': 37.6, 'heatindex_c': 6.4, 'heatindex_f': 43.5, 'dewpoint_c': 6.6, 'dewpoint_f': 44.0, 'will_it_rain': 0, 'chance_of_rain': 0, 'will_it_snow': 0, 'chance_of_snow': 0, 'vis_km': 10.0, 'vis_miles': 6.0, 'gust_mph': 17.5, 'gust_kph': 28.2, 'uv': 0.0}, {'time_epoch': 1742094000, 'time': '2025-03-15 23:00', 'temp_c': 6.8, 'temp_f': 44.3, 'is_day': 0, 'condition': {'text': 'Overcast', 'icon': '//cdn.weatherapi.com/weather/64x64/night/122.png', 'code': 1009}, 'wind_mph': 8.0, 'wind_kph': 12.8, 'wind_degree': 161, 'wind_dir': 'SSE', 'pressure_mb': 1021.0, 'pressure_in': 30.14, 'precip_mm': 0.0, 'precip_in': 0.0, 'snow_cm': 0.0, 'humidity': 85, 'cloud': 100, 'feelslike_c': 4.3, 'feelslike_f': 39.8, 'windchill_c': 4.3, 'windchill_f': 39.8, 'heatindex_c': 6.8, 'heatindex_f': 44.3, 'dewpoint_c': 3.6, 'dewpoint_f': 38.4, 'will_it_rain': 0, 'chance_of_rain': 0, 'will_it_snow': 0, 'chance_of_snow': 0, 'vis_km': 10.0, 'vis_miles': 6.0, 'gust_mph': 16.8, 'gust_kph': 27.0, 'uv': 0.0}]}]}}\n",
      "Patchy rain possible\n",
      "RAINY\n",
      "UNKNOWN, UNHEALTHY_CONSUMPTION, GOOD_SLEEP, GOOD_HEART_RATE, POOR_BLOOD_PRESSURE,  HIGH_STRESS , HIGH_SOCIAL\n",
      "Emotion Classification Result:\n",
      "  Went out for a long jog, I enjoyed it\n",
      "  Superclass: Positive\n",
      "  Sub-emotion: joy (0.695)\n"
     ]
    },
    {
     "name": "stderr",
     "output_type": "stream",
     "text": [
      "You seem to be using the pipelines sequentially on GPU. In order to maximize efficiency please use a dataset\n",
      "Setting `pad_token_id` to `eos_token_id`:2 for open-end generation.\n"
     ]
    },
    {
     "name": "stdout",
     "output_type": "stream",
     "text": [
      "{'location': {'name': 'Brooklyn', 'region': 'New York', 'country': 'United States of America', 'lat': 40.65, 'lon': -73.95, 'tz_id': 'America/New_York', 'localtime_epoch': 1745730211, 'localtime': '2025-04-27 01:03'}, 'forecast': {'forecastday': [{'date': '2025-03-16', 'date_epoch': 1742083200, 'day': {'maxtemp_c': 12.6, 'maxtemp_f': 54.7, 'mintemp_c': 7.5, 'mintemp_f': 45.5, 'avgtemp_c': 10.3, 'avgtemp_f': 50.6, 'maxwind_mph': 24.1, 'maxwind_kph': 38.8, 'totalprecip_mm': 13.8, 'totalprecip_in': 0.54, 'totalsnow_cm': 0.0, 'avgvis_km': 9.6, 'avgvis_miles': 5.0, 'avghumidity': 97, 'daily_will_it_rain': 1, 'daily_chance_of_rain': 100, 'daily_will_it_snow': 0, 'daily_chance_of_snow': 0, 'condition': {'text': 'Overcast', 'icon': '//cdn.weatherapi.com/weather/64x64/day/122.png', 'code': 1009}, 'uv': 3.0}, 'astro': {'sunrise': '07:05 AM', 'sunset': '07:04 PM', 'moonrise': '09:39 PM', 'moonset': '07:55 AM', 'moon_phase': 'Waning Gibbous', 'moon_illumination': 97}, 'hour': [{'time_epoch': 1742097600, 'time': '2025-03-16 00:00', 'temp_c': 7.5, 'temp_f': 45.5, 'is_day': 0, 'condition': {'text': 'Overcast', 'icon': '//cdn.weatherapi.com/weather/64x64/night/122.png', 'code': 1009}, 'wind_mph': 8.2, 'wind_kph': 13.2, 'wind_degree': 161, 'wind_dir': 'SSE', 'pressure_mb': 1019.0, 'pressure_in': 30.09, 'precip_mm': 0.0, 'precip_in': 0.0, 'snow_cm': 0.0, 'humidity': 97, 'cloud': 100, 'feelslike_c': 5.1, 'feelslike_f': 41.1, 'windchill_c': 5.1, 'windchill_f': 41.1, 'heatindex_c': 7.5, 'heatindex_f': 45.5, 'dewpoint_c': 6.8, 'dewpoint_f': 44.3, 'will_it_rain': 0, 'chance_of_rain': 0, 'will_it_snow': 0, 'chance_of_snow': 0, 'vis_km': 10.0, 'vis_miles': 6.0, 'gust_mph': 14.5, 'gust_kph': 23.3, 'uv': 0.0}, {'time_epoch': 1742101200, 'time': '2025-03-16 01:00', 'temp_c': 7.7, 'temp_f': 45.9, 'is_day': 0, 'condition': {'text': 'Overcast', 'icon': '//cdn.weatherapi.com/weather/64x64/night/122.png', 'code': 1009}, 'wind_mph': 9.1, 'wind_kph': 14.7, 'wind_degree': 166, 'wind_dir': 'SSE', 'pressure_mb': 1018.0, 'pressure_in': 30.07, 'precip_mm': 0.0, 'precip_in': 0.0, 'snow_cm': 0.0, 'humidity': 97, 'cloud': 100, 'feelslike_c': 5.1, 'feelslike_f': 41.2, 'windchill_c': 5.1, 'windchill_f': 41.2, 'heatindex_c': 7.7, 'heatindex_f': 45.9, 'dewpoint_c': 7.2, 'dewpoint_f': 44.9, 'will_it_rain': 0, 'chance_of_rain': 0, 'will_it_snow': 0, 'chance_of_snow': 0, 'vis_km': 10.0, 'vis_miles': 6.0, 'gust_mph': 13.7, 'gust_kph': 22.1, 'uv': 0.0}, {'time_epoch': 1742104800, 'time': '2025-03-16 02:00', 'temp_c': 7.9, 'temp_f': 46.3, 'is_day': 0, 'condition': {'text': 'Overcast', 'icon': '//cdn.weatherapi.com/weather/64x64/night/122.png', 'code': 1009}, 'wind_mph': 9.0, 'wind_kph': 14.5, 'wind_degree': 175, 'wind_dir': 'S', 'pressure_mb': 1018.0, 'pressure_in': 30.06, 'precip_mm': 0.0, 'precip_in': 0.0, 'snow_cm': 0.0, 'humidity': 97, 'cloud': 100, 'feelslike_c': 5.5, 'feelslike_f': 41.8, 'windchill_c': 5.5, 'windchill_f': 41.8, 'heatindex_c': 7.9, 'heatindex_f': 46.3, 'dewpoint_c': 7.5, 'dewpoint_f': 45.4, 'will_it_rain': 0, 'chance_of_rain': 0, 'will_it_snow': 0, 'chance_of_snow': 0, 'vis_km': 10.0, 'vis_miles': 6.0, 'gust_mph': 13.9, 'gust_kph': 22.3, 'uv': 0.0}, {'time_epoch': 1742108400, 'time': '2025-03-16 03:00', 'temp_c': 8.1, 'temp_f': 46.7, 'is_day': 0, 'condition': {'text': 'Overcast', 'icon': '//cdn.weatherapi.com/weather/64x64/night/122.png', 'code': 1009}, 'wind_mph': 9.1, 'wind_kph': 14.7, 'wind_degree': 179, 'wind_dir': 'S', 'pressure_mb': 1017.0, 'pressure_in': 30.05, 'precip_mm': 0.0, 'precip_in': 0.0, 'snow_cm': 0.0, 'humidity': 97, 'cloud': 100, 'feelslike_c': 5.7, 'feelslike_f': 42.2, 'windchill_c': 5.7, 'windchill_f': 42.2, 'heatindex_c': 8.1, 'heatindex_f': 46.7, 'dewpoint_c': 7.7, 'dewpoint_f': 45.9, 'will_it_rain': 0, 'chance_of_rain': 0, 'will_it_snow': 0, 'chance_of_snow': 0, 'vis_km': 10.0, 'vis_miles': 6.0, 'gust_mph': 15.1, 'gust_kph': 24.4, 'uv': 0.0}, {'time_epoch': 1742112000, 'time': '2025-03-16 04:00', 'temp_c': 8.3, 'temp_f': 47.0, 'is_day': 0, 'condition': {'text': 'Overcast', 'icon': '//cdn.weatherapi.com/weather/64x64/night/122.png', 'code': 1009}, 'wind_mph': 10.2, 'wind_kph': 16.3, 'wind_degree': 166, 'wind_dir': 'SSE', 'pressure_mb': 1017.0, 'pressure_in': 30.04, 'precip_mm': 0.0, 'precip_in': 0.0, 'snow_cm': 0.0, 'humidity': 97, 'cloud': 100, 'feelslike_c': 5.7, 'feelslike_f': 42.2, 'windchill_c': 5.7, 'windchill_f': 42.2, 'heatindex_c': 8.3, 'heatindex_f': 47.0, 'dewpoint_c': 7.9, 'dewpoint_f': 46.2, 'will_it_rain': 0, 'chance_of_rain': 0, 'will_it_snow': 0, 'chance_of_snow': 0, 'vis_km': 10.0, 'vis_miles': 6.0, 'gust_mph': 17.6, 'gust_kph': 28.3, 'uv': 0.0}, {'time_epoch': 1742115600, 'time': '2025-03-16 05:00', 'temp_c': 8.6, 'temp_f': 47.5, 'is_day': 0, 'condition': {'text': 'Overcast', 'icon': '//cdn.weatherapi.com/weather/64x64/night/122.png', 'code': 1009}, 'wind_mph': 11.1, 'wind_kph': 17.9, 'wind_degree': 173, 'wind_dir': 'S', 'pressure_mb': 1017.0, 'pressure_in': 30.03, 'precip_mm': 0.0, 'precip_in': 0.0, 'snow_cm': 0.0, 'humidity': 97, 'cloud': 100, 'feelslike_c': 5.9, 'feelslike_f': 42.6, 'windchill_c': 5.9, 'windchill_f': 42.6, 'heatindex_c': 8.6, 'heatindex_f': 47.5, 'dewpoint_c': 8.0, 'dewpoint_f': 46.4, 'will_it_rain': 0, 'chance_of_rain': 0, 'will_it_snow': 0, 'chance_of_snow': 0, 'vis_km': 10.0, 'vis_miles': 6.0, 'gust_mph': 19.6, 'gust_kph': 31.5, 'uv': 0.0}, {'time_epoch': 1742119200, 'time': '2025-03-16 06:00', 'temp_c': 8.9, 'temp_f': 48.0, 'is_day': 0, 'condition': {'text': 'Overcast', 'icon': '//cdn.weatherapi.com/weather/64x64/night/122.png', 'code': 1009}, 'wind_mph': 13.4, 'wind_kph': 21.6, 'wind_degree': 170, 'wind_dir': 'S', 'pressure_mb': 1017.0, 'pressure_in': 30.03, 'precip_mm': 0.0, 'precip_in': 0.0, 'snow_cm': 0.0, 'humidity': 97, 'cloud': 100, 'feelslike_c': 5.8, 'feelslike_f': 42.5, 'windchill_c': 5.8, 'windchill_f': 42.5, 'heatindex_c': 8.9, 'heatindex_f': 48.0, 'dewpoint_c': 8.5, 'dewpoint_f': 47.3, 'will_it_rain': 0, 'chance_of_rain': 0, 'will_it_snow': 0, 'chance_of_snow': 0, 'vis_km': 10.0, 'vis_miles': 6.0, 'gust_mph': 23.9, 'gust_kph': 38.5, 'uv': 0.0}, {'time_epoch': 1742122800, 'time': '2025-03-16 07:00', 'temp_c': 9.2, 'temp_f': 48.5, 'is_day': 0, 'condition': {'text': 'Overcast', 'icon': '//cdn.weatherapi.com/weather/64x64/night/122.png', 'code': 1009}, 'wind_mph': 14.3, 'wind_kph': 23.0, 'wind_degree': 169, 'wind_dir': 'S', 'pressure_mb': 1017.0, 'pressure_in': 30.03, 'precip_mm': 0.0, 'precip_in': 0.0, 'snow_cm': 0.0, 'humidity': 97, 'cloud': 100, 'feelslike_c': 6.0, 'feelslike_f': 42.8, 'windchill_c': 6.0, 'windchill_f': 42.8, 'heatindex_c': 9.2, 'heatindex_f': 48.5, 'dewpoint_c': 8.7, 'dewpoint_f': 47.7, 'will_it_rain': 0, 'chance_of_rain': 0, 'will_it_snow': 0, 'chance_of_snow': 0, 'vis_km': 10.0, 'vis_miles': 6.0, 'gust_mph': 25.3, 'gust_kph': 40.8, 'uv': 0.0}, {'time_epoch': 1742126400, 'time': '2025-03-16 08:00', 'temp_c': 9.4, 'temp_f': 48.9, 'is_day': 1, 'condition': {'text': 'Overcast', 'icon': '//cdn.weatherapi.com/weather/64x64/day/122.png', 'code': 1009}, 'wind_mph': 15.4, 'wind_kph': 24.8, 'wind_degree': 168, 'wind_dir': 'SSE', 'pressure_mb': 1017.0, 'pressure_in': 30.03, 'precip_mm': 0.0, 'precip_in': 0.0, 'snow_cm': 0.0, 'humidity': 97, 'cloud': 100, 'feelslike_c': 6.2, 'feelslike_f': 43.1, 'windchill_c': 6.2, 'windchill_f': 43.1, 'heatindex_c': 9.4, 'heatindex_f': 48.9, 'dewpoint_c': 8.9, 'dewpoint_f': 48.1, 'will_it_rain': 0, 'chance_of_rain': 0, 'will_it_snow': 0, 'chance_of_snow': 0, 'vis_km': 10.0, 'vis_miles': 6.0, 'gust_mph': 28.1, 'gust_kph': 45.2, 'uv': 2.0}, {'time_epoch': 1742130000, 'time': '2025-03-16 09:00', 'temp_c': 9.6, 'temp_f': 49.3, 'is_day': 1, 'condition': {'text': 'Overcast', 'icon': '//cdn.weatherapi.com/weather/64x64/day/122.png', 'code': 1009}, 'wind_mph': 16.1, 'wind_kph': 25.9, 'wind_degree': 165, 'wind_dir': 'SSE', 'pressure_mb': 1017.0, 'pressure_in': 30.03, 'precip_mm': 0.0, 'precip_in': 0.0, 'snow_cm': 0.0, 'humidity': 97, 'cloud': 100, 'feelslike_c': 6.3, 'feelslike_f': 43.4, 'windchill_c': 6.3, 'windchill_f': 43.4, 'heatindex_c': 9.6, 'heatindex_f': 49.3, 'dewpoint_c': 9.2, 'dewpoint_f': 48.5, 'will_it_rain': 0, 'chance_of_rain': 0, 'will_it_snow': 0, 'chance_of_snow': 0, 'vis_km': 10.0, 'vis_miles': 6.0, 'gust_mph': 24.0, 'gust_kph': 38.6, 'uv': 2.0}, {'time_epoch': 1742133600, 'time': '2025-03-16 10:00', 'temp_c': 10.8, 'temp_f': 51.5, 'is_day': 1, 'condition': {'text': 'Overcast', 'icon': '//cdn.weatherapi.com/weather/64x64/day/122.png', 'code': 1009}, 'wind_mph': 16.1, 'wind_kph': 25.9, 'wind_degree': 169, 'wind_dir': 'S', 'pressure_mb': 1017.0, 'pressure_in': 30.03, 'precip_mm': 0.0, 'precip_in': 0.0, 'snow_cm': 0.0, 'humidity': 97, 'cloud': 100, 'feelslike_c': 7.9, 'feelslike_f': 46.3, 'windchill_c': 7.9, 'windchill_f': 46.3, 'heatindex_c': 10.8, 'heatindex_f': 51.5, 'dewpoint_c': 10.4, 'dewpoint_f': 50.8, 'will_it_rain': 0, 'chance_of_rain': 0, 'will_it_snow': 0, 'chance_of_snow': 0, 'vis_km': 10.0, 'vis_miles': 6.0, 'gust_mph': 27.0, 'gust_kph': 43.5, 'uv': 3.0}, {'time_epoch': 1742137200, 'time': '2025-03-16 11:00', 'temp_c': 11.3, 'temp_f': 52.3, 'is_day': 1, 'condition': {'text': 'Overcast', 'icon': '//cdn.weatherapi.com/weather/64x64/day/122.png', 'code': 1009}, 'wind_mph': 16.6, 'wind_kph': 26.6, 'wind_degree': 167, 'wind_dir': 'SSE', 'pressure_mb': 1017.0, 'pressure_in': 30.03, 'precip_mm': 0.0, 'precip_in': 0.0, 'snow_cm': 0.0, 'humidity': 97, 'cloud': 100, 'feelslike_c': 8.4, 'feelslike_f': 47.2, 'windchill_c': 8.4, 'windchill_f': 47.2, 'heatindex_c': 11.3, 'heatindex_f': 52.3, 'dewpoint_c': 10.6, 'dewpoint_f': 51.1, 'will_it_rain': 0, 'chance_of_rain': 0, 'will_it_snow': 0, 'chance_of_snow': 0, 'vis_km': 10.0, 'vis_miles': 6.0, 'gust_mph': 31.3, 'gust_kph': 50.3, 'uv': 3.0}, {'time_epoch': 1742140800, 'time': '2025-03-16 12:00', 'temp_c': 10.5, 'temp_f': 50.8, 'is_day': 1, 'condition': {'text': 'Overcast', 'icon': '//cdn.weatherapi.com/weather/64x64/day/122.png', 'code': 1009}, 'wind_mph': 16.5, 'wind_kph': 26.5, 'wind_degree': 169, 'wind_dir': 'S', 'pressure_mb': 1016.0, 'pressure_in': 30.01, 'precip_mm': 0.0, 'precip_in': 0.0, 'snow_cm': 0.0, 'humidity': 96, 'cloud': 100, 'feelslike_c': 7.4, 'feelslike_f': 45.4, 'windchill_c': 7.4, 'windchill_f': 45.4, 'heatindex_c': 10.5, 'heatindex_f': 50.8, 'dewpoint_c': 9.9, 'dewpoint_f': 49.7, 'will_it_rain': 0, 'chance_of_rain': 0, 'will_it_snow': 0, 'chance_of_snow': 0, 'vis_km': 10.0, 'vis_miles': 6.0, 'gust_mph': 33.1, 'gust_kph': 53.3, 'uv': 3.0}, {'time_epoch': 1742144400, 'time': '2025-03-16 13:00', 'temp_c': 10.8, 'temp_f': 51.4, 'is_day': 1, 'condition': {'text': 'Overcast', 'icon': '//cdn.weatherapi.com/weather/64x64/day/122.png', 'code': 1009}, 'wind_mph': 14.2, 'wind_kph': 22.9, 'wind_degree': 173, 'wind_dir': 'S', 'pressure_mb': 1016.0, 'pressure_in': 30.01, 'precip_mm': 0.0, 'precip_in': 0.0, 'snow_cm': 0.0, 'humidity': 95, 'cloud': 100, 'feelslike_c': 8.1, 'feelslike_f': 46.6, 'windchill_c': 8.1, 'windchill_f': 46.6, 'heatindex_c': 10.8, 'heatindex_f': 51.4, 'dewpoint_c': 10.1, 'dewpoint_f': 50.1, 'will_it_rain': 0, 'chance_of_rain': 0, 'will_it_snow': 0, 'chance_of_snow': 0, 'vis_km': 10.0, 'vis_miles': 6.0, 'gust_mph': 31.6, 'gust_kph': 50.9, 'uv': 3.0}, {'time_epoch': 1742148000, 'time': '2025-03-16 14:00', 'temp_c': 12.1, 'temp_f': 53.7, 'is_day': 1, 'condition': {'text': 'Overcast', 'icon': '//cdn.weatherapi.com/weather/64x64/day/122.png', 'code': 1009}, 'wind_mph': 17.0, 'wind_kph': 27.4, 'wind_degree': 170, 'wind_dir': 'S', 'pressure_mb': 1015.0, 'pressure_in': 29.98, 'precip_mm': 0.0, 'precip_in': 0.0, 'snow_cm': 0.0, 'humidity': 95, 'cloud': 100, 'feelslike_c': 9.4, 'feelslike_f': 49.0, 'windchill_c': 9.4, 'windchill_f': 49.0, 'heatindex_c': 12.1, 'heatindex_f': 53.7, 'dewpoint_c': 11.0, 'dewpoint_f': 51.7, 'will_it_rain': 0, 'chance_of_rain': 0, 'will_it_snow': 0, 'chance_of_snow': 0, 'vis_km': 10.0, 'vis_miles': 6.0, 'gust_mph': 30.7, 'gust_kph': 49.4, 'uv': 3.0}, {'time_epoch': 1742151600, 'time': '2025-03-16 15:00', 'temp_c': 12.3, 'temp_f': 54.2, 'is_day': 1, 'condition': {'text': 'Overcast', 'icon': '//cdn.weatherapi.com/weather/64x64/day/122.png', 'code': 1009}, 'wind_mph': 15.3, 'wind_kph': 24.6, 'wind_degree': 169, 'wind_dir': 'S', 'pressure_mb': 1015.0, 'pressure_in': 29.96, 'precip_mm': 0.0, 'precip_in': 0.0, 'snow_cm': 0.0, 'humidity': 96, 'cloud': 100, 'feelslike_c': 9.9, 'feelslike_f': 49.9, 'windchill_c': 9.9, 'windchill_f': 49.9, 'heatindex_c': 12.3, 'heatindex_f': 54.2, 'dewpoint_c': 11.2, 'dewpoint_f': 52.2, 'will_it_rain': 0, 'chance_of_rain': 0, 'will_it_snow': 0, 'chance_of_snow': 0, 'vis_km': 10.0, 'vis_miles': 6.0, 'gust_mph': 31.9, 'gust_kph': 51.3, 'uv': 3.0}, {'time_epoch': 1742155200, 'time': '2025-03-16 16:00', 'temp_c': 12.2, 'temp_f': 53.9, 'is_day': 1, 'condition': {'text': 'Overcast', 'icon': '//cdn.weatherapi.com/weather/64x64/day/122.png', 'code': 1009}, 'wind_mph': 15.0, 'wind_kph': 24.2, 'wind_degree': 172, 'wind_dir': 'S', 'pressure_mb': 1014.0, 'pressure_in': 29.94, 'precip_mm': 0.0, 'precip_in': 0.0, 'snow_cm': 0.0, 'humidity': 96, 'cloud': 100, 'feelslike_c': 9.8, 'feelslike_f': 49.6, 'windchill_c': 9.8, 'windchill_f': 49.6, 'heatindex_c': 12.2, 'heatindex_f': 53.9, 'dewpoint_c': 11.1, 'dewpoint_f': 52.0, 'will_it_rain': 0, 'chance_of_rain': 0, 'will_it_snow': 0, 'chance_of_snow': 0, 'vis_km': 10.0, 'vis_miles': 6.0, 'gust_mph': 32.1, 'gust_kph': 51.6, 'uv': 3.0}, {'time_epoch': 1742158800, 'time': '2025-03-16 17:00', 'temp_c': 11.0, 'temp_f': 51.7, 'is_day': 1, 'condition': {'text': 'Overcast', 'icon': '//cdn.weatherapi.com/weather/64x64/day/122.png', 'code': 1009}, 'wind_mph': 15.7, 'wind_kph': 25.3, 'wind_degree': 171, 'wind_dir': 'S', 'pressure_mb': 1012.0, 'pressure_in': 29.88, 'precip_mm': 0.0, 'precip_in': 0.0, 'snow_cm': 0.0, 'humidity': 97, 'cloud': 100, 'feelslike_c': 8.2, 'feelslike_f': 46.7, 'windchill_c': 8.2, 'windchill_f': 46.7, 'heatindex_c': 11.0, 'heatindex_f': 51.7, 'dewpoint_c': 10.6, 'dewpoint_f': 51.1, 'will_it_rain': 0, 'chance_of_rain': 0, 'will_it_snow': 0, 'chance_of_snow': 0, 'vis_km': 10.0, 'vis_miles': 6.0, 'gust_mph': 32.0, 'gust_kph': 51.5, 'uv': 3.0}, {'time_epoch': 1742162400, 'time': '2025-03-16 18:00', 'temp_c': 10.8, 'temp_f': 51.5, 'is_day': 1, 'condition': {'text': 'Overcast', 'icon': '//cdn.weatherapi.com/weather/64x64/day/122.png', 'code': 1009}, 'wind_mph': 19.8, 'wind_kph': 31.9, 'wind_degree': 174, 'wind_dir': 'S', 'pressure_mb': 1012.0, 'pressure_in': 29.89, 'precip_mm': 0.0, 'precip_in': 0.0, 'snow_cm': 0.0, 'humidity': 97, 'cloud': 100, 'feelslike_c': 7.6, 'feelslike_f': 45.6, 'windchill_c': 7.6, 'windchill_f': 45.6, 'heatindex_c': 10.8, 'heatindex_f': 51.5, 'dewpoint_c': 10.4, 'dewpoint_f': 50.8, 'will_it_rain': 0, 'chance_of_rain': 0, 'will_it_snow': 0, 'chance_of_snow': 0, 'vis_km': 10.0, 'vis_miles': 6.0, 'gust_mph': 40.5, 'gust_kph': 65.2, 'uv': 3.0}, {'time_epoch': 1742166000, 'time': '2025-03-16 19:00', 'temp_c': 12.1, 'temp_f': 53.8, 'is_day': 1, 'condition': {'text': 'Overcast', 'icon': '//cdn.weatherapi.com/weather/64x64/day/122.png', 'code': 1009}, 'wind_mph': 19.9, 'wind_kph': 32.1, 'wind_degree': 172, 'wind_dir': 'S', 'pressure_mb': 1013.0, 'pressure_in': 29.9, 'precip_mm': 0.0, 'precip_in': 0.0, 'snow_cm': 0.0, 'humidity': 97, 'cloud': 100, 'feelslike_c': 9.2, 'feelslike_f': 48.6, 'windchill_c': 9.2, 'windchill_f': 48.6, 'heatindex_c': 12.1, 'heatindex_f': 53.8, 'dewpoint_c': 10.9, 'dewpoint_f': 51.6, 'will_it_rain': 0, 'chance_of_rain': 0, 'will_it_snow': 0, 'chance_of_snow': 0, 'vis_km': 10.0, 'vis_miles': 6.0, 'gust_mph': 41.9, 'gust_kph': 67.4, 'uv': 3.0}, {'time_epoch': 1742169600, 'time': '2025-03-16 20:00', 'temp_c': 12.2, 'temp_f': 54.0, 'is_day': 0, 'condition': {'text': 'Overcast', 'icon': '//cdn.weatherapi.com/weather/64x64/night/122.png', 'code': 1009}, 'wind_mph': 20.2, 'wind_kph': 32.5, 'wind_degree': 169, 'wind_dir': 'S', 'pressure_mb': 1012.0, 'pressure_in': 29.9, 'precip_mm': 0.0, 'precip_in': 0.0, 'snow_cm': 0.0, 'humidity': 98, 'cloud': 100, 'feelslike_c': 9.4, 'feelslike_f': 48.8, 'windchill_c': 9.4, 'windchill_f': 48.8, 'heatindex_c': 12.2, 'heatindex_f': 54.0, 'dewpoint_c': 10.9, 'dewpoint_f': 51.6, 'will_it_rain': 0, 'chance_of_rain': 0, 'will_it_snow': 0, 'chance_of_snow': 0, 'vis_km': 2.0, 'vis_miles': 1.0, 'gust_mph': 41.9, 'gust_kph': 67.5, 'uv': 0.0}, {'time_epoch': 1742173200, 'time': '2025-03-16 21:00', 'temp_c': 12.4, 'temp_f': 54.4, 'is_day': 0, 'condition': {'text': 'Moderate or heavy rain shower', 'icon': '//cdn.weatherapi.com/weather/64x64/night/356.png', 'code': 1243}, 'wind_mph': 24.1, 'wind_kph': 38.8, 'wind_degree': 177, 'wind_dir': 'S', 'pressure_mb': 1011.0, 'pressure_in': 29.86, 'precip_mm': 8.3, 'precip_in': 0.33, 'snow_cm': 0.0, 'humidity': 97, 'cloud': 100, 'feelslike_c': 9.3, 'feelslike_f': 48.7, 'windchill_c': 9.3, 'windchill_f': 48.7, 'heatindex_c': 12.4, 'heatindex_f': 54.4, 'dewpoint_c': 11.6, 'dewpoint_f': 52.8, 'will_it_rain': 1, 'chance_of_rain': 100, 'will_it_snow': 0, 'chance_of_snow': 0, 'vis_km': 9.0, 'vis_miles': 5.0, 'gust_mph': 44.7, 'gust_kph': 71.9, 'uv': 0.0}, {'time_epoch': 1742176800, 'time': '2025-03-16 22:00', 'temp_c': 12.6, 'temp_f': 54.7, 'is_day': 0, 'condition': {'text': 'Moderate or heavy rain shower', 'icon': '//cdn.weatherapi.com/weather/64x64/night/356.png', 'code': 1243}, 'wind_mph': 22.1, 'wind_kph': 35.6, 'wind_degree': 177, 'wind_dir': 'S', 'pressure_mb': 1011.0, 'pressure_in': 29.87, 'precip_mm': 3.7, 'precip_in': 0.15, 'snow_cm': 0.0, 'humidity': 97, 'cloud': 100, 'feelslike_c': 9.7, 'feelslike_f': 49.4, 'windchill_c': 9.7, 'windchill_f': 49.4, 'heatindex_c': 12.6, 'heatindex_f': 54.7, 'dewpoint_c': 12.1, 'dewpoint_f': 53.8, 'will_it_rain': 1, 'chance_of_rain': 100, 'will_it_snow': 0, 'chance_of_snow': 0, 'vis_km': 9.0, 'vis_miles': 5.0, 'gust_mph': 46.2, 'gust_kph': 74.3, 'uv': 0.0}, {'time_epoch': 1742180400, 'time': '2025-03-16 23:00', 'temp_c': 11.6, 'temp_f': 52.8, 'is_day': 0, 'condition': {'text': 'Moderate or heavy rain shower', 'icon': '//cdn.weatherapi.com/weather/64x64/night/356.png', 'code': 1243}, 'wind_mph': 20.8, 'wind_kph': 33.5, 'wind_degree': 182, 'wind_dir': 'S', 'pressure_mb': 1011.0, 'pressure_in': 29.85, 'precip_mm': 1.8, 'precip_in': 0.07, 'snow_cm': 0.0, 'humidity': 98, 'cloud': 100, 'feelslike_c': 8.4, 'feelslike_f': 47.2, 'windchill_c': 8.4, 'windchill_f': 47.2, 'heatindex_c': 11.6, 'heatindex_f': 52.8, 'dewpoint_c': 9.4, 'dewpoint_f': 48.9, 'will_it_rain': 1, 'chance_of_rain': 100, 'will_it_snow': 0, 'chance_of_snow': 0, 'vis_km': 10.0, 'vis_miles': 6.0, 'gust_mph': 38.4, 'gust_kph': 61.8, 'uv': 0.0}]}]}}\n",
      "Overcast\n",
      "CLOUDY\n",
      "UNKNOWN, UNHEALTHY_CONSUMPTION, GOOD_SLEEP, GOOD_HEART_RATE, POOR_BLOOD_PRESSURE,  HIGH_STRESS , HIGH_SOCIAL\n",
      "Emotion Classification Result:\n",
      "  Went out for a short jog and lifted weights, it was nice\n",
      "  Superclass: Positive\n",
      "  Sub-emotion: admiration (0.530)\n"
     ]
    },
    {
     "name": "stderr",
     "output_type": "stream",
     "text": [
      "Setting `pad_token_id` to `eos_token_id`:2 for open-end generation.\n"
     ]
    },
    {
     "name": "stdout",
     "output_type": "stream",
     "text": [
      "{'location': {'name': 'Brooklyn', 'region': 'New York', 'country': 'United States of America', 'lat': 40.65, 'lon': -73.95, 'tz_id': 'America/New_York', 'localtime_epoch': 1745730249, 'localtime': '2025-04-27 01:04'}, 'forecast': {'forecastday': [{'date': '2025-03-17', 'date_epoch': 1742169600, 'day': {'maxtemp_c': 13.5, 'maxtemp_f': 56.3, 'mintemp_c': 5.0, 'mintemp_f': 41.0, 'avgtemp_c': 10.5, 'avgtemp_f': 50.9, 'maxwind_mph': 15.9, 'maxwind_kph': 25.6, 'totalprecip_mm': 32.7, 'totalprecip_in': 1.29, 'totalsnow_cm': 0.0, 'avgvis_km': 7.8, 'avgvis_miles': 4.0, 'avghumidity': 93, 'daily_will_it_rain': 1, 'daily_chance_of_rain': 100, 'daily_will_it_snow': 0, 'daily_chance_of_snow': 0, 'condition': {'text': 'Moderate or heavy rain shower', 'icon': '//cdn.weatherapi.com/weather/64x64/day/356.png', 'code': 1243}, 'uv': 3.0}, 'astro': {'sunrise': '07:04 AM', 'sunset': '07:05 PM', 'moonrise': '10:41 PM', 'moonset': '08:16 AM', 'moon_phase': 'Waning Gibbous', 'moon_illumination': 93}, 'hour': [{'time_epoch': 1742184000, 'time': '2025-03-17 00:00', 'temp_c': 11.3, 'temp_f': 52.3, 'is_day': 0, 'condition': {'text': 'Heavy rain at times', 'icon': '//cdn.weatherapi.com/weather/64x64/night/305.png', 'code': 1192}, 'wind_mph': 15.9, 'wind_kph': 25.6, 'wind_degree': 175, 'wind_dir': 'S', 'pressure_mb': 1011.0, 'pressure_in': 29.84, 'precip_mm': 1.2, 'precip_in': 0.05, 'snow_cm': 0.0, 'humidity': 96, 'cloud': 100, 'feelslike_c': 8.5, 'feelslike_f': 47.3, 'windchill_c': 8.5, 'windchill_f': 47.3, 'heatindex_c': 11.3, 'heatindex_f': 52.3, 'dewpoint_c': 10.8, 'dewpoint_f': 51.4, 'will_it_rain': 1, 'chance_of_rain': 100, 'will_it_snow': 0, 'chance_of_snow': 0, 'vis_km': 7.0, 'vis_miles': 4.0, 'gust_mph': 34.5, 'gust_kph': 55.5, 'uv': 0.0}, {'time_epoch': 1742187600, 'time': '2025-03-17 01:00', 'temp_c': 11.1, 'temp_f': 52.0, 'is_day': 0, 'condition': {'text': 'Moderate or heavy rain shower', 'icon': '//cdn.weatherapi.com/weather/64x64/night/356.png', 'code': 1243}, 'wind_mph': 15.4, 'wind_kph': 24.8, 'wind_degree': 168, 'wind_dir': 'SSE', 'pressure_mb': 1011.0, 'pressure_in': 29.84, 'precip_mm': 7.3, 'precip_in': 0.29, 'snow_cm': 0.0, 'humidity': 96, 'cloud': 100, 'feelslike_c': 8.4, 'feelslike_f': 47.1, 'windchill_c': 8.4, 'windchill_f': 47.1, 'heatindex_c': 11.1, 'heatindex_f': 52.0, 'dewpoint_c': 10.6, 'dewpoint_f': 51.1, 'will_it_rain': 1, 'chance_of_rain': 100, 'will_it_snow': 0, 'chance_of_snow': 0, 'vis_km': 7.0, 'vis_miles': 4.0, 'gust_mph': 37.8, 'gust_kph': 60.8, 'uv': 0.0}, {'time_epoch': 1742191200, 'time': '2025-03-17 02:00', 'temp_c': 12.1, 'temp_f': 53.8, 'is_day': 0, 'condition': {'text': 'Moderate or heavy rain shower', 'icon': '//cdn.weatherapi.com/weather/64x64/night/356.png', 'code': 1243}, 'wind_mph': 15.2, 'wind_kph': 24.5, 'wind_degree': 176, 'wind_dir': 'S', 'pressure_mb': 1010.0, 'pressure_in': 29.84, 'precip_mm': 2.8, 'precip_in': 0.11, 'snow_cm': 0.0, 'humidity': 96, 'cloud': 100, 'feelslike_c': 9.7, 'feelslike_f': 49.4, 'windchill_c': 9.7, 'windchill_f': 49.4, 'heatindex_c': 12.1, 'heatindex_f': 53.8, 'dewpoint_c': 11.6, 'dewpoint_f': 52.8, 'will_it_rain': 1, 'chance_of_rain': 100, 'will_it_snow': 0, 'chance_of_snow': 0, 'vis_km': 5.0, 'vis_miles': 3.0, 'gust_mph': 37.7, 'gust_kph': 60.6, 'uv': 0.0}, {'time_epoch': 1742194800, 'time': '2025-03-17 03:00', 'temp_c': 12.3, 'temp_f': 54.2, 'is_day': 0, 'condition': {'text': 'Moderate or heavy rain shower', 'icon': '//cdn.weatherapi.com/weather/64x64/night/356.png', 'code': 1243}, 'wind_mph': 13.0, 'wind_kph': 20.9, 'wind_degree': 167, 'wind_dir': 'SSE', 'pressure_mb': 1009.0, 'pressure_in': 29.79, 'precip_mm': 7.5, 'precip_in': 0.3, 'snow_cm': 0.0, 'humidity': 97, 'cloud': 100, 'feelslike_c': 10.3, 'feelslike_f': 50.5, 'windchill_c': 10.3, 'windchill_f': 50.5, 'heatindex_c': 12.3, 'heatindex_f': 54.2, 'dewpoint_c': 11.8, 'dewpoint_f': 53.3, 'will_it_rain': 1, 'chance_of_rain': 100, 'will_it_snow': 0, 'chance_of_snow': 0, 'vis_km': 2.0, 'vis_miles': 1.0, 'gust_mph': 29.0, 'gust_kph': 46.7, 'uv': 0.0}, {'time_epoch': 1742198400, 'time': '2025-03-17 04:00', 'temp_c': 12.1, 'temp_f': 53.8, 'is_day': 0, 'condition': {'text': 'Moderate or heavy rain shower', 'icon': '//cdn.weatherapi.com/weather/64x64/night/356.png', 'code': 1243}, 'wind_mph': 8.6, 'wind_kph': 13.8, 'wind_degree': 167, 'wind_dir': 'SSE', 'pressure_mb': 1008.0, 'pressure_in': 29.76, 'precip_mm': 5.7, 'precip_in': 0.22, 'snow_cm': 0.0, 'humidity': 97, 'cloud': 100, 'feelslike_c': 10.6, 'feelslike_f': 51.1, 'windchill_c': 10.6, 'windchill_f': 51.1, 'heatindex_c': 12.1, 'heatindex_f': 53.8, 'dewpoint_c': 11.6, 'dewpoint_f': 52.9, 'will_it_rain': 1, 'chance_of_rain': 100, 'will_it_snow': 0, 'chance_of_snow': 0, 'vis_km': 10.0, 'vis_miles': 6.0, 'gust_mph': 22.4, 'gust_kph': 36.1, 'uv': 0.0}, {'time_epoch': 1742202000, 'time': '2025-03-17 05:00', 'temp_c': 12.0, 'temp_f': 53.7, 'is_day': 0, 'condition': {'text': 'Moderate or heavy rain shower', 'icon': '//cdn.weatherapi.com/weather/64x64/night/356.png', 'code': 1243}, 'wind_mph': 9.3, 'wind_kph': 15.0, 'wind_degree': 172, 'wind_dir': 'S', 'pressure_mb': 1008.0, 'pressure_in': 29.76, 'precip_mm': 4.4, 'precip_in': 0.17, 'snow_cm': 0.0, 'humidity': 97, 'cloud': 100, 'feelslike_c': 10.4, 'feelslike_f': 50.8, 'windchill_c': 10.4, 'windchill_f': 50.8, 'heatindex_c': 12.0, 'heatindex_f': 53.7, 'dewpoint_c': 11.6, 'dewpoint_f': 52.9, 'will_it_rain': 1, 'chance_of_rain': 100, 'will_it_snow': 0, 'chance_of_snow': 0, 'vis_km': 10.0, 'vis_miles': 6.0, 'gust_mph': 15.5, 'gust_kph': 24.9, 'uv': 0.0}, {'time_epoch': 1742205600, 'time': '2025-03-17 06:00', 'temp_c': 11.9, 'temp_f': 53.4, 'is_day': 0, 'condition': {'text': 'Moderate rain at times', 'icon': '//cdn.weatherapi.com/weather/64x64/night/299.png', 'code': 1186}, 'wind_mph': 7.2, 'wind_kph': 11.5, 'wind_degree': 192, 'wind_dir': 'SSW', 'pressure_mb': 1008.0, 'pressure_in': 29.75, 'precip_mm': 0.5, 'precip_in': 0.02, 'snow_cm': 0.0, 'humidity': 97, 'cloud': 100, 'feelslike_c': 10.7, 'feelslike_f': 51.2, 'windchill_c': 10.7, 'windchill_f': 51.2, 'heatindex_c': 11.9, 'heatindex_f': 53.4, 'dewpoint_c': 11.4, 'dewpoint_f': 52.5, 'will_it_rain': 1, 'chance_of_rain': 100, 'will_it_snow': 0, 'chance_of_snow': 0, 'vis_km': 9.0, 'vis_miles': 5.0, 'gust_mph': 15.9, 'gust_kph': 25.6, 'uv': 0.0}, {'time_epoch': 1742209200, 'time': '2025-03-17 07:00', 'temp_c': 11.7, 'temp_f': 53.0, 'is_day': 0, 'condition': {'text': 'Moderate rain at times', 'icon': '//cdn.weatherapi.com/weather/64x64/night/299.png', 'code': 1186}, 'wind_mph': 6.1, 'wind_kph': 9.8, 'wind_degree': 192, 'wind_dir': 'SSW', 'pressure_mb': 1009.0, 'pressure_in': 29.81, 'precip_mm': 0.8, 'precip_in': 0.03, 'snow_cm': 0.0, 'humidity': 98, 'cloud': 100, 'feelslike_c': 10.7, 'feelslike_f': 51.2, 'windchill_c': 10.7, 'windchill_f': 51.2, 'heatindex_c': 11.7, 'heatindex_f': 53.0, 'dewpoint_c': 11.1, 'dewpoint_f': 52.1, 'will_it_rain': 1, 'chance_of_rain': 100, 'will_it_snow': 0, 'chance_of_snow': 0, 'vis_km': 7.0, 'vis_miles': 4.0, 'gust_mph': 8.5, 'gust_kph': 13.6, 'uv': 0.0}, {'time_epoch': 1742212800, 'time': '2025-03-17 08:00', 'temp_c': 10.6, 'temp_f': 51.1, 'is_day': 1, 'condition': {'text': 'Moderate or heavy rain shower', 'icon': '//cdn.weatherapi.com/weather/64x64/day/356.png', 'code': 1243}, 'wind_mph': 7.4, 'wind_kph': 11.9, 'wind_degree': 178, 'wind_dir': 'S', 'pressure_mb': 1008.0, 'pressure_in': 29.77, 'precip_mm': 2.3, 'precip_in': 0.09, 'snow_cm': 0.0, 'humidity': 98, 'cloud': 100, 'feelslike_c': 9.1, 'feelslike_f': 48.4, 'windchill_c': 9.1, 'windchill_f': 48.4, 'heatindex_c': 10.6, 'heatindex_f': 51.1, 'dewpoint_c': 10.2, 'dewpoint_f': 50.3, 'will_it_rain': 1, 'chance_of_rain': 100, 'will_it_snow': 0, 'chance_of_snow': 0, 'vis_km': 9.0, 'vis_miles': 5.0, 'gust_mph': 12.3, 'gust_kph': 19.9, 'uv': 3.0}, {'time_epoch': 1742216400, 'time': '2025-03-17 09:00', 'temp_c': 12.1, 'temp_f': 53.7, 'is_day': 1, 'condition': {'text': 'Patchy rain possible', 'icon': '//cdn.weatherapi.com/weather/64x64/day/176.png', 'code': 1063}, 'wind_mph': 8.7, 'wind_kph': 14.0, 'wind_degree': 177, 'wind_dir': 'S', 'pressure_mb': 1010.0, 'pressure_in': 29.84, 'precip_mm': 0.1, 'precip_in': 0.0, 'snow_cm': 0.0, 'humidity': 95, 'cloud': 100, 'feelslike_c': 10.6, 'feelslike_f': 51.0, 'windchill_c': 10.6, 'windchill_f': 51.0, 'heatindex_c': 12.1, 'heatindex_f': 53.7, 'dewpoint_c': 11.2, 'dewpoint_f': 52.2, 'will_it_rain': 1, 'chance_of_rain': 100, 'will_it_snow': 0, 'chance_of_snow': 0, 'vis_km': 9.0, 'vis_miles': 5.0, 'gust_mph': 11.3, 'gust_kph': 18.2, 'uv': 3.0}, {'time_epoch': 1742220000, 'time': '2025-03-17 10:00', 'temp_c': 12.3, 'temp_f': 54.1, 'is_day': 1, 'condition': {'text': 'Patchy rain possible', 'icon': '//cdn.weatherapi.com/weather/64x64/day/176.png', 'code': 1063}, 'wind_mph': 5.6, 'wind_kph': 9.0, 'wind_degree': 170, 'wind_dir': 'S', 'pressure_mb': 1011.0, 'pressure_in': 29.85, 'precip_mm': 0.1, 'precip_in': 0.0, 'snow_cm': 0.0, 'humidity': 94, 'cloud': 100, 'feelslike_c': 11.5, 'feelslike_f': 52.8, 'windchill_c': 11.5, 'windchill_f': 52.8, 'heatindex_c': 12.3, 'heatindex_f': 54.1, 'dewpoint_c': 11.4, 'dewpoint_f': 52.5, 'will_it_rain': 1, 'chance_of_rain': 100, 'will_it_snow': 0, 'chance_of_snow': 0, 'vis_km': 0.0, 'vis_miles': 0.0, 'gust_mph': 11.7, 'gust_kph': 18.9, 'uv': 3.0}, {'time_epoch': 1742223600, 'time': '2025-03-17 11:00', 'temp_c': 13.5, 'temp_f': 56.3, 'is_day': 1, 'condition': {'text': 'Overcast', 'icon': '//cdn.weatherapi.com/weather/64x64/day/122.png', 'code': 1009}, 'wind_mph': 7.8, 'wind_kph': 12.6, 'wind_degree': 152, 'wind_dir': 'SSE', 'pressure_mb': 1010.0, 'pressure_in': 29.84, 'precip_mm': 0.0, 'precip_in': 0.0, 'snow_cm': 0.0, 'humidity': 92, 'cloud': 100, 'feelslike_c': 12.5, 'feelslike_f': 54.5, 'windchill_c': 12.5, 'windchill_f': 54.5, 'heatindex_c': 13.5, 'heatindex_f': 56.3, 'dewpoint_c': 12.0, 'dewpoint_f': 53.7, 'will_it_rain': 0, 'chance_of_rain': 0, 'will_it_snow': 0, 'chance_of_snow': 0, 'vis_km': 10.0, 'vis_miles': 6.0, 'gust_mph': 16.0, 'gust_kph': 25.7, 'uv': 3.0}, {'time_epoch': 1742227200, 'time': '2025-03-17 12:00', 'temp_c': 13.1, 'temp_f': 55.6, 'is_day': 1, 'condition': {'text': 'Overcast', 'icon': '//cdn.weatherapi.com/weather/64x64/day/122.png', 'code': 1009}, 'wind_mph': 7.8, 'wind_kph': 12.6, 'wind_degree': 166, 'wind_dir': 'SSE', 'pressure_mb': 1011.0, 'pressure_in': 29.87, 'precip_mm': 0.0, 'precip_in': 0.0, 'snow_cm': 0.0, 'humidity': 92, 'cloud': 100, 'feelslike_c': 12.0, 'feelslike_f': 53.6, 'windchill_c': 12.0, 'windchill_f': 53.6, 'heatindex_c': 13.1, 'heatindex_f': 55.6, 'dewpoint_c': 11.2, 'dewpoint_f': 52.1, 'will_it_rain': 0, 'chance_of_rain': 0, 'will_it_snow': 0, 'chance_of_snow': 0, 'vis_km': 2.0, 'vis_miles': 1.0, 'gust_mph': 15.5, 'gust_kph': 25.0, 'uv': 3.0}, {'time_epoch': 1742230800, 'time': '2025-03-17 13:00', 'temp_c': 13.3, 'temp_f': 55.9, 'is_day': 1, 'condition': {'text': 'Overcast', 'icon': '//cdn.weatherapi.com/weather/64x64/day/122.png', 'code': 1009}, 'wind_mph': 6.3, 'wind_kph': 10.2, 'wind_degree': 234, 'wind_dir': 'SW', 'pressure_mb': 1011.0, 'pressure_in': 29.86, 'precip_mm': 0.0, 'precip_in': 0.0, 'snow_cm': 0.0, 'humidity': 92, 'cloud': 100, 'feelslike_c': 12.5, 'feelslike_f': 54.5, 'windchill_c': 12.5, 'windchill_f': 54.5, 'heatindex_c': 13.3, 'heatindex_f': 55.9, 'dewpoint_c': 9.8, 'dewpoint_f': 49.7, 'will_it_rain': 0, 'chance_of_rain': 0, 'will_it_snow': 0, 'chance_of_snow': 0, 'vis_km': 10.0, 'vis_miles': 6.0, 'gust_mph': 17.7, 'gust_kph': 28.6, 'uv': 3.0}, {'time_epoch': 1742234400, 'time': '2025-03-17 14:00', 'temp_c': 12.3, 'temp_f': 54.1, 'is_day': 1, 'condition': {'text': 'Overcast', 'icon': '//cdn.weatherapi.com/weather/64x64/day/122.png', 'code': 1009}, 'wind_mph': 13.0, 'wind_kph': 20.9, 'wind_degree': 328, 'wind_dir': 'NNW', 'pressure_mb': 1011.0, 'pressure_in': 29.86, 'precip_mm': 0.0, 'precip_in': 0.0, 'snow_cm': 0.0, 'humidity': 92, 'cloud': 100, 'feelslike_c': 10.2, 'feelslike_f': 50.3, 'windchill_c': 10.2, 'windchill_f': 50.3, 'heatindex_c': 12.3, 'heatindex_f': 54.1, 'dewpoint_c': 8.3, 'dewpoint_f': 46.9, 'will_it_rain': 0, 'chance_of_rain': 0, 'will_it_snow': 0, 'chance_of_snow': 0, 'vis_km': 9.0, 'vis_miles': 5.0, 'gust_mph': 25.1, 'gust_kph': 40.5, 'uv': 3.0}, {'time_epoch': 1742238000, 'time': '2025-03-17 15:00', 'temp_c': 11.3, 'temp_f': 52.3, 'is_day': 1, 'condition': {'text': 'Overcast', 'icon': '//cdn.weatherapi.com/weather/64x64/day/122.png', 'code': 1009}, 'wind_mph': 14.1, 'wind_kph': 22.7, 'wind_degree': 348, 'wind_dir': 'NNW', 'pressure_mb': 1011.0, 'pressure_in': 29.87, 'precip_mm': 0.0, 'precip_in': 0.0, 'snow_cm': 0.0, 'humidity': 90, 'cloud': 100, 'feelslike_c': 8.8, 'feelslike_f': 47.8, 'windchill_c': 8.8, 'windchill_f': 47.8, 'heatindex_c': 11.3, 'heatindex_f': 52.3, 'dewpoint_c': 6.1, 'dewpoint_f': 43.0, 'will_it_rain': 0, 'chance_of_rain': 0, 'will_it_snow': 0, 'chance_of_snow': 0, 'vis_km': 2.0, 'vis_miles': 1.0, 'gust_mph': 25.3, 'gust_kph': 40.6, 'uv': 3.0}, {'time_epoch': 1742241600, 'time': '2025-03-17 16:00', 'temp_c': 10.9, 'temp_f': 51.7, 'is_day': 1, 'condition': {'text': 'Overcast', 'icon': '//cdn.weatherapi.com/weather/64x64/day/122.png', 'code': 1009}, 'wind_mph': 12.3, 'wind_kph': 19.8, 'wind_degree': 344, 'wind_dir': 'NNW', 'pressure_mb': 1012.0, 'pressure_in': 29.87, 'precip_mm': 0.0, 'precip_in': 0.0, 'snow_cm': 0.0, 'humidity': 89, 'cloud': 100, 'feelslike_c': 8.6, 'feelslike_f': 47.5, 'windchill_c': 8.6, 'windchill_f': 47.5, 'heatindex_c': 10.9, 'heatindex_f': 51.7, 'dewpoint_c': 4.6, 'dewpoint_f': 40.3, 'will_it_rain': 0, 'chance_of_rain': 0, 'will_it_snow': 0, 'chance_of_snow': 0, 'vis_km': 10.0, 'vis_miles': 6.0, 'gust_mph': 22.4, 'gust_kph': 36.0, 'uv': 3.0}, {'time_epoch': 1742245200, 'time': '2025-03-17 17:00', 'temp_c': 9.7, 'temp_f': 49.5, 'is_day': 1, 'condition': {'text': 'Overcast', 'icon': '//cdn.weatherapi.com/weather/64x64/day/122.png', 'code': 1009}, 'wind_mph': 14.3, 'wind_kph': 23.0, 'wind_degree': 340, 'wind_dir': 'NNW', 'pressure_mb': 1012.0, 'pressure_in': 29.88, 'precip_mm': 0.0, 'precip_in': 0.0, 'snow_cm': 0.0, 'humidity': 88, 'cloud': 100, 'feelslike_c': 6.8, 'feelslike_f': 44.2, 'windchill_c': 6.8, 'windchill_f': 44.2, 'heatindex_c': 9.7, 'heatindex_f': 49.5, 'dewpoint_c': 3.0, 'dewpoint_f': 37.4, 'will_it_rain': 0, 'chance_of_rain': 0, 'will_it_snow': 0, 'chance_of_snow': 0, 'vis_km': 10.0, 'vis_miles': 6.0, 'gust_mph': 25.3, 'gust_kph': 40.7, 'uv': 2.0}, {'time_epoch': 1742248800, 'time': '2025-03-17 18:00', 'temp_c': 8.9, 'temp_f': 48.0, 'is_day': 1, 'condition': {'text': 'Overcast', 'icon': '//cdn.weatherapi.com/weather/64x64/day/122.png', 'code': 1009}, 'wind_mph': 13.3, 'wind_kph': 21.3, 'wind_degree': 320, 'wind_dir': 'NW', 'pressure_mb': 1013.0, 'pressure_in': 29.92, 'precip_mm': 0.0, 'precip_in': 0.0, 'snow_cm': 0.0, 'humidity': 89, 'cloud': 100, 'feelslike_c': 5.8, 'feelslike_f': 42.5, 'windchill_c': 5.8, 'windchill_f': 42.5, 'heatindex_c': 8.9, 'heatindex_f': 48.0, 'dewpoint_c': 1.9, 'dewpoint_f': 35.4, 'will_it_rain': 0, 'chance_of_rain': 0, 'will_it_snow': 0, 'chance_of_snow': 0, 'vis_km': 10.0, 'vis_miles': 6.0, 'gust_mph': 26.0, 'gust_kph': 41.9, 'uv': 2.0}, {'time_epoch': 1742252400, 'time': '2025-03-17 19:00', 'temp_c': 7.7, 'temp_f': 45.8, 'is_day': 1, 'condition': {'text': 'Overcast', 'icon': '//cdn.weatherapi.com/weather/64x64/day/122.png', 'code': 1009}, 'wind_mph': 15.4, 'wind_kph': 24.8, 'wind_degree': 326, 'wind_dir': 'NNW', 'pressure_mb': 1014.0, 'pressure_in': 29.93, 'precip_mm': 0.0, 'precip_in': 0.0, 'snow_cm': 0.0, 'humidity': 90, 'cloud': 100, 'feelslike_c': 4.0, 'feelslike_f': 39.1, 'windchill_c': 4.0, 'windchill_f': 39.1, 'heatindex_c': 7.7, 'heatindex_f': 45.8, 'dewpoint_c': 1.3, 'dewpoint_f': 34.3, 'will_it_rain': 0, 'chance_of_rain': 0, 'will_it_snow': 0, 'chance_of_snow': 0, 'vis_km': 10.0, 'vis_miles': 6.0, 'gust_mph': 24.8, 'gust_kph': 39.9, 'uv': 2.0}, {'time_epoch': 1742256000, 'time': '2025-03-17 20:00', 'temp_c': 5.5, 'temp_f': 41.9, 'is_day': 0, 'condition': {'text': 'Overcast', 'icon': '//cdn.weatherapi.com/weather/64x64/night/122.png', 'code': 1009}, 'wind_mph': 15.2, 'wind_kph': 24.5, 'wind_degree': 334, 'wind_dir': 'NNW', 'pressure_mb': 1014.0, 'pressure_in': 29.95, 'precip_mm': 0.0, 'precip_in': 0.0, 'snow_cm': 0.0, 'humidity': 90, 'cloud': 100, 'feelslike_c': 1.2, 'feelslike_f': 34.2, 'windchill_c': 1.2, 'windchill_f': 34.2, 'heatindex_c': 5.5, 'heatindex_f': 41.9, 'dewpoint_c': 2.2, 'dewpoint_f': 35.9, 'will_it_rain': 0, 'chance_of_rain': 0, 'will_it_snow': 0, 'chance_of_snow': 0, 'vis_km': 10.0, 'vis_miles': 6.0, 'gust_mph': 24.6, 'gust_kph': 39.6, 'uv': 0.0}, {'time_epoch': 1742259600, 'time': '2025-03-17 21:00', 'temp_c': 5.0, 'temp_f': 41.0, 'is_day': 0, 'condition': {'text': 'Partly cloudy', 'icon': '//cdn.weatherapi.com/weather/64x64/night/116.png', 'code': 1003}, 'wind_mph': 13.6, 'wind_kph': 22.0, 'wind_degree': 330, 'wind_dir': 'NNW', 'pressure_mb': 1015.0, 'pressure_in': 29.97, 'precip_mm': 0.0, 'precip_in': 0.0, 'snow_cm': 0.0, 'humidity': 87, 'cloud': 58, 'feelslike_c': 0.8, 'feelslike_f': 33.5, 'windchill_c': 0.8, 'windchill_f': 33.5, 'heatindex_c': 5.0, 'heatindex_f': 41.0, 'dewpoint_c': 1.0, 'dewpoint_f': 33.7, 'will_it_rain': 0, 'chance_of_rain': 0, 'will_it_snow': 0, 'chance_of_snow': 0, 'vis_km': 10.0, 'vis_miles': 6.0, 'gust_mph': 19.6, 'gust_kph': 31.5, 'uv': 0.0}, {'time_epoch': 1742263200, 'time': '2025-03-17 22:00', 'temp_c': 6.4, 'temp_f': 43.5, 'is_day': 0, 'condition': {'text': 'Cloudy', 'icon': '//cdn.weatherapi.com/weather/64x64/night/119.png', 'code': 1006}, 'wind_mph': 13.4, 'wind_kph': 21.6, 'wind_degree': 325, 'wind_dir': 'NW', 'pressure_mb': 1016.0, 'pressure_in': 29.99, 'precip_mm': 0.0, 'precip_in': 0.0, 'snow_cm': 0.0, 'humidity': 85, 'cloud': 80, 'feelslike_c': 2.6, 'feelslike_f': 36.8, 'windchill_c': 2.6, 'windchill_f': 36.8, 'heatindex_c': 6.4, 'heatindex_f': 43.5, 'dewpoint_c': 1.0, 'dewpoint_f': 33.8, 'will_it_rain': 0, 'chance_of_rain': 0, 'will_it_snow': 0, 'chance_of_snow': 0, 'vis_km': 10.0, 'vis_miles': 6.0, 'gust_mph': 18.9, 'gust_kph': 30.5, 'uv': 0.0}, {'time_epoch': 1742266800, 'time': '2025-03-17 23:00', 'temp_c': 5.0, 'temp_f': 41.0, 'is_day': 0, 'condition': {'text': 'Overcast', 'icon': '//cdn.weatherapi.com/weather/64x64/night/122.png', 'code': 1009}, 'wind_mph': 14.3, 'wind_kph': 23.0, 'wind_degree': 326, 'wind_dir': 'NNW', 'pressure_mb': 1013.0, 'pressure_in': 29.92, 'precip_mm': 0.0, 'precip_in': 0.0, 'snow_cm': 0.0, 'humidity': 97, 'cloud': 100, 'feelslike_c': 0.7, 'feelslike_f': 33.3, 'windchill_c': 0.7, 'windchill_f': 33.3, 'heatindex_c': 5.0, 'heatindex_f': 41.0, 'dewpoint_c': 11.1, 'dewpoint_f': 51.9, 'will_it_rain': 0, 'chance_of_rain': 0, 'will_it_snow': 0, 'chance_of_snow': 0, 'vis_km': 10.0, 'vis_miles': 6.0, 'gust_mph': 19.8, 'gust_kph': 31.9, 'uv': 0.0}]}]}}\n",
      "Moderate or heavy rain shower\n",
      "RAINY\n",
      "UNKNOWN, UNHEALTHY_CONSUMPTION, GOOD_SLEEP, GOOD_HEART_RATE, POOR_BLOOD_PRESSURE,  HIGH_STRESS , HIGH_SOCIAL\n",
      "Emotion Classification Result:\n",
      "  Went out for a long jog, good weather, it was great\n",
      "  Superclass: Positive\n",
      "  Sub-emotion: admiration (0.709)\n"
     ]
    },
    {
     "name": "stderr",
     "output_type": "stream",
     "text": [
      "Setting `pad_token_id` to `eos_token_id`:2 for open-end generation.\n"
     ]
    },
    {
     "name": "stdout",
     "output_type": "stream",
     "text": [
      "{'location': {'name': 'Brooklyn', 'region': 'New York', 'country': 'United States of America', 'lat': 40.65, 'lon': -73.95, 'tz_id': 'America/New_York', 'localtime_epoch': 1745730294, 'localtime': '2025-04-27 01:04'}, 'forecast': {'forecastday': [{'date': '2025-03-18', 'date_epoch': 1742256000, 'day': {'maxtemp_c': 15.0, 'maxtemp_f': 59.1, 'mintemp_c': 0.9, 'mintemp_f': 33.6, 'avgtemp_c': 7.4, 'avgtemp_f': 45.3, 'maxwind_mph': 14.8, 'maxwind_kph': 23.8, 'totalprecip_mm': 0.0, 'totalprecip_in': 0.0, 'totalsnow_cm': 0.0, 'avgvis_km': 10.0, 'avgvis_miles': 6.0, 'avghumidity': 58, 'daily_will_it_rain': 0, 'daily_chance_of_rain': 0, 'daily_will_it_snow': 0, 'daily_chance_of_snow': 0, 'condition': {'text': 'Sunny', 'icon': '//cdn.weatherapi.com/weather/64x64/day/113.png', 'code': 1000}, 'uv': 5.0}, 'astro': {'sunrise': '07:02 AM', 'sunset': '07:06 PM', 'moonrise': '11:44 PM', 'moonset': '08:40 AM', 'moon_phase': 'Waning Gibbous', 'moon_illumination': 87}, 'hour': [{'time_epoch': 1742270400, 'time': '2025-03-18 00:00', 'temp_c': 3.5, 'temp_f': 38.3, 'is_day': 0, 'condition': {'text': 'Cloudy', 'icon': '//cdn.weatherapi.com/weather/64x64/night/119.png', 'code': 1006}, 'wind_mph': 12.5, 'wind_kph': 20.1, 'wind_degree': 327, 'wind_dir': 'NNW', 'pressure_mb': 1015.0, 'pressure_in': 29.98, 'precip_mm': 0.0, 'precip_in': 0.0, 'snow_cm': 0.0, 'humidity': 76, 'cloud': 64, 'feelslike_c': -0.8, 'feelslike_f': 30.5, 'windchill_c': -0.8, 'windchill_f': 30.5, 'heatindex_c': 3.5, 'heatindex_f': 38.3, 'dewpoint_c': -0.9, 'dewpoint_f': 30.5, 'will_it_rain': 0, 'chance_of_rain': 0, 'will_it_snow': 0, 'chance_of_snow': 0, 'vis_km': 10.0, 'vis_miles': 6.0, 'gust_mph': 20.0, 'gust_kph': 32.2, 'uv': 0.0}, {'time_epoch': 1742274000, 'time': '2025-03-18 01:00', 'temp_c': 2.7, 'temp_f': 36.8, 'is_day': 0, 'condition': {'text': 'Cloudy', 'icon': '//cdn.weatherapi.com/weather/64x64/night/119.png', 'code': 1006}, 'wind_mph': 13.2, 'wind_kph': 21.3, 'wind_degree': 327, 'wind_dir': 'NNW', 'pressure_mb': 1016.0, 'pressure_in': 29.99, 'precip_mm': 0.0, 'precip_in': 0.0, 'snow_cm': 0.0, 'humidity': 77, 'cloud': 82, 'feelslike_c': -2.1, 'feelslike_f': 28.3, 'windchill_c': -2.1, 'windchill_f': 28.3, 'heatindex_c': 2.7, 'heatindex_f': 36.8, 'dewpoint_c': -1.3, 'dewpoint_f': 29.7, 'will_it_rain': 0, 'chance_of_rain': 0, 'will_it_snow': 0, 'chance_of_snow': 0, 'vis_km': 10.0, 'vis_miles': 6.0, 'gust_mph': 21.0, 'gust_kph': 33.9, 'uv': 0.0}, {'time_epoch': 1742277600, 'time': '2025-03-18 02:00', 'temp_c': 2.0, 'temp_f': 35.6, 'is_day': 0, 'condition': {'text': 'Overcast', 'icon': '//cdn.weatherapi.com/weather/64x64/night/122.png', 'code': 1009}, 'wind_mph': 14.8, 'wind_kph': 23.8, 'wind_degree': 331, 'wind_dir': 'NNW', 'pressure_mb': 1016.0, 'pressure_in': 30.0, 'precip_mm': 0.0, 'precip_in': 0.0, 'snow_cm': 0.0, 'humidity': 78, 'cloud': 100, 'feelslike_c': -3.2, 'feelslike_f': 26.3, 'windchill_c': -3.2, 'windchill_f': 26.3, 'heatindex_c': 2.0, 'heatindex_f': 35.6, 'dewpoint_c': -1.7, 'dewpoint_f': 29.0, 'will_it_rain': 0, 'chance_of_rain': 0, 'will_it_snow': 0, 'chance_of_snow': 0, 'vis_km': 10.0, 'vis_miles': 6.0, 'gust_mph': 20.0, 'gust_kph': 32.1, 'uv': 0.0}, {'time_epoch': 1742281200, 'time': '2025-03-18 03:00', 'temp_c': 1.6, 'temp_f': 34.8, 'is_day': 0, 'condition': {'text': 'Cloudy', 'icon': '//cdn.weatherapi.com/weather/64x64/night/119.png', 'code': 1006}, 'wind_mph': 14.3, 'wind_kph': 23.0, 'wind_degree': 335, 'wind_dir': 'NNW', 'pressure_mb': 1017.0, 'pressure_in': 30.02, 'precip_mm': 0.0, 'precip_in': 0.0, 'snow_cm': 0.0, 'humidity': 78, 'cloud': 61, 'feelslike_c': -3.7, 'feelslike_f': 25.4, 'windchill_c': -3.7, 'windchill_f': 25.4, 'heatindex_c': 1.6, 'heatindex_f': 34.8, 'dewpoint_c': -2.1, 'dewpoint_f': 28.3, 'will_it_rain': 0, 'chance_of_rain': 0, 'will_it_snow': 0, 'chance_of_snow': 0, 'vis_km': 10.0, 'vis_miles': 6.0, 'gust_mph': 21.7, 'gust_kph': 35.0, 'uv': 0.0}, {'time_epoch': 1742284800, 'time': '2025-03-18 04:00', 'temp_c': 1.2, 'temp_f': 34.2, 'is_day': 0, 'condition': {'text': 'Partly cloudy', 'icon': '//cdn.weatherapi.com/weather/64x64/night/116.png', 'code': 1003}, 'wind_mph': 13.0, 'wind_kph': 20.9, 'wind_degree': 334, 'wind_dir': 'NNW', 'pressure_mb': 1017.0, 'pressure_in': 30.03, 'precip_mm': 0.0, 'precip_in': 0.0, 'snow_cm': 0.0, 'humidity': 78, 'cloud': 42, 'feelslike_c': -3.8, 'feelslike_f': 25.1, 'windchill_c': -3.8, 'windchill_f': 25.1, 'heatindex_c': 1.2, 'heatindex_f': 34.2, 'dewpoint_c': -2.3, 'dewpoint_f': 27.9, 'will_it_rain': 0, 'chance_of_rain': 0, 'will_it_snow': 0, 'chance_of_snow': 0, 'vis_km': 10.0, 'vis_miles': 6.0, 'gust_mph': 20.3, 'gust_kph': 32.7, 'uv': 0.0}, {'time_epoch': 1742288400, 'time': '2025-03-18 05:00', 'temp_c': 1.0, 'temp_f': 33.9, 'is_day': 0, 'condition': {'text': 'Clear', 'icon': '//cdn.weatherapi.com/weather/64x64/night/113.png', 'code': 1000}, 'wind_mph': 12.5, 'wind_kph': 20.2, 'wind_degree': 335, 'wind_dir': 'NNW', 'pressure_mb': 1017.0, 'pressure_in': 30.04, 'precip_mm': 0.0, 'precip_in': 0.0, 'snow_cm': 0.0, 'humidity': 78, 'cloud': 23, 'feelslike_c': -4.0, 'feelslike_f': 24.9, 'windchill_c': -4.0, 'windchill_f': 24.9, 'heatindex_c': 1.0, 'heatindex_f': 33.9, 'dewpoint_c': -2.5, 'dewpoint_f': 27.6, 'will_it_rain': 0, 'chance_of_rain': 0, 'will_it_snow': 0, 'chance_of_snow': 0, 'vis_km': 10.0, 'vis_miles': 6.0, 'gust_mph': 20.1, 'gust_kph': 32.3, 'uv': 0.0}, {'time_epoch': 1742292000, 'time': '2025-03-18 06:00', 'temp_c': 0.9, 'temp_f': 33.7, 'is_day': 0, 'condition': {'text': 'Clear', 'icon': '//cdn.weatherapi.com/weather/64x64/night/113.png', 'code': 1000}, 'wind_mph': 11.6, 'wind_kph': 18.7, 'wind_degree': 328, 'wind_dir': 'NNW', 'pressure_mb': 1018.0, 'pressure_in': 30.07, 'precip_mm': 0.0, 'precip_in': 0.0, 'snow_cm': 0.0, 'humidity': 76, 'cloud': 11, 'feelslike_c': -3.9, 'feelslike_f': 25.0, 'windchill_c': -3.9, 'windchill_f': 25.0, 'heatindex_c': 0.9, 'heatindex_f': 33.7, 'dewpoint_c': -2.9, 'dewpoint_f': 26.8, 'will_it_rain': 0, 'chance_of_rain': 0, 'will_it_snow': 0, 'chance_of_snow': 0, 'vis_km': 10.0, 'vis_miles': 6.0, 'gust_mph': 19.5, 'gust_kph': 31.4, 'uv': 0.0}, {'time_epoch': 1742295600, 'time': '2025-03-18 07:00', 'temp_c': 0.9, 'temp_f': 33.6, 'is_day': 0, 'condition': {'text': 'Clear', 'icon': '//cdn.weatherapi.com/weather/64x64/night/113.png', 'code': 1000}, 'wind_mph': 13.0, 'wind_kph': 20.9, 'wind_degree': 327, 'wind_dir': 'NNW', 'pressure_mb': 1019.0, 'pressure_in': 30.08, 'precip_mm': 0.0, 'precip_in': 0.0, 'snow_cm': 0.0, 'humidity': 75, 'cloud': 6, 'feelslike_c': -4.3, 'feelslike_f': 24.3, 'windchill_c': -4.3, 'windchill_f': 24.3, 'heatindex_c': 0.9, 'heatindex_f': 33.6, 'dewpoint_c': -3.1, 'dewpoint_f': 26.4, 'will_it_rain': 0, 'chance_of_rain': 0, 'will_it_snow': 0, 'chance_of_snow': 0, 'vis_km': 10.0, 'vis_miles': 6.0, 'gust_mph': 17.6, 'gust_kph': 28.4, 'uv': 0.0}, {'time_epoch': 1742299200, 'time': '2025-03-18 08:00', 'temp_c': 2.1, 'temp_f': 35.8, 'is_day': 1, 'condition': {'text': 'Sunny', 'icon': '//cdn.weatherapi.com/weather/64x64/day/113.png', 'code': 1000}, 'wind_mph': 12.5, 'wind_kph': 20.2, 'wind_degree': 335, 'wind_dir': 'NNW', 'pressure_mb': 1019.0, 'pressure_in': 30.09, 'precip_mm': 0.0, 'precip_in': 0.0, 'snow_cm': 0.0, 'humidity': 74, 'cloud': 0, 'feelslike_c': -2.6, 'feelslike_f': 27.4, 'windchill_c': -2.6, 'windchill_f': 27.4, 'heatindex_c': 2.1, 'heatindex_f': 35.8, 'dewpoint_c': -3.3, 'dewpoint_f': 26.0, 'will_it_rain': 0, 'chance_of_rain': 0, 'will_it_snow': 0, 'chance_of_snow': 0, 'vis_km': 10.0, 'vis_miles': 6.0, 'gust_mph': 19.2, 'gust_kph': 30.9, 'uv': 2.0}, {'time_epoch': 1742302800, 'time': '2025-03-18 09:00', 'temp_c': 3.4, 'temp_f': 38.1, 'is_day': 1, 'condition': {'text': 'Sunny', 'icon': '//cdn.weatherapi.com/weather/64x64/day/113.png', 'code': 1000}, 'wind_mph': 10.7, 'wind_kph': 17.3, 'wind_degree': 346, 'wind_dir': 'NNW', 'pressure_mb': 1019.0, 'pressure_in': 30.1, 'precip_mm': 0.0, 'precip_in': 0.0, 'snow_cm': 0.0, 'humidity': 62, 'cloud': 1, 'feelslike_c': -0.6, 'feelslike_f': 31.0, 'windchill_c': -0.6, 'windchill_f': 31.0, 'heatindex_c': 3.4, 'heatindex_f': 38.1, 'dewpoint_c': -3.5, 'dewpoint_f': 25.7, 'will_it_rain': 0, 'chance_of_rain': 0, 'will_it_snow': 0, 'chance_of_snow': 0, 'vis_km': 10.0, 'vis_miles': 6.0, 'gust_mph': 22.3, 'gust_kph': 35.9, 'uv': 2.0}, {'time_epoch': 1742306400, 'time': '2025-03-18 10:00', 'temp_c': 4.7, 'temp_f': 40.5, 'is_day': 1, 'condition': {'text': 'Sunny', 'icon': '//cdn.weatherapi.com/weather/64x64/day/113.png', 'code': 1000}, 'wind_mph': 9.6, 'wind_kph': 15.5, 'wind_degree': 344, 'wind_dir': 'NNW', 'pressure_mb': 1019.0, 'pressure_in': 30.1, 'precip_mm': 0.0, 'precip_in': 0.0, 'snow_cm': 0.0, 'humidity': 56, 'cloud': 2, 'feelslike_c': 1.3, 'feelslike_f': 34.4, 'windchill_c': 1.3, 'windchill_f': 34.4, 'heatindex_c': 4.7, 'heatindex_f': 40.5, 'dewpoint_c': -3.6, 'dewpoint_f': 25.6, 'will_it_rain': 0, 'chance_of_rain': 0, 'will_it_snow': 0, 'chance_of_snow': 0, 'vis_km': 10.0, 'vis_miles': 6.0, 'gust_mph': 23.0, 'gust_kph': 37.0, 'uv': 2.0}, {'time_epoch': 1742310000, 'time': '2025-03-18 11:00', 'temp_c': 7.3, 'temp_f': 45.1, 'is_day': 1, 'condition': {'text': 'Sunny', 'icon': '//cdn.weatherapi.com/weather/64x64/day/113.png', 'code': 1000}, 'wind_mph': 8.9, 'wind_kph': 14.4, 'wind_degree': 342, 'wind_dir': 'NNW', 'pressure_mb': 1019.0, 'pressure_in': 30.1, 'precip_mm': 0.0, 'precip_in': 0.0, 'snow_cm': 0.0, 'humidity': 50, 'cloud': 2, 'feelslike_c': 4.6, 'feelslike_f': 40.4, 'windchill_c': 4.6, 'windchill_f': 40.4, 'heatindex_c': 7.3, 'heatindex_f': 45.1, 'dewpoint_c': -3.7, 'dewpoint_f': 25.4, 'will_it_rain': 0, 'chance_of_rain': 0, 'will_it_snow': 0, 'chance_of_snow': 0, 'vis_km': 10.0, 'vis_miles': 6.0, 'gust_mph': 22.1, 'gust_kph': 35.6, 'uv': 3.0}, {'time_epoch': 1742313600, 'time': '2025-03-18 12:00', 'temp_c': 9.5, 'temp_f': 49.1, 'is_day': 1, 'condition': {'text': 'Sunny', 'icon': '//cdn.weatherapi.com/weather/64x64/day/113.png', 'code': 1000}, 'wind_mph': 7.4, 'wind_kph': 11.9, 'wind_degree': 335, 'wind_dir': 'NNW', 'pressure_mb': 1019.0, 'pressure_in': 30.08, 'precip_mm': 0.0, 'precip_in': 0.0, 'snow_cm': 0.0, 'humidity': 44, 'cloud': 1, 'feelslike_c': 7.8, 'feelslike_f': 46.0, 'windchill_c': 7.8, 'windchill_f': 46.0, 'heatindex_c': 9.5, 'heatindex_f': 49.1, 'dewpoint_c': -1.8, 'dewpoint_f': 28.7, 'will_it_rain': 0, 'chance_of_rain': 0, 'will_it_snow': 0, 'chance_of_snow': 0, 'vis_km': 10.0, 'vis_miles': 6.0, 'gust_mph': 21.0, 'gust_kph': 33.8, 'uv': 3.0}, {'time_epoch': 1742317200, 'time': '2025-03-18 13:00', 'temp_c': 11.6, 'temp_f': 52.9, 'is_day': 1, 'condition': {'text': 'Sunny', 'icon': '//cdn.weatherapi.com/weather/64x64/day/113.png', 'code': 1000}, 'wind_mph': 4.9, 'wind_kph': 7.9, 'wind_degree': 328, 'wind_dir': 'NNW', 'pressure_mb': 1019.0, 'pressure_in': 30.08, 'precip_mm': 0.0, 'precip_in': 0.0, 'snow_cm': 0.0, 'humidity': 42, 'cloud': 1, 'feelslike_c': 10.9, 'feelslike_f': 51.7, 'windchill_c': 10.9, 'windchill_f': 51.7, 'heatindex_c': 11.6, 'heatindex_f': 52.9, 'dewpoint_c': -0.9, 'dewpoint_f': 30.3, 'will_it_rain': 0, 'chance_of_rain': 0, 'will_it_snow': 0, 'chance_of_snow': 0, 'vis_km': 10.0, 'vis_miles': 6.0, 'gust_mph': 18.3, 'gust_kph': 29.5, 'uv': 4.0}, {'time_epoch': 1742320800, 'time': '2025-03-18 14:00', 'temp_c': 13.4, 'temp_f': 56.0, 'is_day': 1, 'condition': {'text': 'Sunny', 'icon': '//cdn.weatherapi.com/weather/64x64/day/113.png', 'code': 1000}, 'wind_mph': 3.6, 'wind_kph': 5.8, 'wind_degree': 292, 'wind_dir': 'WNW', 'pressure_mb': 1018.0, 'pressure_in': 30.07, 'precip_mm': 0.0, 'precip_in': 0.0, 'snow_cm': 0.0, 'humidity': 39, 'cloud': 0, 'feelslike_c': 13.4, 'feelslike_f': 56.1, 'windchill_c': 13.4, 'windchill_f': 56.1, 'heatindex_c': 13.4, 'heatindex_f': 56.0, 'dewpoint_c': -0.0, 'dewpoint_f': 32.0, 'will_it_rain': 0, 'chance_of_rain': 0, 'will_it_snow': 0, 'chance_of_snow': 0, 'vis_km': 10.0, 'vis_miles': 6.0, 'gust_mph': 16.8, 'gust_kph': 27.0, 'uv': 4.0}, {'time_epoch': 1742324400, 'time': '2025-03-18 15:00', 'temp_c': 14.6, 'temp_f': 58.2, 'is_day': 1, 'condition': {'text': 'Sunny', 'icon': '//cdn.weatherapi.com/weather/64x64/day/113.png', 'code': 1000}, 'wind_mph': 3.4, 'wind_kph': 5.4, 'wind_degree': 261, 'wind_dir': 'W', 'pressure_mb': 1018.0, 'pressure_in': 30.05, 'precip_mm': 0.0, 'precip_in': 0.0, 'snow_cm': 0.0, 'humidity': 37, 'cloud': 0, 'feelslike_c': 14.9, 'feelslike_f': 58.7, 'windchill_c': 14.9, 'windchill_f': 58.7, 'heatindex_c': 14.6, 'heatindex_f': 58.2, 'dewpoint_c': 0.5, 'dewpoint_f': 32.9, 'will_it_rain': 0, 'chance_of_rain': 0, 'will_it_snow': 0, 'chance_of_snow': 0, 'vis_km': 10.0, 'vis_miles': 6.0, 'gust_mph': 13.1, 'gust_kph': 21.1, 'uv': 4.0}, {'time_epoch': 1742328000, 'time': '2025-03-18 16:00', 'temp_c': 14.4, 'temp_f': 58.0, 'is_day': 1, 'condition': {'text': 'Sunny', 'icon': '//cdn.weatherapi.com/weather/64x64/day/113.png', 'code': 1000}, 'wind_mph': 2.9, 'wind_kph': 4.7, 'wind_degree': 247, 'wind_dir': 'WSW', 'pressure_mb': 1017.0, 'pressure_in': 30.04, 'precip_mm': 0.0, 'precip_in': 0.0, 'snow_cm': 0.0, 'humidity': 36, 'cloud': 0, 'feelslike_c': 14.9, 'feelslike_f': 58.7, 'windchill_c': 14.9, 'windchill_f': 58.7, 'heatindex_c': 14.4, 'heatindex_f': 58.0, 'dewpoint_c': 0.8, 'dewpoint_f': 33.4, 'will_it_rain': 0, 'chance_of_rain': 0, 'will_it_snow': 0, 'chance_of_snow': 0, 'vis_km': 10.0, 'vis_miles': 6.0, 'gust_mph': 8.3, 'gust_kph': 13.4, 'uv': 4.0}, {'time_epoch': 1742331600, 'time': '2025-03-18 17:00', 'temp_c': 15.0, 'temp_f': 59.1, 'is_day': 1, 'condition': {'text': 'Sunny', 'icon': '//cdn.weatherapi.com/weather/64x64/day/113.png', 'code': 1000}, 'wind_mph': 3.1, 'wind_kph': 5.0, 'wind_degree': 228, 'wind_dir': 'SW', 'pressure_mb': 1017.0, 'pressure_in': 30.02, 'precip_mm': 0.0, 'precip_in': 0.0, 'snow_cm': 0.0, 'humidity': 35, 'cloud': 0, 'feelslike_c': 15.0, 'feelslike_f': 59.1, 'windchill_c': 15.0, 'windchill_f': 59.1, 'heatindex_c': 15.0, 'heatindex_f': 59.1, 'dewpoint_c': 1.0, 'dewpoint_f': 33.9, 'will_it_rain': 0, 'chance_of_rain': 0, 'will_it_snow': 0, 'chance_of_snow': 0, 'vis_km': 10.0, 'vis_miles': 6.0, 'gust_mph': 5.5, 'gust_kph': 8.9, 'uv': 5.0}, {'time_epoch': 1742335200, 'time': '2025-03-18 18:00', 'temp_c': 14.3, 'temp_f': 57.8, 'is_day': 1, 'condition': {'text': 'Sunny', 'icon': '//cdn.weatherapi.com/weather/64x64/day/113.png', 'code': 1000}, 'wind_mph': 2.7, 'wind_kph': 4.3, 'wind_degree': 211, 'wind_dir': 'SSW', 'pressure_mb': 1017.0, 'pressure_in': 30.04, 'precip_mm': 0.0, 'precip_in': 0.0, 'snow_cm': 0.0, 'humidity': 40, 'cloud': 0, 'feelslike_c': 14.8, 'feelslike_f': 58.7, 'windchill_c': 14.8, 'windchill_f': 58.7, 'heatindex_c': 14.3, 'heatindex_f': 57.8, 'dewpoint_c': 1.1, 'dewpoint_f': 34.0, 'will_it_rain': 0, 'chance_of_rain': 0, 'will_it_snow': 0, 'chance_of_snow': 0, 'vis_km': 10.0, 'vis_miles': 6.0, 'gust_mph': 5.0, 'gust_kph': 8.0, 'uv': 4.0}, {'time_epoch': 1742338800, 'time': '2025-03-18 19:00', 'temp_c': 13.5, 'temp_f': 56.2, 'is_day': 1, 'condition': {'text': 'Sunny', 'icon': '//cdn.weatherapi.com/weather/64x64/day/113.png', 'code': 1000}, 'wind_mph': 2.9, 'wind_kph': 4.7, 'wind_degree': 190, 'wind_dir': 'S', 'pressure_mb': 1018.0, 'pressure_in': 30.05, 'precip_mm': 0.0, 'precip_in': 0.0, 'snow_cm': 0.0, 'humidity': 43, 'cloud': 0, 'feelslike_c': 13.8, 'feelslike_f': 56.8, 'windchill_c': 13.8, 'windchill_f': 56.8, 'heatindex_c': 13.5, 'heatindex_f': 56.2, 'dewpoint_c': 1.1, 'dewpoint_f': 34.0, 'will_it_rain': 0, 'chance_of_rain': 0, 'will_it_snow': 0, 'chance_of_snow': 0, 'vis_km': 10.0, 'vis_miles': 6.0, 'gust_mph': 6.1, 'gust_kph': 9.8, 'uv': 4.0}, {'time_epoch': 1742342400, 'time': '2025-03-18 20:00', 'temp_c': 12.6, 'temp_f': 54.7, 'is_day': 0, 'condition': {'text': 'Clear', 'icon': '//cdn.weatherapi.com/weather/64x64/night/113.png', 'code': 1000}, 'wind_mph': 3.4, 'wind_kph': 5.4, 'wind_degree': 199, 'wind_dir': 'SSW', 'pressure_mb': 1018.0, 'pressure_in': 30.06, 'precip_mm': 0.0, 'precip_in': 0.0, 'snow_cm': 0.0, 'humidity': 45, 'cloud': 0, 'feelslike_c': 12.6, 'feelslike_f': 54.7, 'windchill_c': 12.6, 'windchill_f': 54.7, 'heatindex_c': 12.6, 'heatindex_f': 54.7, 'dewpoint_c': 1.1, 'dewpoint_f': 34.1, 'will_it_rain': 0, 'chance_of_rain': 0, 'will_it_snow': 0, 'chance_of_snow': 0, 'vis_km': 10.0, 'vis_miles': 6.0, 'gust_mph': 7.0, 'gust_kph': 11.3, 'uv': 0.0}, {'time_epoch': 1742346000, 'time': '2025-03-18 21:00', 'temp_c': 10.7, 'temp_f': 51.2, 'is_day': 0, 'condition': {'text': 'Clear', 'icon': '//cdn.weatherapi.com/weather/64x64/night/113.png', 'code': 1000}, 'wind_mph': 2.5, 'wind_kph': 4.0, 'wind_degree': 237, 'wind_dir': 'WSW', 'pressure_mb': 1018.0, 'pressure_in': 30.07, 'precip_mm': 0.0, 'precip_in': 0.0, 'snow_cm': 0.0, 'humidity': 52, 'cloud': 0, 'feelslike_c': 10.9, 'feelslike_f': 51.6, 'windchill_c': 10.9, 'windchill_f': 51.6, 'heatindex_c': 10.7, 'heatindex_f': 51.2, 'dewpoint_c': 2.8, 'dewpoint_f': 37.0, 'will_it_rain': 0, 'chance_of_rain': 0, 'will_it_snow': 0, 'chance_of_snow': 0, 'vis_km': 10.0, 'vis_miles': 6.0, 'gust_mph': 5.2, 'gust_kph': 8.3, 'uv': 0.0}, {'time_epoch': 1742349600, 'time': '2025-03-18 22:00', 'temp_c': 8.0, 'temp_f': 46.5, 'is_day': 0, 'condition': {'text': 'Clear', 'icon': '//cdn.weatherapi.com/weather/64x64/night/113.png', 'code': 1000}, 'wind_mph': 2.5, 'wind_kph': 4.0, 'wind_degree': 303, 'wind_dir': 'WNW', 'pressure_mb': 1019.0, 'pressure_in': 30.08, 'precip_mm': 0.0, 'precip_in': 0.0, 'snow_cm': 0.0, 'humidity': 55, 'cloud': 0, 'feelslike_c': 7.9, 'feelslike_f': 46.2, 'windchill_c': 7.9, 'windchill_f': 46.2, 'heatindex_c': 8.0, 'heatindex_f': 46.5, 'dewpoint_c': 2.5, 'dewpoint_f': 36.4, 'will_it_rain': 0, 'chance_of_rain': 0, 'will_it_snow': 0, 'chance_of_snow': 0, 'vis_km': 10.0, 'vis_miles': 6.0, 'gust_mph': 5.2, 'gust_kph': 8.3, 'uv': 0.0}, {'time_epoch': 1742353200, 'time': '2025-03-18 23:00', 'temp_c': 8.9, 'temp_f': 48.0, 'is_day': 0, 'condition': {'text': 'Partly cloudy', 'icon': '//cdn.weatherapi.com/weather/64x64/night/116.png', 'code': 1003}, 'wind_mph': 2.2, 'wind_kph': 3.6, 'wind_degree': 315, 'wind_dir': 'NW', 'pressure_mb': 1016.0, 'pressure_in': 30.02, 'precip_mm': 0.0, 'precip_in': 0.0, 'snow_cm': 0.0, 'humidity': 74, 'cloud': 28, 'feelslike_c': 9.0, 'feelslike_f': 48.2, 'windchill_c': 9.0, 'windchill_f': 48.2, 'heatindex_c': 8.9, 'heatindex_f': 48.0, 'dewpoint_c': -0.0, 'dewpoint_f': 32.0, 'will_it_rain': 0, 'chance_of_rain': 0, 'will_it_snow': 0, 'chance_of_snow': 0, 'vis_km': 10.0, 'vis_miles': 6.0, 'gust_mph': 4.7, 'gust_kph': 7.6, 'uv': 0.0}]}]}}\n",
      "Sunny\n",
      "SUNNY\n",
      "UNKNOWN, UNHEALTHY_CONSUMPTION, GOOD_SLEEP, GOOD_HEART_RATE, POOR_BLOOD_PRESSURE,  HIGH_STRESS , HIGH_SOCIAL\n",
      "Emotion Classification Result:\n",
      "  Regular Day, I am feeling good\n",
      "  Superclass: Positive\n",
      "  Sub-emotion: joy (0.553)\n"
     ]
    },
    {
     "name": "stderr",
     "output_type": "stream",
     "text": [
      "Setting `pad_token_id` to `eos_token_id`:2 for open-end generation.\n"
     ]
    },
    {
     "name": "stdout",
     "output_type": "stream",
     "text": [
      "{'location': {'name': 'Brooklyn', 'region': 'New York', 'country': 'United States of America', 'lat': 40.65, 'lon': -73.95, 'tz_id': 'America/New_York', 'localtime_epoch': 1745730336, 'localtime': '2025-04-27 01:05'}, 'forecast': {'forecastday': [{'date': '2025-03-19', 'date_epoch': 1742342400, 'day': {'maxtemp_c': 10.8, 'maxtemp_f': 51.4, 'mintemp_c': 4.9, 'mintemp_f': 40.9, 'avgtemp_c': 7.8, 'avgtemp_f': 46.0, 'maxwind_mph': 11.0, 'maxwind_kph': 17.6, 'totalprecip_mm': 0.0, 'totalprecip_in': 0.0, 'totalsnow_cm': 0.0, 'avgvis_km': 10.0, 'avgvis_miles': 6.0, 'avghumidity': 79, 'daily_will_it_rain': 0, 'daily_chance_of_rain': 0, 'daily_will_it_snow': 0, 'daily_chance_of_snow': 0, 'condition': {'text': 'Overcast', 'icon': '//cdn.weatherapi.com/weather/64x64/day/122.png', 'code': 1009}, 'uv': 3.0}, 'astro': {'sunrise': '07:00 AM', 'sunset': '07:07 PM', 'moonrise': 'No moonrise', 'moonset': '09:09 AM', 'moon_phase': 'Waning Gibbous', 'moon_illumination': 80}, 'hour': [{'time_epoch': 1742356800, 'time': '2025-03-19 00:00', 'temp_c': 9.4, 'temp_f': 49.0, 'is_day': 0, 'condition': {'text': 'Clear', 'icon': '//cdn.weatherapi.com/weather/64x64/night/113.png', 'code': 1000}, 'wind_mph': 2.7, 'wind_kph': 4.3, 'wind_degree': 358, 'wind_dir': 'N', 'pressure_mb': 1017.0, 'pressure_in': 30.05, 'precip_mm': 0.0, 'precip_in': 0.0, 'snow_cm': 0.0, 'humidity': 70, 'cloud': 0, 'feelslike_c': 9.3, 'feelslike_f': 48.8, 'windchill_c': 9.3, 'windchill_f': 48.8, 'heatindex_c': 9.4, 'heatindex_f': 49.0, 'dewpoint_c': 4.0, 'dewpoint_f': 39.1, 'will_it_rain': 0, 'chance_of_rain': 0, 'will_it_snow': 0, 'chance_of_snow': 0, 'vis_km': 10.0, 'vis_miles': 6.0, 'gust_mph': 5.6, 'gust_kph': 9.1, 'uv': 0.0}, {'time_epoch': 1742360400, 'time': '2025-03-19 01:00', 'temp_c': 7.7, 'temp_f': 45.9, 'is_day': 0, 'condition': {'text': 'Clear', 'icon': '//cdn.weatherapi.com/weather/64x64/night/113.png', 'code': 1000}, 'wind_mph': 4.3, 'wind_kph': 6.8, 'wind_degree': 53, 'wind_dir': 'NE', 'pressure_mb': 1017.0, 'pressure_in': 30.04, 'precip_mm': 0.0, 'precip_in': 0.0, 'snow_cm': 0.0, 'humidity': 74, 'cloud': 0, 'feelslike_c': 6.6, 'feelslike_f': 43.9, 'windchill_c': 6.6, 'windchill_f': 43.9, 'heatindex_c': 7.7, 'heatindex_f': 45.9, 'dewpoint_c': 3.1, 'dewpoint_f': 37.5, 'will_it_rain': 0, 'chance_of_rain': 0, 'will_it_snow': 0, 'chance_of_snow': 0, 'vis_km': 10.0, 'vis_miles': 6.0, 'gust_mph': 8.9, 'gust_kph': 14.3, 'uv': 0.0}, {'time_epoch': 1742364000, 'time': '2025-03-19 02:00', 'temp_c': 8.3, 'temp_f': 46.9, 'is_day': 0, 'condition': {'text': 'Clear', 'icon': '//cdn.weatherapi.com/weather/64x64/night/113.png', 'code': 1000}, 'wind_mph': 4.7, 'wind_kph': 7.6, 'wind_degree': 55, 'wind_dir': 'NE', 'pressure_mb': 1017.0, 'pressure_in': 30.04, 'precip_mm': 0.0, 'precip_in': 0.0, 'snow_cm': 0.0, 'humidity': 77, 'cloud': 0, 'feelslike_c': 7.1, 'feelslike_f': 44.8, 'windchill_c': 7.1, 'windchill_f': 44.8, 'heatindex_c': 8.3, 'heatindex_f': 46.9, 'dewpoint_c': 4.6, 'dewpoint_f': 40.2, 'will_it_rain': 0, 'chance_of_rain': 0, 'will_it_snow': 0, 'chance_of_snow': 0, 'vis_km': 10.0, 'vis_miles': 6.0, 'gust_mph': 9.6, 'gust_kph': 15.5, 'uv': 0.0}, {'time_epoch': 1742367600, 'time': '2025-03-19 03:00', 'temp_c': 6.8, 'temp_f': 44.3, 'is_day': 0, 'condition': {'text': 'Clear', 'icon': '//cdn.weatherapi.com/weather/64x64/night/113.png', 'code': 1000}, 'wind_mph': 4.7, 'wind_kph': 7.6, 'wind_degree': 64, 'wind_dir': 'ENE', 'pressure_mb': 1017.0, 'pressure_in': 30.04, 'precip_mm': 0.0, 'precip_in': 0.0, 'snow_cm': 0.0, 'humidity': 81, 'cloud': 0, 'feelslike_c': 5.4, 'feelslike_f': 41.7, 'windchill_c': 5.4, 'windchill_f': 41.7, 'heatindex_c': 6.8, 'heatindex_f': 44.3, 'dewpoint_c': 2.9, 'dewpoint_f': 37.2, 'will_it_rain': 0, 'chance_of_rain': 0, 'will_it_snow': 0, 'chance_of_snow': 0, 'vis_km': 10.0, 'vis_miles': 6.0, 'gust_mph': 9.4, 'gust_kph': 15.2, 'uv': 0.0}, {'time_epoch': 1742371200, 'time': '2025-03-19 04:00', 'temp_c': 6.2, 'temp_f': 43.2, 'is_day': 0, 'condition': {'text': 'Clear', 'icon': '//cdn.weatherapi.com/weather/64x64/night/113.png', 'code': 1000}, 'wind_mph': 6.5, 'wind_kph': 10.4, 'wind_degree': 86, 'wind_dir': 'E', 'pressure_mb': 1017.0, 'pressure_in': 30.04, 'precip_mm': 0.0, 'precip_in': 0.0, 'snow_cm': 0.0, 'humidity': 84, 'cloud': 0, 'feelslike_c': 4.1, 'feelslike_f': 39.3, 'windchill_c': 4.1, 'windchill_f': 39.3, 'heatindex_c': 6.2, 'heatindex_f': 43.2, 'dewpoint_c': 3.0, 'dewpoint_f': 37.3, 'will_it_rain': 0, 'chance_of_rain': 0, 'will_it_snow': 0, 'chance_of_snow': 0, 'vis_km': 10.0, 'vis_miles': 6.0, 'gust_mph': 9.8, 'gust_kph': 15.8, 'uv': 0.0}, {'time_epoch': 1742374800, 'time': '2025-03-19 05:00', 'temp_c': 5.7, 'temp_f': 42.2, 'is_day': 0, 'condition': {'text': 'Clear', 'icon': '//cdn.weatherapi.com/weather/64x64/night/113.png', 'code': 1000}, 'wind_mph': 6.7, 'wind_kph': 10.8, 'wind_degree': 100, 'wind_dir': 'E', 'pressure_mb': 1017.0, 'pressure_in': 30.05, 'precip_mm': 0.0, 'precip_in': 0.0, 'snow_cm': 0.0, 'humidity': 86, 'cloud': 0, 'feelslike_c': 3.3, 'feelslike_f': 38.0, 'windchill_c': 3.3, 'windchill_f': 38.0, 'heatindex_c': 5.7, 'heatindex_f': 42.2, 'dewpoint_c': 3.1, 'dewpoint_f': 37.5, 'will_it_rain': 0, 'chance_of_rain': 0, 'will_it_snow': 0, 'chance_of_snow': 0, 'vis_km': 10.0, 'vis_miles': 6.0, 'gust_mph': 9.7, 'gust_kph': 15.6, 'uv': 0.0}, {'time_epoch': 1742378400, 'time': '2025-03-19 06:00', 'temp_c': 5.3, 'temp_f': 41.5, 'is_day': 0, 'condition': {'text': 'Clear', 'icon': '//cdn.weatherapi.com/weather/64x64/night/113.png', 'code': 1000}, 'wind_mph': 6.9, 'wind_kph': 11.2, 'wind_degree': 115, 'wind_dir': 'ESE', 'pressure_mb': 1018.0, 'pressure_in': 30.07, 'precip_mm': 0.0, 'precip_in': 0.0, 'snow_cm': 0.0, 'humidity': 89, 'cloud': 13, 'feelslike_c': 2.8, 'feelslike_f': 37.0, 'windchill_c': 2.8, 'windchill_f': 37.0, 'heatindex_c': 5.3, 'heatindex_f': 41.5, 'dewpoint_c': 3.1, 'dewpoint_f': 37.5, 'will_it_rain': 0, 'chance_of_rain': 0, 'will_it_snow': 0, 'chance_of_snow': 0, 'vis_km': 10.0, 'vis_miles': 6.0, 'gust_mph': 12.0, 'gust_kph': 19.3, 'uv': 0.0}, {'time_epoch': 1742382000, 'time': '2025-03-19 07:00', 'temp_c': 4.9, 'temp_f': 40.9, 'is_day': 0, 'condition': {'text': 'Clear', 'icon': '//cdn.weatherapi.com/weather/64x64/night/113.png', 'code': 1000}, 'wind_mph': 6.3, 'wind_kph': 10.1, 'wind_degree': 123, 'wind_dir': 'ESE', 'pressure_mb': 1019.0, 'pressure_in': 30.08, 'precip_mm': 0.0, 'precip_in': 0.0, 'snow_cm': 0.0, 'humidity': 90, 'cloud': 19, 'feelslike_c': 2.6, 'feelslike_f': 36.6, 'windchill_c': 2.6, 'windchill_f': 36.6, 'heatindex_c': 4.9, 'heatindex_f': 40.9, 'dewpoint_c': 3.0, 'dewpoint_f': 37.4, 'will_it_rain': 0, 'chance_of_rain': 0, 'will_it_snow': 0, 'chance_of_snow': 0, 'vis_km': 10.0, 'vis_miles': 6.0, 'gust_mph': 10.2, 'gust_kph': 16.5, 'uv': 0.0}, {'time_epoch': 1742385600, 'time': '2025-03-19 08:00', 'temp_c': 5.8, 'temp_f': 42.4, 'is_day': 1, 'condition': {'text': 'Partly cloudy', 'icon': '//cdn.weatherapi.com/weather/64x64/day/116.png', 'code': 1003}, 'wind_mph': 4.3, 'wind_kph': 6.8, 'wind_degree': 136, 'wind_dir': 'SE', 'pressure_mb': 1019.0, 'pressure_in': 30.09, 'precip_mm': 0.0, 'precip_in': 0.0, 'snow_cm': 0.0, 'humidity': 91, 'cloud': 25, 'feelslike_c': 4.4, 'feelslike_f': 39.9, 'windchill_c': 4.4, 'windchill_f': 39.9, 'heatindex_c': 5.8, 'heatindex_f': 42.4, 'dewpoint_c': 2.9, 'dewpoint_f': 37.2, 'will_it_rain': 0, 'chance_of_rain': 0, 'will_it_snow': 0, 'chance_of_snow': 0, 'vis_km': 10.0, 'vis_miles': 6.0, 'gust_mph': 6.5, 'gust_kph': 10.4, 'uv': 3.0}, {'time_epoch': 1742389200, 'time': '2025-03-19 09:00', 'temp_c': 7.1, 'temp_f': 44.8, 'is_day': 1, 'condition': {'text': 'Sunny', 'icon': '//cdn.weatherapi.com/weather/64x64/day/113.png', 'code': 1000}, 'wind_mph': 4.5, 'wind_kph': 7.2, 'wind_degree': 138, 'wind_dir': 'SE', 'pressure_mb': 1019.0, 'pressure_in': 30.1, 'precip_mm': 0.0, 'precip_in': 0.0, 'snow_cm': 0.0, 'humidity': 78, 'cloud': 16, 'feelslike_c': 5.8, 'feelslike_f': 42.5, 'windchill_c': 5.8, 'windchill_f': 42.5, 'heatindex_c': 7.1, 'heatindex_f': 44.8, 'dewpoint_c': 3.5, 'dewpoint_f': 38.3, 'will_it_rain': 0, 'chance_of_rain': 0, 'will_it_snow': 0, 'chance_of_snow': 0, 'vis_km': 10.0, 'vis_miles': 6.0, 'gust_mph': 6.3, 'gust_kph': 10.1, 'uv': 3.0}, {'time_epoch': 1742392800, 'time': '2025-03-19 10:00', 'temp_c': 9.7, 'temp_f': 49.4, 'is_day': 1, 'condition': {'text': 'Sunny', 'icon': '//cdn.weatherapi.com/weather/64x64/day/113.png', 'code': 1000}, 'wind_mph': 6.5, 'wind_kph': 10.4, 'wind_degree': 143, 'wind_dir': 'SE', 'pressure_mb': 1019.0, 'pressure_in': 30.1, 'precip_mm': 0.0, 'precip_in': 0.0, 'snow_cm': 0.0, 'humidity': 71, 'cloud': 11, 'feelslike_c': 8.2, 'feelslike_f': 46.7, 'windchill_c': 8.2, 'windchill_f': 46.7, 'heatindex_c': 9.7, 'heatindex_f': 49.4, 'dewpoint_c': 4.5, 'dewpoint_f': 40.0, 'will_it_rain': 0, 'chance_of_rain': 0, 'will_it_snow': 0, 'chance_of_snow': 0, 'vis_km': 10.0, 'vis_miles': 6.0, 'gust_mph': 8.7, 'gust_kph': 13.9, 'uv': 3.0}, {'time_epoch': 1742396400, 'time': '2025-03-19 11:00', 'temp_c': 10.1, 'temp_f': 50.3, 'is_day': 1, 'condition': {'text': 'Sunny', 'icon': '//cdn.weatherapi.com/weather/64x64/day/113.png', 'code': 1000}, 'wind_mph': 6.7, 'wind_kph': 10.8, 'wind_degree': 149, 'wind_dir': 'SSE', 'pressure_mb': 1019.0, 'pressure_in': 30.1, 'precip_mm': 0.0, 'precip_in': 0.0, 'snow_cm': 0.0, 'humidity': 64, 'cloud': 7, 'feelslike_c': 8.7, 'feelslike_f': 47.6, 'windchill_c': 8.7, 'windchill_f': 47.6, 'heatindex_c': 10.1, 'heatindex_f': 50.3, 'dewpoint_c': 4.5, 'dewpoint_f': 40.2, 'will_it_rain': 0, 'chance_of_rain': 0, 'will_it_snow': 0, 'chance_of_snow': 0, 'vis_km': 10.0, 'vis_miles': 6.0, 'gust_mph': 8.8, 'gust_kph': 14.2, 'uv': 4.0}, {'time_epoch': 1742400000, 'time': '2025-03-19 12:00', 'temp_c': 10.3, 'temp_f': 50.5, 'is_day': 1, 'condition': {'text': 'Sunny', 'icon': '//cdn.weatherapi.com/weather/64x64/day/113.png', 'code': 1000}, 'wind_mph': 6.9, 'wind_kph': 11.2, 'wind_degree': 150, 'wind_dir': 'SSE', 'pressure_mb': 1019.0, 'pressure_in': 30.1, 'precip_mm': 0.0, 'precip_in': 0.0, 'snow_cm': 0.0, 'humidity': 64, 'cloud': 14, 'feelslike_c': 8.8, 'feelslike_f': 47.8, 'windchill_c': 8.8, 'windchill_f': 47.8, 'heatindex_c': 10.3, 'heatindex_f': 50.5, 'dewpoint_c': 4.1, 'dewpoint_f': 39.3, 'will_it_rain': 0, 'chance_of_rain': 0, 'will_it_snow': 0, 'chance_of_snow': 0, 'vis_km': 10.0, 'vis_miles': 6.0, 'gust_mph': 9.0, 'gust_kph': 14.4, 'uv': 4.0}, {'time_epoch': 1742403600, 'time': '2025-03-19 13:00', 'temp_c': 10.2, 'temp_f': 50.4, 'is_day': 1, 'condition': {'text': 'Sunny', 'icon': '//cdn.weatherapi.com/weather/64x64/day/113.png', 'code': 1000}, 'wind_mph': 8.5, 'wind_kph': 13.7, 'wind_degree': 143, 'wind_dir': 'SE', 'pressure_mb': 1019.0, 'pressure_in': 30.1, 'precip_mm': 0.0, 'precip_in': 0.0, 'snow_cm': 0.0, 'humidity': 64, 'cloud': 17, 'feelslike_c': 8.4, 'feelslike_f': 47.1, 'windchill_c': 8.4, 'windchill_f': 47.1, 'heatindex_c': 10.2, 'heatindex_f': 50.4, 'dewpoint_c': 3.8, 'dewpoint_f': 38.9, 'will_it_rain': 0, 'chance_of_rain': 0, 'will_it_snow': 0, 'chance_of_snow': 0, 'vis_km': 10.0, 'vis_miles': 6.0, 'gust_mph': 10.9, 'gust_kph': 17.5, 'uv': 4.0}, {'time_epoch': 1742407200, 'time': '2025-03-19 14:00', 'temp_c': 10.8, 'temp_f': 51.4, 'is_day': 1, 'condition': {'text': 'Sunny', 'icon': '//cdn.weatherapi.com/weather/64x64/day/113.png', 'code': 1000}, 'wind_mph': 8.9, 'wind_kph': 14.4, 'wind_degree': 148, 'wind_dir': 'SSE', 'pressure_mb': 1019.0, 'pressure_in': 30.09, 'precip_mm': 0.0, 'precip_in': 0.0, 'snow_cm': 0.0, 'humidity': 63, 'cloud': 21, 'feelslike_c': 8.9, 'feelslike_f': 48.1, 'windchill_c': 8.9, 'windchill_f': 48.1, 'heatindex_c': 10.8, 'heatindex_f': 51.4, 'dewpoint_c': 2.1, 'dewpoint_f': 35.8, 'will_it_rain': 0, 'chance_of_rain': 0, 'will_it_snow': 0, 'chance_of_snow': 0, 'vis_km': 10.0, 'vis_miles': 6.0, 'gust_mph': 11.6, 'gust_kph': 18.6, 'uv': 4.0}, {'time_epoch': 1742410800, 'time': '2025-03-19 15:00', 'temp_c': 10.3, 'temp_f': 50.5, 'is_day': 1, 'condition': {'text': 'Partly cloudy', 'icon': '//cdn.weatherapi.com/weather/64x64/day/116.png', 'code': 1003}, 'wind_mph': 7.5, 'wind_kph': 12.1, 'wind_degree': 147, 'wind_dir': 'SSE', 'pressure_mb': 1019.0, 'pressure_in': 30.08, 'precip_mm': 0.0, 'precip_in': 0.0, 'snow_cm': 0.0, 'humidity': 71, 'cloud': 60, 'feelslike_c': 8.6, 'feelslike_f': 47.6, 'windchill_c': 8.6, 'windchill_f': 47.6, 'heatindex_c': 10.3, 'heatindex_f': 50.5, 'dewpoint_c': 2.3, 'dewpoint_f': 36.2, 'will_it_rain': 0, 'chance_of_rain': 0, 'will_it_snow': 0, 'chance_of_snow': 0, 'vis_km': 10.0, 'vis_miles': 6.0, 'gust_mph': 12.7, 'gust_kph': 20.4, 'uv': 4.0}, {'time_epoch': 1742414400, 'time': '2025-03-19 16:00', 'temp_c': 9.8, 'temp_f': 49.6, 'is_day': 1, 'condition': {'text': 'Cloudy', 'icon': '//cdn.weatherapi.com/weather/64x64/day/119.png', 'code': 1006}, 'wind_mph': 7.9, 'wind_kph': 12.8, 'wind_degree': 142, 'wind_dir': 'SE', 'pressure_mb': 1019.0, 'pressure_in': 30.08, 'precip_mm': 0.0, 'precip_in': 0.0, 'snow_cm': 0.0, 'humidity': 75, 'cloud': 79, 'feelslike_c': 8.0, 'feelslike_f': 46.3, 'windchill_c': 8.0, 'windchill_f': 46.3, 'heatindex_c': 9.8, 'heatindex_f': 49.6, 'dewpoint_c': 2.3, 'dewpoint_f': 36.1, 'will_it_rain': 0, 'chance_of_rain': 0, 'will_it_snow': 0, 'chance_of_snow': 0, 'vis_km': 10.0, 'vis_miles': 6.0, 'gust_mph': 14.0, 'gust_kph': 22.5, 'uv': 2.0}, {'time_epoch': 1742418000, 'time': '2025-03-19 17:00', 'temp_c': 8.8, 'temp_f': 47.9, 'is_day': 1, 'condition': {'text': 'Overcast', 'icon': '//cdn.weatherapi.com/weather/64x64/day/122.png', 'code': 1009}, 'wind_mph': 7.2, 'wind_kph': 11.6, 'wind_degree': 142, 'wind_dir': 'SE', 'pressure_mb': 1019.0, 'pressure_in': 30.08, 'precip_mm': 0.0, 'precip_in': 0.0, 'snow_cm': 0.0, 'humidity': 78, 'cloud': 98, 'feelslike_c': 7.0, 'feelslike_f': 44.5, 'windchill_c': 7.0, 'windchill_f': 44.5, 'heatindex_c': 8.8, 'heatindex_f': 47.9, 'dewpoint_c': 3.1, 'dewpoint_f': 37.6, 'will_it_rain': 0, 'chance_of_rain': 0, 'will_it_snow': 0, 'chance_of_snow': 0, 'vis_km': 10.0, 'vis_miles': 6.0, 'gust_mph': 13.2, 'gust_kph': 21.3, 'uv': 2.0}, {'time_epoch': 1742421600, 'time': '2025-03-19 18:00', 'temp_c': 7.9, 'temp_f': 46.2, 'is_day': 1, 'condition': {'text': 'Cloudy', 'icon': '//cdn.weatherapi.com/weather/64x64/day/119.png', 'code': 1006}, 'wind_mph': 7.3, 'wind_kph': 11.8, 'wind_degree': 139, 'wind_dir': 'SE', 'pressure_mb': 1018.0, 'pressure_in': 30.07, 'precip_mm': 0.0, 'precip_in': 0.0, 'snow_cm': 0.0, 'humidity': 88, 'cloud': 81, 'feelslike_c': 5.8, 'feelslike_f': 42.4, 'windchill_c': 5.8, 'windchill_f': 42.4, 'heatindex_c': 7.9, 'heatindex_f': 46.2, 'dewpoint_c': 3.5, 'dewpoint_f': 38.4, 'will_it_rain': 0, 'chance_of_rain': 0, 'will_it_snow': 0, 'chance_of_snow': 0, 'vis_km': 10.0, 'vis_miles': 6.0, 'gust_mph': 13.7, 'gust_kph': 22.1, 'uv': 2.0}, {'time_epoch': 1742425200, 'time': '2025-03-19 19:00', 'temp_c': 6.1, 'temp_f': 43.0, 'is_day': 1, 'condition': {'text': 'Cloudy', 'icon': '//cdn.weatherapi.com/weather/64x64/day/119.png', 'code': 1006}, 'wind_mph': 10.3, 'wind_kph': 16.6, 'wind_degree': 137, 'wind_dir': 'SE', 'pressure_mb': 1018.0, 'pressure_in': 30.07, 'precip_mm': 0.0, 'precip_in': 0.0, 'snow_cm': 0.0, 'humidity': 92, 'cloud': 72, 'feelslike_c': 2.9, 'feelslike_f': 37.2, 'windchill_c': 2.9, 'windchill_f': 37.2, 'heatindex_c': 6.1, 'heatindex_f': 43.0, 'dewpoint_c': 4.8, 'dewpoint_f': 40.6, 'will_it_rain': 0, 'chance_of_rain': 0, 'will_it_snow': 0, 'chance_of_snow': 0, 'vis_km': 10.0, 'vis_miles': 6.0, 'gust_mph': 14.5, 'gust_kph': 23.4, 'uv': 2.0}, {'time_epoch': 1742428800, 'time': '2025-03-19 20:00', 'temp_c': 5.5, 'temp_f': 41.9, 'is_day': 0, 'condition': {'text': 'Cloudy', 'icon': '//cdn.weatherapi.com/weather/64x64/night/119.png', 'code': 1006}, 'wind_mph': 11.0, 'wind_kph': 17.6, 'wind_degree': 135, 'wind_dir': 'SE', 'pressure_mb': 1018.0, 'pressure_in': 30.07, 'precip_mm': 0.0, 'precip_in': 0.0, 'snow_cm': 0.0, 'humidity': 97, 'cloud': 64, 'feelslike_c': 2.0, 'feelslike_f': 35.5, 'windchill_c': 2.0, 'windchill_f': 35.5, 'heatindex_c': 5.5, 'heatindex_f': 41.9, 'dewpoint_c': 4.9, 'dewpoint_f': 40.9, 'will_it_rain': 0, 'chance_of_rain': 0, 'will_it_snow': 0, 'chance_of_snow': 0, 'vis_km': 10.0, 'vis_miles': 6.0, 'gust_mph': 15.4, 'gust_kph': 24.8, 'uv': 0.0}, {'time_epoch': 1742432400, 'time': '2025-03-19 21:00', 'temp_c': 6.4, 'temp_f': 43.5, 'is_day': 0, 'condition': {'text': 'Cloudy', 'icon': '//cdn.weatherapi.com/weather/64x64/night/119.png', 'code': 1006}, 'wind_mph': 10.7, 'wind_kph': 17.3, 'wind_degree': 136, 'wind_dir': 'SE', 'pressure_mb': 1017.0, 'pressure_in': 30.04, 'precip_mm': 0.0, 'precip_in': 0.0, 'snow_cm': 0.0, 'humidity': 97, 'cloud': 82, 'feelslike_c': 3.1, 'feelslike_f': 37.6, 'windchill_c': 3.1, 'windchill_f': 37.6, 'heatindex_c': 6.4, 'heatindex_f': 43.5, 'dewpoint_c': 4.0, 'dewpoint_f': 39.1, 'will_it_rain': 0, 'chance_of_rain': 0, 'will_it_snow': 0, 'chance_of_snow': 0, 'vis_km': 10.0, 'vis_miles': 6.0, 'gust_mph': 15.1, 'gust_kph': 24.3, 'uv': 0.0}, {'time_epoch': 1742436000, 'time': '2025-03-19 22:00', 'temp_c': 7.5, 'temp_f': 45.5, 'is_day': 0, 'condition': {'text': 'Overcast', 'icon': '//cdn.weatherapi.com/weather/64x64/night/122.png', 'code': 1009}, 'wind_mph': 11.0, 'wind_kph': 17.6, 'wind_degree': 137, 'wind_dir': 'SE', 'pressure_mb': 1018.0, 'pressure_in': 30.06, 'precip_mm': 0.0, 'precip_in': 0.0, 'snow_cm': 0.0, 'humidity': 97, 'cloud': 91, 'feelslike_c': 4.5, 'feelslike_f': 40.1, 'windchill_c': 4.5, 'windchill_f': 40.1, 'heatindex_c': 7.5, 'heatindex_f': 45.5, 'dewpoint_c': 4.2, 'dewpoint_f': 39.5, 'will_it_rain': 0, 'chance_of_rain': 0, 'will_it_snow': 0, 'chance_of_snow': 0, 'vis_km': 10.0, 'vis_miles': 6.0, 'gust_mph': 15.3, 'gust_kph': 24.6, 'uv': 0.0}, {'time_epoch': 1742439600, 'time': '2025-03-19 23:00', 'temp_c': 5.8, 'temp_f': 42.5, 'is_day': 0, 'condition': {'text': 'Clear', 'icon': '//cdn.weatherapi.com/weather/64x64/night/113.png', 'code': 1000}, 'wind_mph': 9.8, 'wind_kph': 15.8, 'wind_degree': 141, 'wind_dir': 'SE', 'pressure_mb': 1018.0, 'pressure_in': 30.05, 'precip_mm': 0.0, 'precip_in': 0.0, 'snow_cm': 0.0, 'humidity': 63, 'cloud': 0, 'feelslike_c': 2.7, 'feelslike_f': 36.8, 'windchill_c': 2.7, 'windchill_f': 36.8, 'heatindex_c': 5.8, 'heatindex_f': 42.5, 'dewpoint_c': 3.4, 'dewpoint_f': 38.1, 'will_it_rain': 0, 'chance_of_rain': 0, 'will_it_snow': 0, 'chance_of_snow': 0, 'vis_km': 10.0, 'vis_miles': 6.0, 'gust_mph': 13.7, 'gust_kph': 22.0, 'uv': 0.0}]}]}}\n",
      "Overcast\n",
      "CLOUDY\n"
     ]
    }
   ],
   "source": [
    "# Resulting Classification probability output from Regressor_Predictive_Model File\n",
    "import torch\n",
    "import time\n",
    "\n",
    "regressor_probs = torch.Tensor([0.3,0.3, 0.4])\n",
    "\n",
    "daily_activity_recommendation_list = []\n",
    "\n",
    "for index, row in daily_df.iterrows():\n",
    "    if index > 5:\n",
    "        break\n",
    "    notes = row['Notes']  # Get the note for this row\n",
    "    date = row['Date'] # Get the date for this row\n",
    "    # mental_body_state_tags = row['tags_per_row_str']\n",
    "    mental_body_state_tags = wellness_df.loc[wellness_df.index[0], 'tags_per_row_str']\n",
    "    print(mental_body_state_tags)\n",
    "\n",
    "    # Assume regressor_probs is available\n",
    "    regressor_probs = torch.Tensor([0.3,0.3, 0.4])\n",
    "\n",
    "    # features_for_regressor = row[[\"duration_of_sleep_hours\", \"quality_of_sleep_110\", \"level_of_stress_scale_110\", \n",
    "    #                             \"level_of_workload_scale_110\"]]    \n",
    "\n",
    "    # # Assume regressor_probs is available\n",
    "    # # Assumes that RegressorModel is already loaded into the variables\n",
    "\n",
    "    # regressor_probs = invoke_regressor(features_for_regressor)\n",
    "    \n",
    "    # # assuming regressor is not defined as a global variable, but it should be in the context of your notebook\n",
    "    # regressor_probs = invoke_Regressor(regressor_model,features_for_regressor)\n",
    "\n",
    "    # Run the function on each note\n",
    "    result = run_emotion_pipeline(notes, regressor_probs)\n",
    "\n",
    "    print(\"Emotion Classification Result:\")\n",
    "    print(f\"  {notes}\")\n",
    "    print(f\"  Superclass: {result['superclass']}\")\n",
    "    print(f\"  Sub-emotion: {result['sub_emotion']} ({result['confidence']:.3f})\")\n",
    "    # print(\"  Top 5 Emotions:\")\n",
    "    # for label, prob in result[\"top_5_emotions\"]:\n",
    "    #     print(f\"    - {label}: {prob:.4f}\")\n",
    "\n",
    "    superclass_emotion = result['superclass']\n",
    "    sub_emotion = result['sub_emotion']\n",
    "    mood_string = f\"{superclass_emotion} - {sub_emotion}\"\n",
    "\n",
    "    weather_description = fetch_past_weather_data(location, date, WEATHER_API_KEY) \n",
    "    print(weather_description)\n",
    "    # time.sleep(1)\n",
    "\n",
    "    weather_situation = classify_weather_situation(weather_description)\n",
    "    print(weather_situation)\n",
    "    \n",
    "    daily_recommended_activities= generate_activity_suggestions(mood_string, weather_situation, mental_body_state_tags, preferences)\n",
    "\n",
    "    generated_prompt_parts = daily_recommended_activities.split(\"[/INST]\")\n",
    "\n",
    "    generated_prompt_question = generated_prompt_parts[0]\n",
    "    generated_prompt_answer = generated_prompt_parts[1]\n",
    "    \n",
    "    daily_activity_recommendation_list.append(f\"{generated_prompt_question}:\"\n",
    "                                              f\"    {generated_prompt_answer}\")\n",
    "\n",
    "\n",
    "# result = run_emotion_pipeline(notes, regressor_probs)\n",
    "\n",
    "# print(\"Emotion Classification Result:\")\n",
    "# print(f\"  Superclass: {result['superclass']}\")\n",
    "# print(f\"  Sub-emotion: {result['sub_emotion']} ({result['confidence']:.3f})\")\n",
    "# print(\"  Top 5 Emotions:\")\n",
    "# for label, prob in result[\"top_5_emotions\"]:\n",
    "#     print(f\"    - {label}: {prob:.4f}\")\n"
   ]
  },
  {
   "cell_type": "code",
   "execution_count": null,
   "id": "12abe6f5",
   "metadata": {},
   "outputs": [
    {
     "name": "stdout",
     "output_type": "stream",
     "text": [
      "[\"[INST] The user is feeling Negative - nervousness, the weather is CLOUDY, and they are currently in a state of UNKNOWN, UNHEALTHY_CONSUMPTION, GOOD_SLEEP, GOOD_HEART_RATE, POOR_BLOOD_PRESSURE,  HIGH_STRESS , HIGH_SOCIAL. They typically enjoy activities like Watching Movies, Gaming, Sleeping. Based on the weather, user's mood, state, and preferences, suggest at most 3 relevant (preferably fitness-focused for at least 1 activity) activities with a 50-word short description for each one, that would produce a healthy mental well-being in the user. :     Activity 1: Yoga Movie Night\\nDescription: Escape to a peaceful world by watching yoga movies while practicing some gentle stretches. This will help you relax your body and mind after a long day.\\r\\n\\r\\nActivity 2: Virtual Fitness Classes\\r\\nDescription: Work out from the comfort of your home through virtual classes. These classes cater to all fitness levels and can be done indoors or outdoors depending on the weather.\\r\\n\\r\\nActivity 3: Mindful Walking\\r\\nDescription: Take a break from technology and go for a walk outside. Focus on breathing deeply and taking slow steps, allowing yourself to clear your mind and take in the beauty around you.\", \"[INST] The user is feeling Neutral - neutral, the weather is RAINY, and they are currently in a state of UNKNOWN, UNHEALTHY_CONSUMPTION, GOOD_SLEEP, GOOD_HEART_RATE, POOR_BLOOD_PRESSURE,  HIGH_STRESS , HIGH_SOCIAL. They typically enjoy activities like Watching Movies, Gaming, Sleeping. Based on the weather, user's mood, state, and preferences, suggest at most 3 relevant (preferably fitness-focused for at least 1 activity) activities with a 50-word short description for each one, that would produce a healthy mental well-being in the user. :     1. Yoga: A low impact exercise that can help reduce stress and improve flexibility. Practice yoga indoors during rainy days to maintain your routine.\\r\\n\\r\\n2. Meditation: Incorporate meditation into your daily routine. It helps to clear the mind and reduce anxiety levels, making it an excellent option for users experiencing high stress and poor sleep quality.\\r\\n\\r\\n3. Indoor cycling: Enjoy some cardio without leaving your home! Cycling is a great workout that improves heart health and burns calories while reducing blood pressure.\", \"[INST] The user is feeling Positive - joy, the weather is CLOUDY, and they are currently in a state of UNKNOWN, UNHEALTHY_CONSUMPTION, GOOD_SLEEP, GOOD_HEART_RATE, POOR_BLOOD_PRESSURE,  HIGH_STRESS , HIGH_SOCIAL. They typically enjoy activities like Watching Movies, Gaming, Sleeping. Based on the weather, user's mood, state, and preferences, suggest at most 3 relevant (preferably fitness-focused for at least 1 activity) activities with a 50-word short description for each one, that would produce a healthy mental well-being in the user. :     Here are three fitness-focused activities that could improve your overall well-being:\\r\\n\\r\\n1. Yoga: A mindful practice that strengthens muscles while promoting relaxation and stress relief.\\r\\n2. Pilates: Low impact exercises that focus on core strength and flexibility to reduce chronic pain and increase mobility.\\r\\n3. Walking: An easy form of exercise that can be done anywhere, anytime to boost energy levels and decrease anxiety.\", \"[INST] The user is feeling Positive - admiration, the weather is RAINY, and they are currently in a state of UNKNOWN, UNHEALTHY_CONSUMPTION, GOOD_SLEEP, GOOD_HEART_RATE, POOR_BLOOD_PRESSURE,  HIGH_STRESS , HIGH_SOCIAL. They typically enjoy activities like Watching Movies, Gaming, Sleeping. Based on the weather, user's mood, state, and preferences, suggest at most 3 relevant (preferably fitness-focused for at least 1 activity) activities with a 50-word short description for each one, that would produce a healthy mental well-being in the user. :     1. Yoga: Practice mindfulness and relaxation through yoga poses to lower stress levels and improve heart health.\\r\\n\\r\\n2. Strength training: Boost energy levels and reduce social anxiety by lifting weights and building muscle strength.\\r\\n\\r\\n3. Meditation: Improve sleep quality and overall wellness through guided meditation sessions focused on breathing exercises and visualization techniques.\"]\n"
     ]
    }
   ],
   "source": [
    "for string in daily_activity_recommendation_list:\n",
    "    print(string)\n",
    "# print(daily_activity_recommendation_list)"
   ]
  },
  {
   "cell_type": "code",
   "execution_count": null,
   "id": "8e5ff1f7",
   "metadata": {},
   "outputs": [],
   "source": []
  }
 ],
 "metadata": {
  "kernelspec": {
   "display_name": "Python 3",
   "language": "python",
   "name": "python3"
  },
  "language_info": {
   "codemirror_mode": {
    "name": "ipython",
    "version": 3
   },
   "file_extension": ".py",
   "mimetype": "text/x-python",
   "name": "python",
   "nbconvert_exporter": "python",
   "pygments_lexer": "ipython3",
   "version": "3.12.6"
  }
 },
 "nbformat": 4,
 "nbformat_minor": 5
}
